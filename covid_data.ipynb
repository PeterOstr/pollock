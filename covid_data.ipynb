{
 "cells": [
  {
   "cell_type": "code",
   "execution_count": 31,
   "id": "initial_id",
   "metadata": {
    "collapsed": true,
    "ExecuteTime": {
     "end_time": "2024-01-10T22:11:36.475621300Z",
     "start_time": "2024-01-10T22:11:36.462804700Z"
    }
   },
   "outputs": [],
   "source": [
    "import pandas as pd\n",
    "import numpy as np\n",
    "from sklearn.model_selection import train_test_split, cross_val_score\n",
    "from sklearn.pipeline import Pipeline\n",
    "from sklearn.impute import KNNImputer, SimpleImputer\n",
    "from sklearn.preprocessing import PowerTransformer\n",
    "from sklearn.preprocessing import StandardScaler, OneHotEncoder\n",
    "from sklearn.compose import ColumnTransformer\n",
    "\n",
    "import xgboost as xgb\n",
    "import catboost\n",
    "from catboost import CatBoostClassifier, Pool\n",
    "import lightgbm as lgb\n",
    "from lightgbm import LGBMClassifier\n",
    "from sklearn.neighbors import KNeighborsClassifier\n",
    "from sklearn.linear_model import LogisticRegression\n",
    "from sklearn.naive_bayes import GaussianNB\n",
    "\n",
    "\n",
    "\n",
    "from sklearn.model_selection import RandomizedSearchCV, GridSearchCV\n",
    "from PIL import Image\n",
    "import mlflow\n",
    "import mlflow.sklearn\n",
    "from sklearn.model_selection import StratifiedKFold\n",
    "from sklearn.metrics import accuracy_score, recall_score, f1_score, roc_auc_score, roc_curve\n",
    "import optuna\n",
    "\n",
    "import joblib\n",
    "import json\n",
    "\n",
    "import matplotlib.pyplot as plt\n",
    "import seaborn as sns\n",
    "\n",
    "from mlflow import MlflowClient\n",
    "import requests"
   ]
  },
  {
   "cell_type": "markdown",
   "source": [
    "## Table of content\n",
    "- 1. [COVID-19](#1-covid-19-dataset-)\n",
    "- 2. [23_end](#pipeline)"
   ],
   "metadata": {
    "collapsed": false
   },
   "id": "edbbc6dcc2da5042"
  },
  {
   "cell_type": "markdown",
   "source": [],
   "metadata": {
    "collapsed": false
   },
   "id": "3d45fe8903d15b75"
  },
  {
   "cell_type": "markdown",
   "source": [
    "<a id=COVID-19 Dataset></a>"
   ],
   "metadata": {
    "collapsed": false
   },
   "id": "34efe3a9c785a653"
  },
  {
   "cell_type": "markdown",
   "source": [
    "## 1. COVID-19 Dataset "
   ],
   "metadata": {
    "collapsed": false
   },
   "id": "1fc85cccbb47aaa5"
  },
  {
   "cell_type": "markdown",
   "source": [
    "\n",
    "\n",
    "#### COVID-19 patient's symptoms, status, and medical history.\n",
    "\n",
    "#### About Dataset\n",
    "\n",
    "This dataset is taken from Kaggle platform (https://www.kaggle.com/datasets/meirnizri/covid19-dataset)  \n",
    "\n",
    "\n",
    "##### Context  \n",
    "\n",
    "Coronavirus disease (COVID-19) is an infectious disease caused by a newly discovered coronavirus. Most people infected with COVID-19 virus will experience mild to moderate respiratory illness and recover without requiring special treatment. Older people, and those with underlying medical problems like cardiovascular disease, diabetes, chronic respiratory disease, and cancer are more likely to develop serious illness.\n",
    "During the entire course of the pandemic, one of the main problems that healthcare providers have faced is the shortage of medical resources and a proper plan to efficiently distribute them. In these tough times, being able to predict what kind of resource an individual might require at the time of being tested positive or even before that will be of immense help to the authorities as they would be able to procure and arrange for the resources necessary to save the life of that patient.\n",
    "\n",
    "The main goal of this project is to build a machine learning model that, given a Covid-19 patient's current symptom, status, and medical history, will predict whether the patient is in high risk or not.\n",
    "\n",
    "##### content\n",
    "The dataset was provided by the Mexican government (link). This dataset contains an enormous number of anonymized patient-related information including pre-conditions. The raw dataset consists of 21 unique features and 1,048,576 unique patients. In the Boolean features, 1 means \"yes\" and 2 means \"no\". values as 97 and 99 are missing data.\n",
    "\n",
    "- sex: 1 for female and 2 for male.\n",
    "- age: of the patient.\n",
    "- classification: covid test findings. Values 1-3 mean that the patient was diagnosed with covid in different\n",
    "degrees. 4 or higher means that the patient is not a carrier of covid or that the test is inconclusive.\n",
    "- patient type: type of care the patient received in the unit. 1 for returned home and 2 for hospitalization.\n",
    "- pneumonia: whether the patient already have air sacs inflammation or not.\n",
    "- pregnancy: whether the patient is pregnant or not.\n",
    "- diabetes: whether the patient has diabetes or not.\n",
    "- copd: Indicates whether the patient has Chronic obstructive pulmonary disease or not.\n",
    "- asthma: whether the patient has asthma or not.\n",
    "- inmsupr: whether the patient is immunosuppressed or not.\n",
    "- hypertension: whether the patient has hypertension or not.\n",
    "- cardiovascular: whether the patient has heart or blood vessels related disease.\n",
    "- renal chronic: whether the patient has chronic renal disease or not.\n",
    "- other disease: whether the patient has other disease or not.\n",
    "- obesity: whether the patient is obese or not.\n",
    "- tobacco: whether the patient is a tobacco user.\n",
    "- usmr: Indicates whether the patient treated medical units of the first, second or third level.\n",
    "- medical unit: type of institution of the National Health System that provided the care.\n",
    "- intubed: whether the patient was connected to the ventilator.\n",
    "- icu: Indicates whether the patient had been admitted to an Intensive Care Unit.\n",
    "- date died: If the patient died indicate the date of death, and 9999-99-99 otherwise."
   ],
   "metadata": {
    "collapsed": false
   },
   "id": "18207ea169a21430"
  },
  {
   "cell_type": "code",
   "execution_count": 17,
   "outputs": [
    {
     "data": {
      "text/plain": "        Unnamed: 0  USMER  MEDICAL_UNIT  SEX  PATIENT_TYPE   DATE_DIED  \\\n0                0      2             1    1             1  03/05/2020   \n1                1      2             1    2             1  03/06/2020   \n2                2      2             1    2             2  09/06/2020   \n3                3      2             1    1             1  12/06/2020   \n4                4      2             1    2             1  21/06/2020   \n...            ...    ...           ...  ...           ...         ...   \n899995      899995      2            12    1             1  9999-99-99   \n899996      899996      2            12    2             1  9999-99-99   \n899997      899997      2            12    1             1  9999-99-99   \n899998      899998      2            12    1             1  9999-99-99   \n899999      899999      1            12    1             1  9999-99-99   \n\n        INTUBED  PNEUMONIA  AGE  PREGNANT  ...  ASTHMA  INMSUPR  HIPERTENSION  \\\n0            97          1   65         2  ...       2        2             1   \n1            97          1   72        97  ...       2        2             1   \n2             1          2   55        97  ...       2        2             2   \n3            97          2   53         2  ...       2        2             2   \n4            97          2   68        97  ...       2        2             1   \n...         ...        ...  ...       ...  ...     ...      ...           ...   \n899995       97          2   52         2  ...       2        2             1   \n899996       97          2    4        97  ...       2        2             2   \n899997       97          2   24         2  ...       2        2             2   \n899998       97          2   22         2  ...       2        2             2   \n899999       97          2   50         2  ...       2        2             2   \n\n        OTHER_DISEASE  CARDIOVASCULAR  OBESITY  RENAL_CHRONIC  TOBACCO  \\\n0                   2               2        2              2        2   \n1                   2               2        1              1        2   \n2                   2               2        2              2        2   \n3                   2               2        2              2        2   \n4                   2               2        2              2        2   \n...               ...             ...      ...            ...      ...   \n899995              2               2        2              2        2   \n899996              2               2        2              2        2   \n899997              2               2        2              2        2   \n899998              2               2        2              2        2   \n899999              2               2        2              2        2   \n\n        CLASIFFICATION_FINAL  ICU  \n0                          3   97  \n1                          5   97  \n2                          3    2  \n3                          7   97  \n4                          3   97  \n...                      ...  ...  \n899995                     7   97  \n899996                     7   97  \n899997                     7   97  \n899998                     7   97  \n899999                     7   97  \n\n[900000 rows x 22 columns]",
      "text/html": "<div>\n<style scoped>\n    .dataframe tbody tr th:only-of-type {\n        vertical-align: middle;\n    }\n\n    .dataframe tbody tr th {\n        vertical-align: top;\n    }\n\n    .dataframe thead th {\n        text-align: right;\n    }\n</style>\n<table border=\"1\" class=\"dataframe\">\n  <thead>\n    <tr style=\"text-align: right;\">\n      <th></th>\n      <th>Unnamed: 0</th>\n      <th>USMER</th>\n      <th>MEDICAL_UNIT</th>\n      <th>SEX</th>\n      <th>PATIENT_TYPE</th>\n      <th>DATE_DIED</th>\n      <th>INTUBED</th>\n      <th>PNEUMONIA</th>\n      <th>AGE</th>\n      <th>PREGNANT</th>\n      <th>...</th>\n      <th>ASTHMA</th>\n      <th>INMSUPR</th>\n      <th>HIPERTENSION</th>\n      <th>OTHER_DISEASE</th>\n      <th>CARDIOVASCULAR</th>\n      <th>OBESITY</th>\n      <th>RENAL_CHRONIC</th>\n      <th>TOBACCO</th>\n      <th>CLASIFFICATION_FINAL</th>\n      <th>ICU</th>\n    </tr>\n  </thead>\n  <tbody>\n    <tr>\n      <th>0</th>\n      <td>0</td>\n      <td>2</td>\n      <td>1</td>\n      <td>1</td>\n      <td>1</td>\n      <td>03/05/2020</td>\n      <td>97</td>\n      <td>1</td>\n      <td>65</td>\n      <td>2</td>\n      <td>...</td>\n      <td>2</td>\n      <td>2</td>\n      <td>1</td>\n      <td>2</td>\n      <td>2</td>\n      <td>2</td>\n      <td>2</td>\n      <td>2</td>\n      <td>3</td>\n      <td>97</td>\n    </tr>\n    <tr>\n      <th>1</th>\n      <td>1</td>\n      <td>2</td>\n      <td>1</td>\n      <td>2</td>\n      <td>1</td>\n      <td>03/06/2020</td>\n      <td>97</td>\n      <td>1</td>\n      <td>72</td>\n      <td>97</td>\n      <td>...</td>\n      <td>2</td>\n      <td>2</td>\n      <td>1</td>\n      <td>2</td>\n      <td>2</td>\n      <td>1</td>\n      <td>1</td>\n      <td>2</td>\n      <td>5</td>\n      <td>97</td>\n    </tr>\n    <tr>\n      <th>2</th>\n      <td>2</td>\n      <td>2</td>\n      <td>1</td>\n      <td>2</td>\n      <td>2</td>\n      <td>09/06/2020</td>\n      <td>1</td>\n      <td>2</td>\n      <td>55</td>\n      <td>97</td>\n      <td>...</td>\n      <td>2</td>\n      <td>2</td>\n      <td>2</td>\n      <td>2</td>\n      <td>2</td>\n      <td>2</td>\n      <td>2</td>\n      <td>2</td>\n      <td>3</td>\n      <td>2</td>\n    </tr>\n    <tr>\n      <th>3</th>\n      <td>3</td>\n      <td>2</td>\n      <td>1</td>\n      <td>1</td>\n      <td>1</td>\n      <td>12/06/2020</td>\n      <td>97</td>\n      <td>2</td>\n      <td>53</td>\n      <td>2</td>\n      <td>...</td>\n      <td>2</td>\n      <td>2</td>\n      <td>2</td>\n      <td>2</td>\n      <td>2</td>\n      <td>2</td>\n      <td>2</td>\n      <td>2</td>\n      <td>7</td>\n      <td>97</td>\n    </tr>\n    <tr>\n      <th>4</th>\n      <td>4</td>\n      <td>2</td>\n      <td>1</td>\n      <td>2</td>\n      <td>1</td>\n      <td>21/06/2020</td>\n      <td>97</td>\n      <td>2</td>\n      <td>68</td>\n      <td>97</td>\n      <td>...</td>\n      <td>2</td>\n      <td>2</td>\n      <td>1</td>\n      <td>2</td>\n      <td>2</td>\n      <td>2</td>\n      <td>2</td>\n      <td>2</td>\n      <td>3</td>\n      <td>97</td>\n    </tr>\n    <tr>\n      <th>...</th>\n      <td>...</td>\n      <td>...</td>\n      <td>...</td>\n      <td>...</td>\n      <td>...</td>\n      <td>...</td>\n      <td>...</td>\n      <td>...</td>\n      <td>...</td>\n      <td>...</td>\n      <td>...</td>\n      <td>...</td>\n      <td>...</td>\n      <td>...</td>\n      <td>...</td>\n      <td>...</td>\n      <td>...</td>\n      <td>...</td>\n      <td>...</td>\n      <td>...</td>\n      <td>...</td>\n    </tr>\n    <tr>\n      <th>899995</th>\n      <td>899995</td>\n      <td>2</td>\n      <td>12</td>\n      <td>1</td>\n      <td>1</td>\n      <td>9999-99-99</td>\n      <td>97</td>\n      <td>2</td>\n      <td>52</td>\n      <td>2</td>\n      <td>...</td>\n      <td>2</td>\n      <td>2</td>\n      <td>1</td>\n      <td>2</td>\n      <td>2</td>\n      <td>2</td>\n      <td>2</td>\n      <td>2</td>\n      <td>7</td>\n      <td>97</td>\n    </tr>\n    <tr>\n      <th>899996</th>\n      <td>899996</td>\n      <td>2</td>\n      <td>12</td>\n      <td>2</td>\n      <td>1</td>\n      <td>9999-99-99</td>\n      <td>97</td>\n      <td>2</td>\n      <td>4</td>\n      <td>97</td>\n      <td>...</td>\n      <td>2</td>\n      <td>2</td>\n      <td>2</td>\n      <td>2</td>\n      <td>2</td>\n      <td>2</td>\n      <td>2</td>\n      <td>2</td>\n      <td>7</td>\n      <td>97</td>\n    </tr>\n    <tr>\n      <th>899997</th>\n      <td>899997</td>\n      <td>2</td>\n      <td>12</td>\n      <td>1</td>\n      <td>1</td>\n      <td>9999-99-99</td>\n      <td>97</td>\n      <td>2</td>\n      <td>24</td>\n      <td>2</td>\n      <td>...</td>\n      <td>2</td>\n      <td>2</td>\n      <td>2</td>\n      <td>2</td>\n      <td>2</td>\n      <td>2</td>\n      <td>2</td>\n      <td>2</td>\n      <td>7</td>\n      <td>97</td>\n    </tr>\n    <tr>\n      <th>899998</th>\n      <td>899998</td>\n      <td>2</td>\n      <td>12</td>\n      <td>1</td>\n      <td>1</td>\n      <td>9999-99-99</td>\n      <td>97</td>\n      <td>2</td>\n      <td>22</td>\n      <td>2</td>\n      <td>...</td>\n      <td>2</td>\n      <td>2</td>\n      <td>2</td>\n      <td>2</td>\n      <td>2</td>\n      <td>2</td>\n      <td>2</td>\n      <td>2</td>\n      <td>7</td>\n      <td>97</td>\n    </tr>\n    <tr>\n      <th>899999</th>\n      <td>899999</td>\n      <td>1</td>\n      <td>12</td>\n      <td>1</td>\n      <td>1</td>\n      <td>9999-99-99</td>\n      <td>97</td>\n      <td>2</td>\n      <td>50</td>\n      <td>2</td>\n      <td>...</td>\n      <td>2</td>\n      <td>2</td>\n      <td>2</td>\n      <td>2</td>\n      <td>2</td>\n      <td>2</td>\n      <td>2</td>\n      <td>2</td>\n      <td>7</td>\n      <td>97</td>\n    </tr>\n  </tbody>\n</table>\n<p>900000 rows × 22 columns</p>\n</div>"
     },
     "execution_count": 17,
     "metadata": {},
     "output_type": "execute_result"
    }
   ],
   "source": [
    "data = pd.read_csv('data/Covid_data.csv')\n",
    "data"
   ],
   "metadata": {
    "collapsed": false,
    "ExecuteTime": {
     "end_time": "2024-01-10T21:59:34.655304500Z",
     "start_time": "2024-01-10T21:59:32.301304500Z"
    }
   },
   "id": "fe7139b63c0f5fe"
  },
  {
   "cell_type": "code",
   "execution_count": 24,
   "outputs": [
    {
     "data": {
      "text/plain": "     Unnamed: 0  USMER  MEDICAL_UNIT  SEX  PATIENT_TYPE   DATE_DIED  INTUBED  \\\n0             0      2             1    1             1  03/05/2020       97   \n1             1      2             1    2             1  03/06/2020       97   \n2             2      2             1    2             2  09/06/2020        1   \n3             3      2             1    1             1  12/06/2020       97   \n4             4      2             1    2             1  21/06/2020       97   \n..          ...    ...           ...  ...           ...         ...      ...   \n995         995      2             3    2             2  14/06/2020        2   \n996         996      1             3    2             2  14/06/2020        1   \n997         997      1             3    2             2  14/06/2020        2   \n998         998      1             3    1             2  14/06/2020        1   \n999         999      2             3    2             2  14/06/2020        2   \n\n     PNEUMONIA  AGE  PREGNANT  ...  ASTHMA  INMSUPR  HIPERTENSION  \\\n0            1   65         2  ...       2        2             1   \n1            1   72        97  ...       2        2             1   \n2            2   55        97  ...       2        2             2   \n3            2   53         2  ...       2        2             2   \n4            2   68        97  ...       2        2             1   \n..         ...  ...       ...  ...     ...      ...           ...   \n995          1   52        97  ...       2        2             1   \n996          1   70        97  ...       2        2             1   \n997          1   52        97  ...       2        2             2   \n998          1   50         2  ...       2        2             1   \n999          1   45        97  ...       2        2             2   \n\n     OTHER_DISEASE  CARDIOVASCULAR  OBESITY  RENAL_CHRONIC  TOBACCO  \\\n0                2               2        2              2        2   \n1                2               2        1              1        2   \n2                2               2        2              2        2   \n3                2               2        2              2        2   \n4                2               2        2              2        2   \n..             ...             ...      ...            ...      ...   \n995              2               2        2              2        2   \n996              2               2        1              2        1   \n997              2               2        2              2        2   \n998              2               2        2              2        2   \n999              2               2        2              2        2   \n\n     CLASIFFICATION_FINAL  ICU  \n0                       3   97  \n1                       5   97  \n2                       3    2  \n3                       7   97  \n4                       3   97  \n..                    ...  ...  \n995                     3    2  \n996                     3    1  \n997                     3    2  \n998                     6    1  \n999                     6    2  \n\n[1000 rows x 22 columns]",
      "text/html": "<div>\n<style scoped>\n    .dataframe tbody tr th:only-of-type {\n        vertical-align: middle;\n    }\n\n    .dataframe tbody tr th {\n        vertical-align: top;\n    }\n\n    .dataframe thead th {\n        text-align: right;\n    }\n</style>\n<table border=\"1\" class=\"dataframe\">\n  <thead>\n    <tr style=\"text-align: right;\">\n      <th></th>\n      <th>Unnamed: 0</th>\n      <th>USMER</th>\n      <th>MEDICAL_UNIT</th>\n      <th>SEX</th>\n      <th>PATIENT_TYPE</th>\n      <th>DATE_DIED</th>\n      <th>INTUBED</th>\n      <th>PNEUMONIA</th>\n      <th>AGE</th>\n      <th>PREGNANT</th>\n      <th>...</th>\n      <th>ASTHMA</th>\n      <th>INMSUPR</th>\n      <th>HIPERTENSION</th>\n      <th>OTHER_DISEASE</th>\n      <th>CARDIOVASCULAR</th>\n      <th>OBESITY</th>\n      <th>RENAL_CHRONIC</th>\n      <th>TOBACCO</th>\n      <th>CLASIFFICATION_FINAL</th>\n      <th>ICU</th>\n    </tr>\n  </thead>\n  <tbody>\n    <tr>\n      <th>0</th>\n      <td>0</td>\n      <td>2</td>\n      <td>1</td>\n      <td>1</td>\n      <td>1</td>\n      <td>03/05/2020</td>\n      <td>97</td>\n      <td>1</td>\n      <td>65</td>\n      <td>2</td>\n      <td>...</td>\n      <td>2</td>\n      <td>2</td>\n      <td>1</td>\n      <td>2</td>\n      <td>2</td>\n      <td>2</td>\n      <td>2</td>\n      <td>2</td>\n      <td>3</td>\n      <td>97</td>\n    </tr>\n    <tr>\n      <th>1</th>\n      <td>1</td>\n      <td>2</td>\n      <td>1</td>\n      <td>2</td>\n      <td>1</td>\n      <td>03/06/2020</td>\n      <td>97</td>\n      <td>1</td>\n      <td>72</td>\n      <td>97</td>\n      <td>...</td>\n      <td>2</td>\n      <td>2</td>\n      <td>1</td>\n      <td>2</td>\n      <td>2</td>\n      <td>1</td>\n      <td>1</td>\n      <td>2</td>\n      <td>5</td>\n      <td>97</td>\n    </tr>\n    <tr>\n      <th>2</th>\n      <td>2</td>\n      <td>2</td>\n      <td>1</td>\n      <td>2</td>\n      <td>2</td>\n      <td>09/06/2020</td>\n      <td>1</td>\n      <td>2</td>\n      <td>55</td>\n      <td>97</td>\n      <td>...</td>\n      <td>2</td>\n      <td>2</td>\n      <td>2</td>\n      <td>2</td>\n      <td>2</td>\n      <td>2</td>\n      <td>2</td>\n      <td>2</td>\n      <td>3</td>\n      <td>2</td>\n    </tr>\n    <tr>\n      <th>3</th>\n      <td>3</td>\n      <td>2</td>\n      <td>1</td>\n      <td>1</td>\n      <td>1</td>\n      <td>12/06/2020</td>\n      <td>97</td>\n      <td>2</td>\n      <td>53</td>\n      <td>2</td>\n      <td>...</td>\n      <td>2</td>\n      <td>2</td>\n      <td>2</td>\n      <td>2</td>\n      <td>2</td>\n      <td>2</td>\n      <td>2</td>\n      <td>2</td>\n      <td>7</td>\n      <td>97</td>\n    </tr>\n    <tr>\n      <th>4</th>\n      <td>4</td>\n      <td>2</td>\n      <td>1</td>\n      <td>2</td>\n      <td>1</td>\n      <td>21/06/2020</td>\n      <td>97</td>\n      <td>2</td>\n      <td>68</td>\n      <td>97</td>\n      <td>...</td>\n      <td>2</td>\n      <td>2</td>\n      <td>1</td>\n      <td>2</td>\n      <td>2</td>\n      <td>2</td>\n      <td>2</td>\n      <td>2</td>\n      <td>3</td>\n      <td>97</td>\n    </tr>\n    <tr>\n      <th>...</th>\n      <td>...</td>\n      <td>...</td>\n      <td>...</td>\n      <td>...</td>\n      <td>...</td>\n      <td>...</td>\n      <td>...</td>\n      <td>...</td>\n      <td>...</td>\n      <td>...</td>\n      <td>...</td>\n      <td>...</td>\n      <td>...</td>\n      <td>...</td>\n      <td>...</td>\n      <td>...</td>\n      <td>...</td>\n      <td>...</td>\n      <td>...</td>\n      <td>...</td>\n      <td>...</td>\n    </tr>\n    <tr>\n      <th>995</th>\n      <td>995</td>\n      <td>2</td>\n      <td>3</td>\n      <td>2</td>\n      <td>2</td>\n      <td>14/06/2020</td>\n      <td>2</td>\n      <td>1</td>\n      <td>52</td>\n      <td>97</td>\n      <td>...</td>\n      <td>2</td>\n      <td>2</td>\n      <td>1</td>\n      <td>2</td>\n      <td>2</td>\n      <td>2</td>\n      <td>2</td>\n      <td>2</td>\n      <td>3</td>\n      <td>2</td>\n    </tr>\n    <tr>\n      <th>996</th>\n      <td>996</td>\n      <td>1</td>\n      <td>3</td>\n      <td>2</td>\n      <td>2</td>\n      <td>14/06/2020</td>\n      <td>1</td>\n      <td>1</td>\n      <td>70</td>\n      <td>97</td>\n      <td>...</td>\n      <td>2</td>\n      <td>2</td>\n      <td>1</td>\n      <td>2</td>\n      <td>2</td>\n      <td>1</td>\n      <td>2</td>\n      <td>1</td>\n      <td>3</td>\n      <td>1</td>\n    </tr>\n    <tr>\n      <th>997</th>\n      <td>997</td>\n      <td>1</td>\n      <td>3</td>\n      <td>2</td>\n      <td>2</td>\n      <td>14/06/2020</td>\n      <td>2</td>\n      <td>1</td>\n      <td>52</td>\n      <td>97</td>\n      <td>...</td>\n      <td>2</td>\n      <td>2</td>\n      <td>2</td>\n      <td>2</td>\n      <td>2</td>\n      <td>2</td>\n      <td>2</td>\n      <td>2</td>\n      <td>3</td>\n      <td>2</td>\n    </tr>\n    <tr>\n      <th>998</th>\n      <td>998</td>\n      <td>1</td>\n      <td>3</td>\n      <td>1</td>\n      <td>2</td>\n      <td>14/06/2020</td>\n      <td>1</td>\n      <td>1</td>\n      <td>50</td>\n      <td>2</td>\n      <td>...</td>\n      <td>2</td>\n      <td>2</td>\n      <td>1</td>\n      <td>2</td>\n      <td>2</td>\n      <td>2</td>\n      <td>2</td>\n      <td>2</td>\n      <td>6</td>\n      <td>1</td>\n    </tr>\n    <tr>\n      <th>999</th>\n      <td>999</td>\n      <td>2</td>\n      <td>3</td>\n      <td>2</td>\n      <td>2</td>\n      <td>14/06/2020</td>\n      <td>2</td>\n      <td>1</td>\n      <td>45</td>\n      <td>97</td>\n      <td>...</td>\n      <td>2</td>\n      <td>2</td>\n      <td>2</td>\n      <td>2</td>\n      <td>2</td>\n      <td>2</td>\n      <td>2</td>\n      <td>2</td>\n      <td>6</td>\n      <td>2</td>\n    </tr>\n  </tbody>\n</table>\n<p>1000 rows × 22 columns</p>\n</div>"
     },
     "execution_count": 24,
     "metadata": {},
     "output_type": "execute_result"
    }
   ],
   "source": [
    "# temp - DELETE\n",
    "data = data.iloc[0:1000]\n",
    "data"
   ],
   "metadata": {
    "collapsed": false,
    "ExecuteTime": {
     "end_time": "2024-01-10T22:06:51.955274800Z",
     "start_time": "2024-01-10T22:06:51.920276400Z"
    }
   },
   "id": "537e62cc3ddac10a"
  },
  {
   "cell_type": "code",
   "execution_count": 25,
   "outputs": [
    {
     "data": {
      "text/plain": "Unnamed: 0                2\nUSMER                     0\nMEDICAL_UNIT              0\nSEX                       0\nPATIENT_TYPE              0\nDATE_DIED                 0\nINTUBED                 334\nPNEUMONIA                20\nAGE                       0\nPREGNANT                567\nDIABETES                  0\nCOPD                      0\nASTHMA                    0\nINMSUPR                   0\nHIPERTENSION              0\nOTHER_DISEASE             0\nCARDIOVASCULAR            0\nOBESITY                   0\nRENAL_CHRONIC             0\nTOBACCO                   0\nCLASIFFICATION_FINAL      0\nICU                     334\ndtype: int64"
     },
     "execution_count": 25,
     "metadata": {},
     "output_type": "execute_result"
    }
   ],
   "source": [
    "missing_values_count = data.apply(lambda col: col.isin([97, 99]).sum())\n",
    "missing_values_count"
   ],
   "metadata": {
    "collapsed": false,
    "ExecuteTime": {
     "end_time": "2024-01-10T22:06:56.046352300Z",
     "start_time": "2024-01-10T22:06:55.990355300Z"
    }
   },
   "id": "575f2f8db71de93c"
  },
  {
   "cell_type": "code",
   "execution_count": 26,
   "outputs": [
    {
     "data": {
      "text/plain": "Index(['Unnamed: 0', 'USMER', 'MEDICAL_UNIT', 'SEX', 'PATIENT_TYPE',\n       'DATE_DIED', 'INTUBED', 'PNEUMONIA', 'AGE', 'PREGNANT', 'DIABETES',\n       'COPD', 'ASTHMA', 'INMSUPR', 'HIPERTENSION', 'OTHER_DISEASE',\n       'CARDIOVASCULAR', 'OBESITY', 'RENAL_CHRONIC', 'TOBACCO',\n       'CLASIFFICATION_FINAL', 'ICU'],\n      dtype='object')"
     },
     "execution_count": 26,
     "metadata": {},
     "output_type": "execute_result"
    }
   ],
   "source": [
    "data.columns"
   ],
   "metadata": {
    "collapsed": false,
    "ExecuteTime": {
     "end_time": "2024-01-10T22:06:56.884852400Z",
     "start_time": "2024-01-10T22:06:56.827852Z"
    }
   },
   "id": "9b4a255dd8297f84"
  },
  {
   "cell_type": "code",
   "execution_count": 32,
   "outputs": [
    {
     "ename": "AttributeError",
     "evalue": "module 'matplotlib.cbook' has no attribute '_safe_first_finite'",
     "output_type": "error",
     "traceback": [
      "\u001B[1;31m---------------------------------------------------------------------------\u001B[0m",
      "\u001B[1;31mAttributeError\u001B[0m                            Traceback (most recent call last)",
      "Cell \u001B[1;32mIn[32], line 1\u001B[0m\n\u001B[1;32m----> 1\u001B[0m \u001B[43mdata\u001B[49m\u001B[38;5;241;43m.\u001B[39;49m\u001B[43mhist\u001B[49m\u001B[43m(\u001B[49m\u001B[43mfigsize\u001B[49m\u001B[38;5;241;43m=\u001B[39;49m\u001B[43m(\u001B[49m\u001B[38;5;241;43m20\u001B[39;49m\u001B[43m,\u001B[49m\u001B[43m \u001B[49m\u001B[38;5;241;43m20\u001B[39;49m\u001B[43m)\u001B[49m\u001B[43m)\u001B[49m;\n",
      "File \u001B[1;32mC:\\ProgramData\\anaconda3\\envs\\kanagawa\\lib\\site-packages\\pandas\\plotting\\_core.py:247\u001B[0m, in \u001B[0;36mhist_frame\u001B[1;34m(data, column, by, grid, xlabelsize, xrot, ylabelsize, yrot, ax, sharex, sharey, figsize, layout, bins, backend, legend, **kwargs)\u001B[0m\n\u001B[0;32m    160\u001B[0m \u001B[38;5;250m\u001B[39m\u001B[38;5;124;03m\"\"\"\u001B[39;00m\n\u001B[0;32m    161\u001B[0m \u001B[38;5;124;03mMake a histogram of the DataFrame's columns.\u001B[39;00m\n\u001B[0;32m    162\u001B[0m \n\u001B[1;32m   (...)\u001B[0m\n\u001B[0;32m    244\u001B[0m \u001B[38;5;124;03m    >>> hist = df.hist(bins=3)\u001B[39;00m\n\u001B[0;32m    245\u001B[0m \u001B[38;5;124;03m\"\"\"\u001B[39;00m\n\u001B[0;32m    246\u001B[0m plot_backend \u001B[38;5;241m=\u001B[39m _get_plot_backend(backend)\n\u001B[1;32m--> 247\u001B[0m \u001B[38;5;28;01mreturn\u001B[39;00m plot_backend\u001B[38;5;241m.\u001B[39mhist_frame(\n\u001B[0;32m    248\u001B[0m     data,\n\u001B[0;32m    249\u001B[0m     column\u001B[38;5;241m=\u001B[39mcolumn,\n\u001B[0;32m    250\u001B[0m     by\u001B[38;5;241m=\u001B[39mby,\n\u001B[0;32m    251\u001B[0m     grid\u001B[38;5;241m=\u001B[39mgrid,\n\u001B[0;32m    252\u001B[0m     xlabelsize\u001B[38;5;241m=\u001B[39mxlabelsize,\n\u001B[0;32m    253\u001B[0m     xrot\u001B[38;5;241m=\u001B[39mxrot,\n\u001B[0;32m    254\u001B[0m     ylabelsize\u001B[38;5;241m=\u001B[39mylabelsize,\n\u001B[0;32m    255\u001B[0m     yrot\u001B[38;5;241m=\u001B[39myrot,\n\u001B[0;32m    256\u001B[0m     ax\u001B[38;5;241m=\u001B[39max,\n\u001B[0;32m    257\u001B[0m     sharex\u001B[38;5;241m=\u001B[39msharex,\n\u001B[0;32m    258\u001B[0m     sharey\u001B[38;5;241m=\u001B[39msharey,\n\u001B[0;32m    259\u001B[0m     figsize\u001B[38;5;241m=\u001B[39mfigsize,\n\u001B[0;32m    260\u001B[0m     layout\u001B[38;5;241m=\u001B[39mlayout,\n\u001B[0;32m    261\u001B[0m     legend\u001B[38;5;241m=\u001B[39mlegend,\n\u001B[0;32m    262\u001B[0m     bins\u001B[38;5;241m=\u001B[39mbins,\n\u001B[0;32m    263\u001B[0m     \u001B[38;5;241m*\u001B[39m\u001B[38;5;241m*\u001B[39mkwargs,\n\u001B[0;32m    264\u001B[0m )\n",
      "File \u001B[1;32mC:\\ProgramData\\anaconda3\\envs\\kanagawa\\lib\\site-packages\\pandas\\plotting\\_matplotlib\\hist.py:520\u001B[0m, in \u001B[0;36mhist_frame\u001B[1;34m(data, column, by, grid, xlabelsize, xrot, ylabelsize, yrot, ax, sharex, sharey, figsize, layout, bins, legend, **kwds)\u001B[0m\n\u001B[0;32m    515\u001B[0m \u001B[38;5;28;01mif\u001B[39;00m naxes \u001B[38;5;241m==\u001B[39m \u001B[38;5;241m0\u001B[39m:\n\u001B[0;32m    516\u001B[0m     \u001B[38;5;28;01mraise\u001B[39;00m \u001B[38;5;167;01mValueError\u001B[39;00m(\n\u001B[0;32m    517\u001B[0m         \u001B[38;5;124m\"\u001B[39m\u001B[38;5;124mhist method requires numerical or datetime columns, nothing to plot.\u001B[39m\u001B[38;5;124m\"\u001B[39m\n\u001B[0;32m    518\u001B[0m     )\n\u001B[1;32m--> 520\u001B[0m fig, axes \u001B[38;5;241m=\u001B[39m \u001B[43mcreate_subplots\u001B[49m\u001B[43m(\u001B[49m\n\u001B[0;32m    521\u001B[0m \u001B[43m    \u001B[49m\u001B[43mnaxes\u001B[49m\u001B[38;5;241;43m=\u001B[39;49m\u001B[43mnaxes\u001B[49m\u001B[43m,\u001B[49m\n\u001B[0;32m    522\u001B[0m \u001B[43m    \u001B[49m\u001B[43max\u001B[49m\u001B[38;5;241;43m=\u001B[39;49m\u001B[43max\u001B[49m\u001B[43m,\u001B[49m\n\u001B[0;32m    523\u001B[0m \u001B[43m    \u001B[49m\u001B[43msqueeze\u001B[49m\u001B[38;5;241;43m=\u001B[39;49m\u001B[38;5;28;43;01mFalse\u001B[39;49;00m\u001B[43m,\u001B[49m\n\u001B[0;32m    524\u001B[0m \u001B[43m    \u001B[49m\u001B[43msharex\u001B[49m\u001B[38;5;241;43m=\u001B[39;49m\u001B[43msharex\u001B[49m\u001B[43m,\u001B[49m\n\u001B[0;32m    525\u001B[0m \u001B[43m    \u001B[49m\u001B[43msharey\u001B[49m\u001B[38;5;241;43m=\u001B[39;49m\u001B[43msharey\u001B[49m\u001B[43m,\u001B[49m\n\u001B[0;32m    526\u001B[0m \u001B[43m    \u001B[49m\u001B[43mfigsize\u001B[49m\u001B[38;5;241;43m=\u001B[39;49m\u001B[43mfigsize\u001B[49m\u001B[43m,\u001B[49m\n\u001B[0;32m    527\u001B[0m \u001B[43m    \u001B[49m\u001B[43mlayout\u001B[49m\u001B[38;5;241;43m=\u001B[39;49m\u001B[43mlayout\u001B[49m\u001B[43m,\u001B[49m\n\u001B[0;32m    528\u001B[0m \u001B[43m\u001B[49m\u001B[43m)\u001B[49m\n\u001B[0;32m    529\u001B[0m _axes \u001B[38;5;241m=\u001B[39m flatten_axes(axes)\n\u001B[0;32m    531\u001B[0m can_set_label \u001B[38;5;241m=\u001B[39m \u001B[38;5;124m\"\u001B[39m\u001B[38;5;124mlabel\u001B[39m\u001B[38;5;124m\"\u001B[39m \u001B[38;5;129;01mnot\u001B[39;00m \u001B[38;5;129;01min\u001B[39;00m kwds\n",
      "File \u001B[1;32mC:\\ProgramData\\anaconda3\\envs\\kanagawa\\lib\\site-packages\\pandas\\plotting\\_matplotlib\\tools.py:276\u001B[0m, in \u001B[0;36mcreate_subplots\u001B[1;34m(naxes, sharex, sharey, squeeze, subplot_kw, ax, layout, layout_type, **fig_kw)\u001B[0m\n\u001B[0;32m    273\u001B[0m axarr \u001B[38;5;241m=\u001B[39m np\u001B[38;5;241m.\u001B[39mempty(nplots, dtype\u001B[38;5;241m=\u001B[39m\u001B[38;5;28mobject\u001B[39m)\n\u001B[0;32m    275\u001B[0m \u001B[38;5;66;03m# Create first subplot separately, so we can share it if requested\u001B[39;00m\n\u001B[1;32m--> 276\u001B[0m ax0 \u001B[38;5;241m=\u001B[39m fig\u001B[38;5;241m.\u001B[39madd_subplot(nrows, ncols, \u001B[38;5;241m1\u001B[39m, \u001B[38;5;241m*\u001B[39m\u001B[38;5;241m*\u001B[39msubplot_kw)\n\u001B[0;32m    278\u001B[0m \u001B[38;5;28;01mif\u001B[39;00m sharex:\n\u001B[0;32m    279\u001B[0m     subplot_kw[\u001B[38;5;124m\"\u001B[39m\u001B[38;5;124msharex\u001B[39m\u001B[38;5;124m\"\u001B[39m] \u001B[38;5;241m=\u001B[39m ax0\n",
      "File \u001B[1;32mC:\\ProgramData\\anaconda3\\envs\\kanagawa\\lib\\site-packages\\matplotlib\\figure.py:782\u001B[0m, in \u001B[0;36mFigureBase.add_subplot\u001B[1;34m(self, *args, **kwargs)\u001B[0m\n\u001B[0;32m    780\u001B[0m         args \u001B[38;5;241m=\u001B[39m \u001B[38;5;28mtuple\u001B[39m(\u001B[38;5;28mmap\u001B[39m(\u001B[38;5;28mint\u001B[39m, \u001B[38;5;28mstr\u001B[39m(args[\u001B[38;5;241m0\u001B[39m])))\n\u001B[0;32m    781\u001B[0m     projection_class, pkw \u001B[38;5;241m=\u001B[39m \u001B[38;5;28mself\u001B[39m\u001B[38;5;241m.\u001B[39m_process_projection_requirements(\u001B[38;5;241m*\u001B[39m\u001B[38;5;241m*\u001B[39mkwargs)\n\u001B[1;32m--> 782\u001B[0m     ax \u001B[38;5;241m=\u001B[39m projection_class(\u001B[38;5;28mself\u001B[39m, \u001B[38;5;241m*\u001B[39margs, \u001B[38;5;241m*\u001B[39m\u001B[38;5;241m*\u001B[39mpkw)\n\u001B[0;32m    783\u001B[0m     key \u001B[38;5;241m=\u001B[39m (projection_class, pkw)\n\u001B[0;32m    784\u001B[0m \u001B[38;5;28;01mreturn\u001B[39;00m \u001B[38;5;28mself\u001B[39m\u001B[38;5;241m.\u001B[39m_add_axes_internal(ax, key)\n",
      "File \u001B[1;32mC:\\ProgramData\\anaconda3\\envs\\kanagawa\\lib\\site-packages\\matplotlib\\axes\\_base.py:678\u001B[0m, in \u001B[0;36m_AxesBase.__init__\u001B[1;34m(self, fig, facecolor, frameon, sharex, sharey, label, xscale, yscale, box_aspect, *args, **kwargs)\u001B[0m\n\u001B[0;32m    675\u001B[0m \u001B[38;5;28mself\u001B[39m\u001B[38;5;241m.\u001B[39mset_axisbelow(mpl\u001B[38;5;241m.\u001B[39mrcParams[\u001B[38;5;124m'\u001B[39m\u001B[38;5;124maxes.axisbelow\u001B[39m\u001B[38;5;124m'\u001B[39m])\n\u001B[0;32m    677\u001B[0m \u001B[38;5;28mself\u001B[39m\u001B[38;5;241m.\u001B[39m_rasterization_zorder \u001B[38;5;241m=\u001B[39m \u001B[38;5;28;01mNone\u001B[39;00m\n\u001B[1;32m--> 678\u001B[0m \u001B[38;5;28;43mself\u001B[39;49m\u001B[38;5;241;43m.\u001B[39;49m\u001B[43mclear\u001B[49m\u001B[43m(\u001B[49m\u001B[43m)\u001B[49m\n\u001B[0;32m    680\u001B[0m \u001B[38;5;66;03m# funcs used to format x and y - fall back on major formatters\u001B[39;00m\n\u001B[0;32m    681\u001B[0m \u001B[38;5;28mself\u001B[39m\u001B[38;5;241m.\u001B[39mfmt_xdata \u001B[38;5;241m=\u001B[39m \u001B[38;5;28;01mNone\u001B[39;00m\n",
      "File \u001B[1;32mC:\\ProgramData\\anaconda3\\envs\\kanagawa\\lib\\site-packages\\matplotlib\\axes\\_base.py:1388\u001B[0m, in \u001B[0;36m_AxesBase.clear\u001B[1;34m(self)\u001B[0m\n\u001B[0;32m   1386\u001B[0m     \u001B[38;5;28mself\u001B[39m\u001B[38;5;241m.\u001B[39mcla()\n\u001B[0;32m   1387\u001B[0m \u001B[38;5;28;01melse\u001B[39;00m:\n\u001B[1;32m-> 1388\u001B[0m     \u001B[38;5;28;43mself\u001B[39;49m\u001B[38;5;241;43m.\u001B[39;49m\u001B[43m__clear\u001B[49m\u001B[43m(\u001B[49m\u001B[43m)\u001B[49m\n",
      "File \u001B[1;32mC:\\ProgramData\\anaconda3\\envs\\kanagawa\\lib\\site-packages\\matplotlib\\axes\\_base.py:1376\u001B[0m, in \u001B[0;36m_AxesBase.__clear\u001B[1;34m(self)\u001B[0m\n\u001B[0;32m   1374\u001B[0m         \u001B[38;5;28;01mif\u001B[39;00m \u001B[38;5;28mself\u001B[39m\u001B[38;5;241m.\u001B[39mname \u001B[38;5;241m==\u001B[39m \u001B[38;5;124m\"\u001B[39m\u001B[38;5;124mpolar\u001B[39m\u001B[38;5;124m\"\u001B[39m:\n\u001B[0;32m   1375\u001B[0m             axis\u001B[38;5;241m.\u001B[39m_set_scale(\u001B[38;5;124m\"\u001B[39m\u001B[38;5;124mlinear\u001B[39m\u001B[38;5;124m\"\u001B[39m)\n\u001B[1;32m-> 1376\u001B[0m         \u001B[43maxis\u001B[49m\u001B[38;5;241;43m.\u001B[39;49m\u001B[43m_set_lim\u001B[49m\u001B[43m(\u001B[49m\u001B[38;5;241;43m0\u001B[39;49m\u001B[43m,\u001B[49m\u001B[43m \u001B[49m\u001B[38;5;241;43m1\u001B[39;49m\u001B[43m,\u001B[49m\u001B[43m \u001B[49m\u001B[43mauto\u001B[49m\u001B[38;5;241;43m=\u001B[39;49m\u001B[38;5;28;43;01mTrue\u001B[39;49;00m\u001B[43m)\u001B[49m\n\u001B[0;32m   1377\u001B[0m \u001B[38;5;28mself\u001B[39m\u001B[38;5;241m.\u001B[39m_update_transScale()\n\u001B[0;32m   1379\u001B[0m \u001B[38;5;28mself\u001B[39m\u001B[38;5;241m.\u001B[39mstale \u001B[38;5;241m=\u001B[39m \u001B[38;5;28;01mTrue\u001B[39;00m\n",
      "File \u001B[1;32mC:\\ProgramData\\anaconda3\\envs\\kanagawa\\lib\\site-packages\\matplotlib\\axis.py:1209\u001B[0m, in \u001B[0;36mAxis._set_lim\u001B[1;34m(self, v0, v1, emit, auto)\u001B[0m\n\u001B[0;32m   1190\u001B[0m \u001B[38;5;250m\u001B[39m\u001B[38;5;124;03m\"\"\"\u001B[39;00m\n\u001B[0;32m   1191\u001B[0m \u001B[38;5;124;03mSet view limits.\u001B[39;00m\n\u001B[0;32m   1192\u001B[0m \n\u001B[1;32m   (...)\u001B[0m\n\u001B[0;32m   1205\u001B[0m \u001B[38;5;124;03m    turns off, None leaves unchanged.\u001B[39;00m\n\u001B[0;32m   1206\u001B[0m \u001B[38;5;124;03m\"\"\"\u001B[39;00m\n\u001B[0;32m   1207\u001B[0m name \u001B[38;5;241m=\u001B[39m \u001B[38;5;28mself\u001B[39m\u001B[38;5;241m.\u001B[39m_get_axis_name()\n\u001B[1;32m-> 1209\u001B[0m \u001B[38;5;28;43mself\u001B[39;49m\u001B[38;5;241;43m.\u001B[39;49m\u001B[43maxes\u001B[49m\u001B[38;5;241;43m.\u001B[39;49m\u001B[43m_process_unit_info\u001B[49m\u001B[43m(\u001B[49m\u001B[43m[\u001B[49m\u001B[43m(\u001B[49m\u001B[43mname\u001B[49m\u001B[43m,\u001B[49m\u001B[43m \u001B[49m\u001B[43m(\u001B[49m\u001B[43mv0\u001B[49m\u001B[43m,\u001B[49m\u001B[43m \u001B[49m\u001B[43mv1\u001B[49m\u001B[43m)\u001B[49m\u001B[43m)\u001B[49m\u001B[43m]\u001B[49m\u001B[43m,\u001B[49m\u001B[43m \u001B[49m\u001B[43mconvert\u001B[49m\u001B[38;5;241;43m=\u001B[39;49m\u001B[38;5;28;43;01mFalse\u001B[39;49;00m\u001B[43m)\u001B[49m\n\u001B[0;32m   1210\u001B[0m v0 \u001B[38;5;241m=\u001B[39m \u001B[38;5;28mself\u001B[39m\u001B[38;5;241m.\u001B[39maxes\u001B[38;5;241m.\u001B[39m_validate_converted_limits(v0, \u001B[38;5;28mself\u001B[39m\u001B[38;5;241m.\u001B[39mconvert_units)\n\u001B[0;32m   1211\u001B[0m v1 \u001B[38;5;241m=\u001B[39m \u001B[38;5;28mself\u001B[39m\u001B[38;5;241m.\u001B[39maxes\u001B[38;5;241m.\u001B[39m_validate_converted_limits(v1, \u001B[38;5;28mself\u001B[39m\u001B[38;5;241m.\u001B[39mconvert_units)\n",
      "File \u001B[1;32mC:\\ProgramData\\anaconda3\\envs\\kanagawa\\lib\\site-packages\\matplotlib\\axes\\_base.py:2555\u001B[0m, in \u001B[0;36m_AxesBase._process_unit_info\u001B[1;34m(self, datasets, kwargs, convert)\u001B[0m\n\u001B[0;32m   2553\u001B[0m     \u001B[38;5;66;03m# Update from data if axis is already set but no unit is set yet.\u001B[39;00m\n\u001B[0;32m   2554\u001B[0m     \u001B[38;5;28;01mif\u001B[39;00m axis \u001B[38;5;129;01mis\u001B[39;00m \u001B[38;5;129;01mnot\u001B[39;00m \u001B[38;5;28;01mNone\u001B[39;00m \u001B[38;5;129;01mand\u001B[39;00m data \u001B[38;5;129;01mis\u001B[39;00m \u001B[38;5;129;01mnot\u001B[39;00m \u001B[38;5;28;01mNone\u001B[39;00m \u001B[38;5;129;01mand\u001B[39;00m \u001B[38;5;129;01mnot\u001B[39;00m axis\u001B[38;5;241m.\u001B[39mhave_units():\n\u001B[1;32m-> 2555\u001B[0m         \u001B[43maxis\u001B[49m\u001B[38;5;241;43m.\u001B[39;49m\u001B[43mupdate_units\u001B[49m\u001B[43m(\u001B[49m\u001B[43mdata\u001B[49m\u001B[43m)\u001B[49m\n\u001B[0;32m   2556\u001B[0m \u001B[38;5;28;01mfor\u001B[39;00m axis_name, axis \u001B[38;5;129;01min\u001B[39;00m axis_map\u001B[38;5;241m.\u001B[39mitems():\n\u001B[0;32m   2557\u001B[0m     \u001B[38;5;66;03m# Return if no axis is set.\u001B[39;00m\n\u001B[0;32m   2558\u001B[0m     \u001B[38;5;28;01mif\u001B[39;00m axis \u001B[38;5;129;01mis\u001B[39;00m \u001B[38;5;28;01mNone\u001B[39;00m:\n",
      "File \u001B[1;32mC:\\ProgramData\\anaconda3\\envs\\kanagawa\\lib\\site-packages\\matplotlib\\axis.py:1706\u001B[0m, in \u001B[0;36mAxis.update_units\u001B[1;34m(self, data)\u001B[0m\n\u001B[0;32m   1700\u001B[0m \u001B[38;5;28;01mdef\u001B[39;00m \u001B[38;5;21mupdate_units\u001B[39m(\u001B[38;5;28mself\u001B[39m, data):\n\u001B[0;32m   1701\u001B[0m \u001B[38;5;250m    \u001B[39m\u001B[38;5;124;03m\"\"\"\u001B[39;00m\n\u001B[0;32m   1702\u001B[0m \u001B[38;5;124;03m    Introspect *data* for units converter and update the\u001B[39;00m\n\u001B[0;32m   1703\u001B[0m \u001B[38;5;124;03m    ``axis.converter`` instance if necessary. Return *True*\u001B[39;00m\n\u001B[0;32m   1704\u001B[0m \u001B[38;5;124;03m    if *data* is registered for unit conversion.\u001B[39;00m\n\u001B[0;32m   1705\u001B[0m \u001B[38;5;124;03m    \"\"\"\u001B[39;00m\n\u001B[1;32m-> 1706\u001B[0m     converter \u001B[38;5;241m=\u001B[39m \u001B[43mmunits\u001B[49m\u001B[38;5;241;43m.\u001B[39;49m\u001B[43mregistry\u001B[49m\u001B[38;5;241;43m.\u001B[39;49m\u001B[43mget_converter\u001B[49m\u001B[43m(\u001B[49m\u001B[43mdata\u001B[49m\u001B[43m)\u001B[49m\n\u001B[0;32m   1707\u001B[0m     \u001B[38;5;28;01mif\u001B[39;00m converter \u001B[38;5;129;01mis\u001B[39;00m \u001B[38;5;28;01mNone\u001B[39;00m:\n\u001B[0;32m   1708\u001B[0m         \u001B[38;5;28;01mreturn\u001B[39;00m \u001B[38;5;28;01mFalse\u001B[39;00m\n",
      "File \u001B[1;32mC:\\ProgramData\\anaconda3\\envs\\kanagawa\\lib\\site-packages\\matplotlib\\units.py:183\u001B[0m, in \u001B[0;36mRegistry.get_converter\u001B[1;34m(self, x)\u001B[0m\n\u001B[0;32m    181\u001B[0m         \u001B[38;5;28;01mpass\u001B[39;00m\n\u001B[0;32m    182\u001B[0m \u001B[38;5;28;01mtry\u001B[39;00m:  \u001B[38;5;66;03m# If cache lookup fails, look up based on first element...\u001B[39;00m\n\u001B[1;32m--> 183\u001B[0m     first \u001B[38;5;241m=\u001B[39m \u001B[43mcbook\u001B[49m\u001B[38;5;241;43m.\u001B[39;49m\u001B[43m_safe_first_finite\u001B[49m(x)\n\u001B[0;32m    184\u001B[0m \u001B[38;5;28;01mexcept\u001B[39;00m (\u001B[38;5;167;01mTypeError\u001B[39;00m, \u001B[38;5;167;01mStopIteration\u001B[39;00m):\n\u001B[0;32m    185\u001B[0m     \u001B[38;5;28;01mpass\u001B[39;00m\n",
      "File \u001B[1;32mC:\\ProgramData\\anaconda3\\envs\\kanagawa\\lib\\site-packages\\matplotlib\\_api\\__init__.py:217\u001B[0m, in \u001B[0;36mcaching_module_getattr.<locals>.__getattr__\u001B[1;34m(name)\u001B[0m\n\u001B[0;32m    215\u001B[0m \u001B[38;5;28;01mif\u001B[39;00m name \u001B[38;5;129;01min\u001B[39;00m props:\n\u001B[0;32m    216\u001B[0m     \u001B[38;5;28;01mreturn\u001B[39;00m props[name]\u001B[38;5;241m.\u001B[39m\u001B[38;5;21m__get__\u001B[39m(instance)\n\u001B[1;32m--> 217\u001B[0m \u001B[38;5;28;01mraise\u001B[39;00m \u001B[38;5;167;01mAttributeError\u001B[39;00m(\n\u001B[0;32m    218\u001B[0m     \u001B[38;5;124mf\u001B[39m\u001B[38;5;124m\"\u001B[39m\u001B[38;5;124mmodule \u001B[39m\u001B[38;5;132;01m{\u001B[39;00m\u001B[38;5;28mcls\u001B[39m\u001B[38;5;241m.\u001B[39m\u001B[38;5;18m__module__\u001B[39m\u001B[38;5;132;01m!r}\u001B[39;00m\u001B[38;5;124m has no attribute \u001B[39m\u001B[38;5;132;01m{\u001B[39;00mname\u001B[38;5;132;01m!r}\u001B[39;00m\u001B[38;5;124m\"\u001B[39m)\n",
      "\u001B[1;31mAttributeError\u001B[0m: module 'matplotlib.cbook' has no attribute '_safe_first_finite'"
     ]
    },
    {
     "data": {
      "text/plain": "<Figure size 2000x2000 with 0 Axes>"
     },
     "metadata": {},
     "output_type": "display_data"
    }
   ],
   "source": [
    "data.hist(figsize=(20, 20));"
   ],
   "metadata": {
    "collapsed": false,
    "ExecuteTime": {
     "end_time": "2024-01-10T22:12:28.977633300Z",
     "start_time": "2024-01-10T22:12:28.788614700Z"
    }
   },
   "id": "ffc7b2b381dc1150"
  },
  {
   "cell_type": "markdown",
   "source": [
    "## 2. Pipeline"
   ],
   "metadata": {
    "collapsed": false
   },
   "id": "d4feb2df1a032f27"
  },
  {
   "cell_type": "code",
   "execution_count": 34,
   "outputs": [
    {
     "name": "stdout",
     "output_type": "stream",
     "text": [
      "<class 'pandas.core.frame.DataFrame'>\n",
      "RangeIndex: 1000 entries, 0 to 999\n",
      "Data columns (total 22 columns):\n",
      " #   Column                Non-Null Count  Dtype \n",
      "---  ------                --------------  ----- \n",
      " 0   Unnamed: 0            1000 non-null   int64 \n",
      " 1   USMER                 1000 non-null   int64 \n",
      " 2   MEDICAL_UNIT          1000 non-null   int64 \n",
      " 3   SEX                   1000 non-null   int64 \n",
      " 4   PATIENT_TYPE          1000 non-null   int64 \n",
      " 5   DATE_DIED             1000 non-null   object\n",
      " 6   INTUBED               1000 non-null   int64 \n",
      " 7   PNEUMONIA             1000 non-null   int64 \n",
      " 8   AGE                   1000 non-null   int64 \n",
      " 9   PREGNANT              1000 non-null   int64 \n",
      " 10  DIABETES              1000 non-null   int64 \n",
      " 11  COPD                  1000 non-null   int64 \n",
      " 12  ASTHMA                1000 non-null   int64 \n",
      " 13  INMSUPR               1000 non-null   int64 \n",
      " 14  HIPERTENSION          1000 non-null   int64 \n",
      " 15  OTHER_DISEASE         1000 non-null   int64 \n",
      " 16  CARDIOVASCULAR        1000 non-null   int64 \n",
      " 17  OBESITY               1000 non-null   int64 \n",
      " 18  RENAL_CHRONIC         1000 non-null   int64 \n",
      " 19  TOBACCO               1000 non-null   int64 \n",
      " 20  CLASIFFICATION_FINAL  1000 non-null   int64 \n",
      " 21  ICU                   1000 non-null   int64 \n",
      "dtypes: int64(21), object(1)\n",
      "memory usage: 172.0+ KB\n"
     ]
    }
   ],
   "source": [
    "data.info()"
   ],
   "metadata": {
    "collapsed": false,
    "ExecuteTime": {
     "end_time": "2024-01-10T22:12:32.167900500Z",
     "start_time": "2024-01-10T22:12:32.106900500Z"
    }
   },
   "id": "ef8fbc03cffe9986"
  },
  {
   "cell_type": "code",
   "execution_count": 35,
   "outputs": [],
   "source": [
    "# let's make this classification task\n",
    "\n",
    "data.loc[~data['DATE_DIED'].isin(['9999-99-99']), 'DATE_DIED'] = 1 #checks if the  column is not in the list ['9999-99-99'].\n",
    "data.loc[data['DATE_DIED'] == '9999-99-99', 'DATE_DIED'] = 0\n"
   ],
   "metadata": {
    "collapsed": false,
    "ExecuteTime": {
     "end_time": "2024-01-10T22:12:33.589898400Z",
     "start_time": "2024-01-10T22:12:33.571901600Z"
    }
   },
   "id": "1864ec94b27c306d"
  },
  {
   "cell_type": "code",
   "execution_count": 36,
   "outputs": [
    {
     "data": {
      "text/plain": "     Unnamed: 0  USMER  MEDICAL_UNIT  SEX  PATIENT_TYPE DATE_DIED  INTUBED  \\\n0             0      2             1    1             1         1       97   \n1             1      2             1    2             1         1       97   \n2             2      2             1    2             2         1        1   \n3             3      2             1    1             1         1       97   \n4             4      2             1    2             1         1       97   \n..          ...    ...           ...  ...           ...       ...      ...   \n995         995      2             3    2             2         1        2   \n996         996      1             3    2             2         1        1   \n997         997      1             3    2             2         1        2   \n998         998      1             3    1             2         1        1   \n999         999      2             3    2             2         1        2   \n\n     PNEUMONIA  AGE  PREGNANT  ...  ASTHMA  INMSUPR  HIPERTENSION  \\\n0            1   65         2  ...       2        2             1   \n1            1   72        97  ...       2        2             1   \n2            2   55        97  ...       2        2             2   \n3            2   53         2  ...       2        2             2   \n4            2   68        97  ...       2        2             1   \n..         ...  ...       ...  ...     ...      ...           ...   \n995          1   52        97  ...       2        2             1   \n996          1   70        97  ...       2        2             1   \n997          1   52        97  ...       2        2             2   \n998          1   50         2  ...       2        2             1   \n999          1   45        97  ...       2        2             2   \n\n     OTHER_DISEASE  CARDIOVASCULAR  OBESITY  RENAL_CHRONIC  TOBACCO  \\\n0                2               2        2              2        2   \n1                2               2        1              1        2   \n2                2               2        2              2        2   \n3                2               2        2              2        2   \n4                2               2        2              2        2   \n..             ...             ...      ...            ...      ...   \n995              2               2        2              2        2   \n996              2               2        1              2        1   \n997              2               2        2              2        2   \n998              2               2        2              2        2   \n999              2               2        2              2        2   \n\n     CLASIFFICATION_FINAL  ICU  \n0                       3   97  \n1                       5   97  \n2                       3    2  \n3                       7   97  \n4                       3   97  \n..                    ...  ...  \n995                     3    2  \n996                     3    1  \n997                     3    2  \n998                     6    1  \n999                     6    2  \n\n[1000 rows x 22 columns]",
      "text/html": "<div>\n<style scoped>\n    .dataframe tbody tr th:only-of-type {\n        vertical-align: middle;\n    }\n\n    .dataframe tbody tr th {\n        vertical-align: top;\n    }\n\n    .dataframe thead th {\n        text-align: right;\n    }\n</style>\n<table border=\"1\" class=\"dataframe\">\n  <thead>\n    <tr style=\"text-align: right;\">\n      <th></th>\n      <th>Unnamed: 0</th>\n      <th>USMER</th>\n      <th>MEDICAL_UNIT</th>\n      <th>SEX</th>\n      <th>PATIENT_TYPE</th>\n      <th>DATE_DIED</th>\n      <th>INTUBED</th>\n      <th>PNEUMONIA</th>\n      <th>AGE</th>\n      <th>PREGNANT</th>\n      <th>...</th>\n      <th>ASTHMA</th>\n      <th>INMSUPR</th>\n      <th>HIPERTENSION</th>\n      <th>OTHER_DISEASE</th>\n      <th>CARDIOVASCULAR</th>\n      <th>OBESITY</th>\n      <th>RENAL_CHRONIC</th>\n      <th>TOBACCO</th>\n      <th>CLASIFFICATION_FINAL</th>\n      <th>ICU</th>\n    </tr>\n  </thead>\n  <tbody>\n    <tr>\n      <th>0</th>\n      <td>0</td>\n      <td>2</td>\n      <td>1</td>\n      <td>1</td>\n      <td>1</td>\n      <td>1</td>\n      <td>97</td>\n      <td>1</td>\n      <td>65</td>\n      <td>2</td>\n      <td>...</td>\n      <td>2</td>\n      <td>2</td>\n      <td>1</td>\n      <td>2</td>\n      <td>2</td>\n      <td>2</td>\n      <td>2</td>\n      <td>2</td>\n      <td>3</td>\n      <td>97</td>\n    </tr>\n    <tr>\n      <th>1</th>\n      <td>1</td>\n      <td>2</td>\n      <td>1</td>\n      <td>2</td>\n      <td>1</td>\n      <td>1</td>\n      <td>97</td>\n      <td>1</td>\n      <td>72</td>\n      <td>97</td>\n      <td>...</td>\n      <td>2</td>\n      <td>2</td>\n      <td>1</td>\n      <td>2</td>\n      <td>2</td>\n      <td>1</td>\n      <td>1</td>\n      <td>2</td>\n      <td>5</td>\n      <td>97</td>\n    </tr>\n    <tr>\n      <th>2</th>\n      <td>2</td>\n      <td>2</td>\n      <td>1</td>\n      <td>2</td>\n      <td>2</td>\n      <td>1</td>\n      <td>1</td>\n      <td>2</td>\n      <td>55</td>\n      <td>97</td>\n      <td>...</td>\n      <td>2</td>\n      <td>2</td>\n      <td>2</td>\n      <td>2</td>\n      <td>2</td>\n      <td>2</td>\n      <td>2</td>\n      <td>2</td>\n      <td>3</td>\n      <td>2</td>\n    </tr>\n    <tr>\n      <th>3</th>\n      <td>3</td>\n      <td>2</td>\n      <td>1</td>\n      <td>1</td>\n      <td>1</td>\n      <td>1</td>\n      <td>97</td>\n      <td>2</td>\n      <td>53</td>\n      <td>2</td>\n      <td>...</td>\n      <td>2</td>\n      <td>2</td>\n      <td>2</td>\n      <td>2</td>\n      <td>2</td>\n      <td>2</td>\n      <td>2</td>\n      <td>2</td>\n      <td>7</td>\n      <td>97</td>\n    </tr>\n    <tr>\n      <th>4</th>\n      <td>4</td>\n      <td>2</td>\n      <td>1</td>\n      <td>2</td>\n      <td>1</td>\n      <td>1</td>\n      <td>97</td>\n      <td>2</td>\n      <td>68</td>\n      <td>97</td>\n      <td>...</td>\n      <td>2</td>\n      <td>2</td>\n      <td>1</td>\n      <td>2</td>\n      <td>2</td>\n      <td>2</td>\n      <td>2</td>\n      <td>2</td>\n      <td>3</td>\n      <td>97</td>\n    </tr>\n    <tr>\n      <th>...</th>\n      <td>...</td>\n      <td>...</td>\n      <td>...</td>\n      <td>...</td>\n      <td>...</td>\n      <td>...</td>\n      <td>...</td>\n      <td>...</td>\n      <td>...</td>\n      <td>...</td>\n      <td>...</td>\n      <td>...</td>\n      <td>...</td>\n      <td>...</td>\n      <td>...</td>\n      <td>...</td>\n      <td>...</td>\n      <td>...</td>\n      <td>...</td>\n      <td>...</td>\n      <td>...</td>\n    </tr>\n    <tr>\n      <th>995</th>\n      <td>995</td>\n      <td>2</td>\n      <td>3</td>\n      <td>2</td>\n      <td>2</td>\n      <td>1</td>\n      <td>2</td>\n      <td>1</td>\n      <td>52</td>\n      <td>97</td>\n      <td>...</td>\n      <td>2</td>\n      <td>2</td>\n      <td>1</td>\n      <td>2</td>\n      <td>2</td>\n      <td>2</td>\n      <td>2</td>\n      <td>2</td>\n      <td>3</td>\n      <td>2</td>\n    </tr>\n    <tr>\n      <th>996</th>\n      <td>996</td>\n      <td>1</td>\n      <td>3</td>\n      <td>2</td>\n      <td>2</td>\n      <td>1</td>\n      <td>1</td>\n      <td>1</td>\n      <td>70</td>\n      <td>97</td>\n      <td>...</td>\n      <td>2</td>\n      <td>2</td>\n      <td>1</td>\n      <td>2</td>\n      <td>2</td>\n      <td>1</td>\n      <td>2</td>\n      <td>1</td>\n      <td>3</td>\n      <td>1</td>\n    </tr>\n    <tr>\n      <th>997</th>\n      <td>997</td>\n      <td>1</td>\n      <td>3</td>\n      <td>2</td>\n      <td>2</td>\n      <td>1</td>\n      <td>2</td>\n      <td>1</td>\n      <td>52</td>\n      <td>97</td>\n      <td>...</td>\n      <td>2</td>\n      <td>2</td>\n      <td>2</td>\n      <td>2</td>\n      <td>2</td>\n      <td>2</td>\n      <td>2</td>\n      <td>2</td>\n      <td>3</td>\n      <td>2</td>\n    </tr>\n    <tr>\n      <th>998</th>\n      <td>998</td>\n      <td>1</td>\n      <td>3</td>\n      <td>1</td>\n      <td>2</td>\n      <td>1</td>\n      <td>1</td>\n      <td>1</td>\n      <td>50</td>\n      <td>2</td>\n      <td>...</td>\n      <td>2</td>\n      <td>2</td>\n      <td>1</td>\n      <td>2</td>\n      <td>2</td>\n      <td>2</td>\n      <td>2</td>\n      <td>2</td>\n      <td>6</td>\n      <td>1</td>\n    </tr>\n    <tr>\n      <th>999</th>\n      <td>999</td>\n      <td>2</td>\n      <td>3</td>\n      <td>2</td>\n      <td>2</td>\n      <td>1</td>\n      <td>2</td>\n      <td>1</td>\n      <td>45</td>\n      <td>97</td>\n      <td>...</td>\n      <td>2</td>\n      <td>2</td>\n      <td>2</td>\n      <td>2</td>\n      <td>2</td>\n      <td>2</td>\n      <td>2</td>\n      <td>2</td>\n      <td>6</td>\n      <td>2</td>\n    </tr>\n  </tbody>\n</table>\n<p>1000 rows × 22 columns</p>\n</div>"
     },
     "execution_count": 36,
     "metadata": {},
     "output_type": "execute_result"
    }
   ],
   "source": [
    "data"
   ],
   "metadata": {
    "collapsed": false,
    "ExecuteTime": {
     "end_time": "2024-01-10T22:12:35.003941500Z",
     "start_time": "2024-01-10T22:12:34.939940700Z"
    }
   },
   "id": "2376ae12161e9c42"
  },
  {
   "cell_type": "code",
   "execution_count": 37,
   "outputs": [],
   "source": [
    "X = data.drop('DATE_DIED',axis=1)\n",
    "y = data['DATE_DIED']"
   ],
   "metadata": {
    "collapsed": false,
    "ExecuteTime": {
     "end_time": "2024-01-10T22:12:38.438076100Z",
     "start_time": "2024-01-10T22:12:38.404077400Z"
    }
   },
   "id": "8e0aace2b57fd61b"
  },
  {
   "cell_type": "code",
   "execution_count": 38,
   "outputs": [],
   "source": [
    "X_train, X_test, y_train, y_test = train_test_split(X,y, stratify=y,train_size=0.7, random_state=13)\n"
   ],
   "metadata": {
    "collapsed": false,
    "ExecuteTime": {
     "end_time": "2024-01-10T22:12:40.129821400Z",
     "start_time": "2024-01-10T22:12:40.112834600Z"
    }
   },
   "id": "cdc6b76cf8d863a3"
  },
  {
   "cell_type": "code",
   "execution_count": 39,
   "outputs": [
    {
     "data": {
      "text/plain": "     Unnamed: 0  USMER  MEDICAL_UNIT  SEX  PATIENT_TYPE  INTUBED  PNEUMONIA  \\\n667         667      2             3    1             1       97          2   \n350         350      2             3    1             2        1          1   \n283         283      2             2    2             1       97          2   \n608         608      1             3    2             2        2          1   \n347         347      2             3    1             2        2          1   \n..          ...    ...           ...  ...           ...      ...        ...   \n164         164      1             2    1             2        2          2   \n871         871      1             3    1             2        1          1   \n569         569      1             3    2             2        1          1   \n54           54      2             1    1             1       97          2   \n193         193      1             2    1             2       99         99   \n\n     AGE  PREGNANT  DIABETES  ...  ASTHMA  INMSUPR  HIPERTENSION  \\\n667   48         2         1  ...       2        2             1   \n350   63         2         1  ...       2        2             1   \n283   95        97         2  ...       2        2             2   \n608   40        97         2  ...       2        2             2   \n347   72         2         2  ...       2        2             2   \n..   ...       ...       ...  ...     ...      ...           ...   \n164   12         2         2  ...       2        1             2   \n871   43         2         1  ...       2        2             2   \n569   77        97         1  ...       2        2             1   \n54    62         2         2  ...       2        2             1   \n193    1         2         2  ...       2        2             2   \n\n     OTHER_DISEASE  CARDIOVASCULAR  OBESITY  RENAL_CHRONIC  TOBACCO  \\\n667              2               2        2              2        2   \n350              2               1        2              1        2   \n283              2               2        2              2        2   \n608              2               2        2              2        2   \n347              2               2        1              2        2   \n..             ...             ...      ...            ...      ...   \n164              2               2        2              2        2   \n871              2               2        2              2        2   \n569              2               2        2              2        2   \n54               2               2        1              2        1   \n193              2               2        2              2        2   \n\n     CLASIFFICATION_FINAL  ICU  \n667                     3   97  \n350                     7    2  \n283                     7   97  \n608                     5    2  \n347                     3    2  \n..                    ...  ...  \n164                     3    2  \n871                     3    1  \n569                     3    1  \n54                      7   97  \n193                     7   99  \n\n[700 rows x 21 columns]",
      "text/html": "<div>\n<style scoped>\n    .dataframe tbody tr th:only-of-type {\n        vertical-align: middle;\n    }\n\n    .dataframe tbody tr th {\n        vertical-align: top;\n    }\n\n    .dataframe thead th {\n        text-align: right;\n    }\n</style>\n<table border=\"1\" class=\"dataframe\">\n  <thead>\n    <tr style=\"text-align: right;\">\n      <th></th>\n      <th>Unnamed: 0</th>\n      <th>USMER</th>\n      <th>MEDICAL_UNIT</th>\n      <th>SEX</th>\n      <th>PATIENT_TYPE</th>\n      <th>INTUBED</th>\n      <th>PNEUMONIA</th>\n      <th>AGE</th>\n      <th>PREGNANT</th>\n      <th>DIABETES</th>\n      <th>...</th>\n      <th>ASTHMA</th>\n      <th>INMSUPR</th>\n      <th>HIPERTENSION</th>\n      <th>OTHER_DISEASE</th>\n      <th>CARDIOVASCULAR</th>\n      <th>OBESITY</th>\n      <th>RENAL_CHRONIC</th>\n      <th>TOBACCO</th>\n      <th>CLASIFFICATION_FINAL</th>\n      <th>ICU</th>\n    </tr>\n  </thead>\n  <tbody>\n    <tr>\n      <th>667</th>\n      <td>667</td>\n      <td>2</td>\n      <td>3</td>\n      <td>1</td>\n      <td>1</td>\n      <td>97</td>\n      <td>2</td>\n      <td>48</td>\n      <td>2</td>\n      <td>1</td>\n      <td>...</td>\n      <td>2</td>\n      <td>2</td>\n      <td>1</td>\n      <td>2</td>\n      <td>2</td>\n      <td>2</td>\n      <td>2</td>\n      <td>2</td>\n      <td>3</td>\n      <td>97</td>\n    </tr>\n    <tr>\n      <th>350</th>\n      <td>350</td>\n      <td>2</td>\n      <td>3</td>\n      <td>1</td>\n      <td>2</td>\n      <td>1</td>\n      <td>1</td>\n      <td>63</td>\n      <td>2</td>\n      <td>1</td>\n      <td>...</td>\n      <td>2</td>\n      <td>2</td>\n      <td>1</td>\n      <td>2</td>\n      <td>1</td>\n      <td>2</td>\n      <td>1</td>\n      <td>2</td>\n      <td>7</td>\n      <td>2</td>\n    </tr>\n    <tr>\n      <th>283</th>\n      <td>283</td>\n      <td>2</td>\n      <td>2</td>\n      <td>2</td>\n      <td>1</td>\n      <td>97</td>\n      <td>2</td>\n      <td>95</td>\n      <td>97</td>\n      <td>2</td>\n      <td>...</td>\n      <td>2</td>\n      <td>2</td>\n      <td>2</td>\n      <td>2</td>\n      <td>2</td>\n      <td>2</td>\n      <td>2</td>\n      <td>2</td>\n      <td>7</td>\n      <td>97</td>\n    </tr>\n    <tr>\n      <th>608</th>\n      <td>608</td>\n      <td>1</td>\n      <td>3</td>\n      <td>2</td>\n      <td>2</td>\n      <td>2</td>\n      <td>1</td>\n      <td>40</td>\n      <td>97</td>\n      <td>2</td>\n      <td>...</td>\n      <td>2</td>\n      <td>2</td>\n      <td>2</td>\n      <td>2</td>\n      <td>2</td>\n      <td>2</td>\n      <td>2</td>\n      <td>2</td>\n      <td>5</td>\n      <td>2</td>\n    </tr>\n    <tr>\n      <th>347</th>\n      <td>347</td>\n      <td>2</td>\n      <td>3</td>\n      <td>1</td>\n      <td>2</td>\n      <td>2</td>\n      <td>1</td>\n      <td>72</td>\n      <td>2</td>\n      <td>2</td>\n      <td>...</td>\n      <td>2</td>\n      <td>2</td>\n      <td>2</td>\n      <td>2</td>\n      <td>2</td>\n      <td>1</td>\n      <td>2</td>\n      <td>2</td>\n      <td>3</td>\n      <td>2</td>\n    </tr>\n    <tr>\n      <th>...</th>\n      <td>...</td>\n      <td>...</td>\n      <td>...</td>\n      <td>...</td>\n      <td>...</td>\n      <td>...</td>\n      <td>...</td>\n      <td>...</td>\n      <td>...</td>\n      <td>...</td>\n      <td>...</td>\n      <td>...</td>\n      <td>...</td>\n      <td>...</td>\n      <td>...</td>\n      <td>...</td>\n      <td>...</td>\n      <td>...</td>\n      <td>...</td>\n      <td>...</td>\n      <td>...</td>\n    </tr>\n    <tr>\n      <th>164</th>\n      <td>164</td>\n      <td>1</td>\n      <td>2</td>\n      <td>1</td>\n      <td>2</td>\n      <td>2</td>\n      <td>2</td>\n      <td>12</td>\n      <td>2</td>\n      <td>2</td>\n      <td>...</td>\n      <td>2</td>\n      <td>1</td>\n      <td>2</td>\n      <td>2</td>\n      <td>2</td>\n      <td>2</td>\n      <td>2</td>\n      <td>2</td>\n      <td>3</td>\n      <td>2</td>\n    </tr>\n    <tr>\n      <th>871</th>\n      <td>871</td>\n      <td>1</td>\n      <td>3</td>\n      <td>1</td>\n      <td>2</td>\n      <td>1</td>\n      <td>1</td>\n      <td>43</td>\n      <td>2</td>\n      <td>1</td>\n      <td>...</td>\n      <td>2</td>\n      <td>2</td>\n      <td>2</td>\n      <td>2</td>\n      <td>2</td>\n      <td>2</td>\n      <td>2</td>\n      <td>2</td>\n      <td>3</td>\n      <td>1</td>\n    </tr>\n    <tr>\n      <th>569</th>\n      <td>569</td>\n      <td>1</td>\n      <td>3</td>\n      <td>2</td>\n      <td>2</td>\n      <td>1</td>\n      <td>1</td>\n      <td>77</td>\n      <td>97</td>\n      <td>1</td>\n      <td>...</td>\n      <td>2</td>\n      <td>2</td>\n      <td>1</td>\n      <td>2</td>\n      <td>2</td>\n      <td>2</td>\n      <td>2</td>\n      <td>2</td>\n      <td>3</td>\n      <td>1</td>\n    </tr>\n    <tr>\n      <th>54</th>\n      <td>54</td>\n      <td>2</td>\n      <td>1</td>\n      <td>1</td>\n      <td>1</td>\n      <td>97</td>\n      <td>2</td>\n      <td>62</td>\n      <td>2</td>\n      <td>2</td>\n      <td>...</td>\n      <td>2</td>\n      <td>2</td>\n      <td>1</td>\n      <td>2</td>\n      <td>2</td>\n      <td>1</td>\n      <td>2</td>\n      <td>1</td>\n      <td>7</td>\n      <td>97</td>\n    </tr>\n    <tr>\n      <th>193</th>\n      <td>193</td>\n      <td>1</td>\n      <td>2</td>\n      <td>1</td>\n      <td>2</td>\n      <td>99</td>\n      <td>99</td>\n      <td>1</td>\n      <td>2</td>\n      <td>2</td>\n      <td>...</td>\n      <td>2</td>\n      <td>2</td>\n      <td>2</td>\n      <td>2</td>\n      <td>2</td>\n      <td>2</td>\n      <td>2</td>\n      <td>2</td>\n      <td>7</td>\n      <td>99</td>\n    </tr>\n  </tbody>\n</table>\n<p>700 rows × 21 columns</p>\n</div>"
     },
     "execution_count": 39,
     "metadata": {},
     "output_type": "execute_result"
    }
   ],
   "source": [
    "X_train"
   ],
   "metadata": {
    "collapsed": false,
    "ExecuteTime": {
     "end_time": "2024-01-10T22:12:44.754084100Z",
     "start_time": "2024-01-10T22:12:44.673057400Z"
    }
   },
   "id": "10708d756838a1e8"
  },
  {
   "cell_type": "markdown",
   "source": [
    "### Pipeline"
   ],
   "metadata": {
    "collapsed": false
   },
   "id": "bc4d993373c15072"
  },
  {
   "cell_type": "code",
   "execution_count": null,
   "outputs": [],
   "source": [
    "numerical_features = ['AGE']\n",
    "\n",
    "categorical_features = [i for i in X_train.columns if i not in numerical_features]\n",
    "\n",
    "# numeric data pipeline\n",
    "pipe_num = Pipeline([\n",
    "    # ('imputer', SimpleImputer(strategy='median')), # not necessary because we have already clean data \n",
    "    ('power_tr', PowerTransformer()),\n",
    "    ('scaler', StandardScaler()) ])\n",
    "\n",
    "# cat data pipeline\n",
    "pipe_cat = Pipeline([\n",
    "    # ('imputer', SimpleImputer(strategy='constant',fill_value='unknown')), # not necessary because we have already clean data \n",
    "    ('encoding', OneHotEncoder(sparse_output=False, handle_unknown='ignore')) ])\n",
    "\n",
    "# column transformer\n",
    "ct = ColumnTransformer([\n",
    "    ('pipe_num', pipe_num, numerical_features),\n",
    "    ('pipe_cat', pipe_cat, categorical_features) ])"
   ],
   "metadata": {
    "collapsed": false,
    "ExecuteTime": {
     "end_time": "2024-01-10T21:59:06.835017200Z",
     "start_time": "2024-01-10T21:59:06.831996800Z"
    }
   },
   "id": "a9f5b9abc2c88590"
  },
  {
   "cell_type": "markdown",
   "source": [
    "## 3. Model training"
   ],
   "metadata": {
    "collapsed": false
   },
   "id": "13f14c106d46e076"
  },
  {
   "cell_type": "markdown",
   "source": [
    "### 3.1 XGBoost model\n",
    "XGBoost is an optimized distributed gradient boosting library designed to be highly efficient, flexible and portable. It implements machine learning algorithms under the Gradient Boosting framework. XGBoost provides a parallel tree boosting (also known as GBDT, GBM) that solve many data science problems in a fast and accurate way. The same code runs on major distributed environment (Hadoop, SGE, MPI) and can solve problems beyond billions of examples."
   ],
   "metadata": {
    "collapsed": false
   },
   "id": "89e4e8ef17bed79f"
  },
  {
   "cell_type": "code",
   "execution_count": 9,
   "outputs": [
    {
     "ename": "NameError",
     "evalue": "name 'ct' is not defined",
     "output_type": "error",
     "traceback": [
      "\u001B[1;31m---------------------------------------------------------------------------\u001B[0m",
      "\u001B[1;31mNameError\u001B[0m                                 Traceback (most recent call last)",
      "Cell \u001B[1;32mIn[9], line 3\u001B[0m\n\u001B[0;32m      1\u001B[0m \u001B[38;5;66;03m#full pipeline with XGBoost\u001B[39;00m\n\u001B[0;32m      2\u001B[0m pipe \u001B[38;5;241m=\u001B[39m Pipeline([\n\u001B[1;32m----> 3\u001B[0m     (\u001B[38;5;124m'\u001B[39m\u001B[38;5;124mcolumn_transformer\u001B[39m\u001B[38;5;124m'\u001B[39m, \u001B[43mct\u001B[49m),\n\u001B[0;32m      4\u001B[0m     (\u001B[38;5;124m'\u001B[39m\u001B[38;5;124mmodel\u001B[39m\u001B[38;5;124m'\u001B[39m, xgb\u001B[38;5;241m.\u001B[39mXGBClassifier()),  \u001B[38;5;66;03m# It denotes the fraction of observations to be randomly samples for each tree. \u001B[39;00m\n\u001B[0;32m      5\u001B[0m ])\n",
      "\u001B[1;31mNameError\u001B[0m: name 'ct' is not defined"
     ]
    }
   ],
   "source": [
    "#full pipeline with XGBoost\n",
    "pipe = Pipeline([\n",
    "    ('column_transformer', ct),\n",
    "    ('model', xgb.XGBClassifier()),  # It denotes the fraction of observations to be randomly samples for each tree. \n",
    "])\n"
   ],
   "metadata": {
    "collapsed": false,
    "ExecuteTime": {
     "end_time": "2024-01-10T21:59:07.214040500Z",
     "start_time": "2024-01-10T21:59:07.160997200Z"
    }
   },
   "id": "34b6f6a5a908e860"
  },
  {
   "cell_type": "code",
   "execution_count": 10,
   "outputs": [],
   "source": [
    "mlflow.set_tracking_uri(uri='http://127.0.0.1:5000')\n",
    "client = MlflowClient()\n",
    "local_dir = ('C:/Users/Peter/DataspellProjects/pollock')\n"
   ],
   "metadata": {
    "collapsed": false,
    "ExecuteTime": {
     "end_time": "2024-01-10T21:59:07.442997600Z",
     "start_time": "2024-01-10T21:59:07.426001900Z"
    }
   },
   "id": "f0c2c28ce8f6442f"
  },
  {
   "cell_type": "code",
   "execution_count": 11,
   "outputs": [
    {
     "name": "stderr",
     "output_type": "stream",
     "text": [
      "[I 2024-01-11 00:59:07,974] A new study created in memory with name: no-name-57b30afa-96de-4a5a-8a54-db093dd29f6d\n",
      "[W 2024-01-11 00:59:07,978] Trial 0 failed with parameters: {'model__eta': 0.1786362185217251, 'model__gamma': 1.0539854463513472, 'model__max_depth': 8, 'model__min_child_weight': 7.4760088278700145, 'model__max_delta_step': 4.221996819410605, 'model__subsample': 0.8349318851436973, 'model__colsample_bytree': 0.6110668553134777, 'model__colsample_bylevel': 0.6402830439645868, 'model__colsample_bynode': 0.5378435785888132, 'model__reg_lambda': 10.67028593140285, 'model__reg_alpha': 87.74754936249204, 'model__scale_pos_weight': 3.1905012085621443, 'model__max_leaves': 60} because of the following error: NameError(\"name 'pipe' is not defined\").\n",
      "Traceback (most recent call last):\n",
      "  File \"C:\\ProgramData\\anaconda3\\envs\\kanagawa\\lib\\site-packages\\optuna\\study\\_optimize.py\", line 200, in _run_trial\n",
      "    value_or_values = func(trial)\n",
      "  File \"C:\\Users\\Peter\\AppData\\Local\\Temp\\ipykernel_27000\\2753971248.py\", line 21, in objective\n",
      "    pipe.set_params(**params)\n",
      "NameError: name 'pipe' is not defined\n",
      "[W 2024-01-11 00:59:07,981] Trial 0 failed with value None.\n"
     ]
    },
    {
     "ename": "NameError",
     "evalue": "name 'pipe' is not defined",
     "output_type": "error",
     "traceback": [
      "\u001B[1;31m---------------------------------------------------------------------------\u001B[0m",
      "\u001B[1;31mNameError\u001B[0m                                 Traceback (most recent call last)",
      "Cell \u001B[1;32mIn[11], line 33\u001B[0m\n\u001B[0;32m     31\u001B[0m \u001B[38;5;28;01mwith\u001B[39;00m mlflow\u001B[38;5;241m.\u001B[39mstart_run(run_name\u001B[38;5;241m=\u001B[39m\u001B[38;5;124m'\u001B[39m\u001B[38;5;124mxgb_optuna_run\u001B[39m\u001B[38;5;124m'\u001B[39m):\n\u001B[0;32m     32\u001B[0m     study \u001B[38;5;241m=\u001B[39m optuna\u001B[38;5;241m.\u001B[39mcreate_study(direction\u001B[38;5;241m=\u001B[39m\u001B[38;5;124m'\u001B[39m\u001B[38;5;124mmaximize\u001B[39m\u001B[38;5;124m'\u001B[39m)  \u001B[38;5;66;03m# Maximize F1 score\u001B[39;00m\n\u001B[1;32m---> 33\u001B[0m     \u001B[43mstudy\u001B[49m\u001B[38;5;241;43m.\u001B[39;49m\u001B[43moptimize\u001B[49m\u001B[43m(\u001B[49m\u001B[43mobjective\u001B[49m\u001B[43m,\u001B[49m\u001B[43m \u001B[49m\u001B[43mn_trials\u001B[49m\u001B[38;5;241;43m=\u001B[39;49m\u001B[38;5;241;43m10\u001B[39;49m\u001B[43m)\u001B[49m\n\u001B[0;32m     35\u001B[0m     best_trial \u001B[38;5;241m=\u001B[39m study\u001B[38;5;241m.\u001B[39mbest_trial\n\u001B[0;32m     36\u001B[0m     best_params \u001B[38;5;241m=\u001B[39m best_trial\u001B[38;5;241m.\u001B[39mparams\n",
      "File \u001B[1;32mC:\\ProgramData\\anaconda3\\envs\\kanagawa\\lib\\site-packages\\optuna\\study\\study.py:451\u001B[0m, in \u001B[0;36mStudy.optimize\u001B[1;34m(self, func, n_trials, timeout, n_jobs, catch, callbacks, gc_after_trial, show_progress_bar)\u001B[0m\n\u001B[0;32m    348\u001B[0m \u001B[38;5;28;01mdef\u001B[39;00m \u001B[38;5;21moptimize\u001B[39m(\n\u001B[0;32m    349\u001B[0m     \u001B[38;5;28mself\u001B[39m,\n\u001B[0;32m    350\u001B[0m     func: ObjectiveFuncType,\n\u001B[1;32m   (...)\u001B[0m\n\u001B[0;32m    357\u001B[0m     show_progress_bar: \u001B[38;5;28mbool\u001B[39m \u001B[38;5;241m=\u001B[39m \u001B[38;5;28;01mFalse\u001B[39;00m,\n\u001B[0;32m    358\u001B[0m ) \u001B[38;5;241m-\u001B[39m\u001B[38;5;241m>\u001B[39m \u001B[38;5;28;01mNone\u001B[39;00m:\n\u001B[0;32m    359\u001B[0m \u001B[38;5;250m    \u001B[39m\u001B[38;5;124;03m\"\"\"Optimize an objective function.\u001B[39;00m\n\u001B[0;32m    360\u001B[0m \n\u001B[0;32m    361\u001B[0m \u001B[38;5;124;03m    Optimization is done by choosing a suitable set of hyperparameter values from a given\u001B[39;00m\n\u001B[1;32m   (...)\u001B[0m\n\u001B[0;32m    449\u001B[0m \u001B[38;5;124;03m            If nested invocation of this method occurs.\u001B[39;00m\n\u001B[0;32m    450\u001B[0m \u001B[38;5;124;03m    \"\"\"\u001B[39;00m\n\u001B[1;32m--> 451\u001B[0m     \u001B[43m_optimize\u001B[49m\u001B[43m(\u001B[49m\n\u001B[0;32m    452\u001B[0m \u001B[43m        \u001B[49m\u001B[43mstudy\u001B[49m\u001B[38;5;241;43m=\u001B[39;49m\u001B[38;5;28;43mself\u001B[39;49m\u001B[43m,\u001B[49m\n\u001B[0;32m    453\u001B[0m \u001B[43m        \u001B[49m\u001B[43mfunc\u001B[49m\u001B[38;5;241;43m=\u001B[39;49m\u001B[43mfunc\u001B[49m\u001B[43m,\u001B[49m\n\u001B[0;32m    454\u001B[0m \u001B[43m        \u001B[49m\u001B[43mn_trials\u001B[49m\u001B[38;5;241;43m=\u001B[39;49m\u001B[43mn_trials\u001B[49m\u001B[43m,\u001B[49m\n\u001B[0;32m    455\u001B[0m \u001B[43m        \u001B[49m\u001B[43mtimeout\u001B[49m\u001B[38;5;241;43m=\u001B[39;49m\u001B[43mtimeout\u001B[49m\u001B[43m,\u001B[49m\n\u001B[0;32m    456\u001B[0m \u001B[43m        \u001B[49m\u001B[43mn_jobs\u001B[49m\u001B[38;5;241;43m=\u001B[39;49m\u001B[43mn_jobs\u001B[49m\u001B[43m,\u001B[49m\n\u001B[0;32m    457\u001B[0m \u001B[43m        \u001B[49m\u001B[43mcatch\u001B[49m\u001B[38;5;241;43m=\u001B[39;49m\u001B[38;5;28;43mtuple\u001B[39;49m\u001B[43m(\u001B[49m\u001B[43mcatch\u001B[49m\u001B[43m)\u001B[49m\u001B[43m \u001B[49m\u001B[38;5;28;43;01mif\u001B[39;49;00m\u001B[43m \u001B[49m\u001B[38;5;28;43misinstance\u001B[39;49m\u001B[43m(\u001B[49m\u001B[43mcatch\u001B[49m\u001B[43m,\u001B[49m\u001B[43m \u001B[49m\u001B[43mIterable\u001B[49m\u001B[43m)\u001B[49m\u001B[43m \u001B[49m\u001B[38;5;28;43;01melse\u001B[39;49;00m\u001B[43m \u001B[49m\u001B[43m(\u001B[49m\u001B[43mcatch\u001B[49m\u001B[43m,\u001B[49m\u001B[43m)\u001B[49m\u001B[43m,\u001B[49m\n\u001B[0;32m    458\u001B[0m \u001B[43m        \u001B[49m\u001B[43mcallbacks\u001B[49m\u001B[38;5;241;43m=\u001B[39;49m\u001B[43mcallbacks\u001B[49m\u001B[43m,\u001B[49m\n\u001B[0;32m    459\u001B[0m \u001B[43m        \u001B[49m\u001B[43mgc_after_trial\u001B[49m\u001B[38;5;241;43m=\u001B[39;49m\u001B[43mgc_after_trial\u001B[49m\u001B[43m,\u001B[49m\n\u001B[0;32m    460\u001B[0m \u001B[43m        \u001B[49m\u001B[43mshow_progress_bar\u001B[49m\u001B[38;5;241;43m=\u001B[39;49m\u001B[43mshow_progress_bar\u001B[49m\u001B[43m,\u001B[49m\n\u001B[0;32m    461\u001B[0m \u001B[43m    \u001B[49m\u001B[43m)\u001B[49m\n",
      "File \u001B[1;32mC:\\ProgramData\\anaconda3\\envs\\kanagawa\\lib\\site-packages\\optuna\\study\\_optimize.py:66\u001B[0m, in \u001B[0;36m_optimize\u001B[1;34m(study, func, n_trials, timeout, n_jobs, catch, callbacks, gc_after_trial, show_progress_bar)\u001B[0m\n\u001B[0;32m     64\u001B[0m \u001B[38;5;28;01mtry\u001B[39;00m:\n\u001B[0;32m     65\u001B[0m     \u001B[38;5;28;01mif\u001B[39;00m n_jobs \u001B[38;5;241m==\u001B[39m \u001B[38;5;241m1\u001B[39m:\n\u001B[1;32m---> 66\u001B[0m         \u001B[43m_optimize_sequential\u001B[49m\u001B[43m(\u001B[49m\n\u001B[0;32m     67\u001B[0m \u001B[43m            \u001B[49m\u001B[43mstudy\u001B[49m\u001B[43m,\u001B[49m\n\u001B[0;32m     68\u001B[0m \u001B[43m            \u001B[49m\u001B[43mfunc\u001B[49m\u001B[43m,\u001B[49m\n\u001B[0;32m     69\u001B[0m \u001B[43m            \u001B[49m\u001B[43mn_trials\u001B[49m\u001B[43m,\u001B[49m\n\u001B[0;32m     70\u001B[0m \u001B[43m            \u001B[49m\u001B[43mtimeout\u001B[49m\u001B[43m,\u001B[49m\n\u001B[0;32m     71\u001B[0m \u001B[43m            \u001B[49m\u001B[43mcatch\u001B[49m\u001B[43m,\u001B[49m\n\u001B[0;32m     72\u001B[0m \u001B[43m            \u001B[49m\u001B[43mcallbacks\u001B[49m\u001B[43m,\u001B[49m\n\u001B[0;32m     73\u001B[0m \u001B[43m            \u001B[49m\u001B[43mgc_after_trial\u001B[49m\u001B[43m,\u001B[49m\n\u001B[0;32m     74\u001B[0m \u001B[43m            \u001B[49m\u001B[43mreseed_sampler_rng\u001B[49m\u001B[38;5;241;43m=\u001B[39;49m\u001B[38;5;28;43;01mFalse\u001B[39;49;00m\u001B[43m,\u001B[49m\n\u001B[0;32m     75\u001B[0m \u001B[43m            \u001B[49m\u001B[43mtime_start\u001B[49m\u001B[38;5;241;43m=\u001B[39;49m\u001B[38;5;28;43;01mNone\u001B[39;49;00m\u001B[43m,\u001B[49m\n\u001B[0;32m     76\u001B[0m \u001B[43m            \u001B[49m\u001B[43mprogress_bar\u001B[49m\u001B[38;5;241;43m=\u001B[39;49m\u001B[43mprogress_bar\u001B[49m\u001B[43m,\u001B[49m\n\u001B[0;32m     77\u001B[0m \u001B[43m        \u001B[49m\u001B[43m)\u001B[49m\n\u001B[0;32m     78\u001B[0m     \u001B[38;5;28;01melse\u001B[39;00m:\n\u001B[0;32m     79\u001B[0m         \u001B[38;5;28;01mif\u001B[39;00m n_jobs \u001B[38;5;241m==\u001B[39m \u001B[38;5;241m-\u001B[39m\u001B[38;5;241m1\u001B[39m:\n",
      "File \u001B[1;32mC:\\ProgramData\\anaconda3\\envs\\kanagawa\\lib\\site-packages\\optuna\\study\\_optimize.py:163\u001B[0m, in \u001B[0;36m_optimize_sequential\u001B[1;34m(study, func, n_trials, timeout, catch, callbacks, gc_after_trial, reseed_sampler_rng, time_start, progress_bar)\u001B[0m\n\u001B[0;32m    160\u001B[0m         \u001B[38;5;28;01mbreak\u001B[39;00m\n\u001B[0;32m    162\u001B[0m \u001B[38;5;28;01mtry\u001B[39;00m:\n\u001B[1;32m--> 163\u001B[0m     frozen_trial \u001B[38;5;241m=\u001B[39m \u001B[43m_run_trial\u001B[49m\u001B[43m(\u001B[49m\u001B[43mstudy\u001B[49m\u001B[43m,\u001B[49m\u001B[43m \u001B[49m\u001B[43mfunc\u001B[49m\u001B[43m,\u001B[49m\u001B[43m \u001B[49m\u001B[43mcatch\u001B[49m\u001B[43m)\u001B[49m\n\u001B[0;32m    164\u001B[0m \u001B[38;5;28;01mfinally\u001B[39;00m:\n\u001B[0;32m    165\u001B[0m     \u001B[38;5;66;03m# The following line mitigates memory problems that can be occurred in some\u001B[39;00m\n\u001B[0;32m    166\u001B[0m     \u001B[38;5;66;03m# environments (e.g., services that use computing containers such as GitHub Actions).\u001B[39;00m\n\u001B[0;32m    167\u001B[0m     \u001B[38;5;66;03m# Please refer to the following PR for further details:\u001B[39;00m\n\u001B[0;32m    168\u001B[0m     \u001B[38;5;66;03m# https://github.com/optuna/optuna/pull/325.\u001B[39;00m\n\u001B[0;32m    169\u001B[0m     \u001B[38;5;28;01mif\u001B[39;00m gc_after_trial:\n",
      "File \u001B[1;32mC:\\ProgramData\\anaconda3\\envs\\kanagawa\\lib\\site-packages\\optuna\\study\\_optimize.py:251\u001B[0m, in \u001B[0;36m_run_trial\u001B[1;34m(study, func, catch)\u001B[0m\n\u001B[0;32m    244\u001B[0m         \u001B[38;5;28;01massert\u001B[39;00m \u001B[38;5;28;01mFalse\u001B[39;00m, \u001B[38;5;124m\"\u001B[39m\u001B[38;5;124mShould not reach.\u001B[39m\u001B[38;5;124m\"\u001B[39m\n\u001B[0;32m    246\u001B[0m \u001B[38;5;28;01mif\u001B[39;00m (\n\u001B[0;32m    247\u001B[0m     frozen_trial\u001B[38;5;241m.\u001B[39mstate \u001B[38;5;241m==\u001B[39m TrialState\u001B[38;5;241m.\u001B[39mFAIL\n\u001B[0;32m    248\u001B[0m     \u001B[38;5;129;01mand\u001B[39;00m func_err \u001B[38;5;129;01mis\u001B[39;00m \u001B[38;5;129;01mnot\u001B[39;00m \u001B[38;5;28;01mNone\u001B[39;00m\n\u001B[0;32m    249\u001B[0m     \u001B[38;5;129;01mand\u001B[39;00m \u001B[38;5;129;01mnot\u001B[39;00m \u001B[38;5;28misinstance\u001B[39m(func_err, catch)\n\u001B[0;32m    250\u001B[0m ):\n\u001B[1;32m--> 251\u001B[0m     \u001B[38;5;28;01mraise\u001B[39;00m func_err\n\u001B[0;32m    252\u001B[0m \u001B[38;5;28;01mreturn\u001B[39;00m frozen_trial\n",
      "File \u001B[1;32mC:\\ProgramData\\anaconda3\\envs\\kanagawa\\lib\\site-packages\\optuna\\study\\_optimize.py:200\u001B[0m, in \u001B[0;36m_run_trial\u001B[1;34m(study, func, catch)\u001B[0m\n\u001B[0;32m    198\u001B[0m \u001B[38;5;28;01mwith\u001B[39;00m get_heartbeat_thread(trial\u001B[38;5;241m.\u001B[39m_trial_id, study\u001B[38;5;241m.\u001B[39m_storage):\n\u001B[0;32m    199\u001B[0m     \u001B[38;5;28;01mtry\u001B[39;00m:\n\u001B[1;32m--> 200\u001B[0m         value_or_values \u001B[38;5;241m=\u001B[39m \u001B[43mfunc\u001B[49m\u001B[43m(\u001B[49m\u001B[43mtrial\u001B[49m\u001B[43m)\u001B[49m\n\u001B[0;32m    201\u001B[0m     \u001B[38;5;28;01mexcept\u001B[39;00m exceptions\u001B[38;5;241m.\u001B[39mTrialPruned \u001B[38;5;28;01mas\u001B[39;00m e:\n\u001B[0;32m    202\u001B[0m         \u001B[38;5;66;03m# TODO(mamu): Handle multi-objective cases.\u001B[39;00m\n\u001B[0;32m    203\u001B[0m         state \u001B[38;5;241m=\u001B[39m TrialState\u001B[38;5;241m.\u001B[39mPRUNED\n",
      "Cell \u001B[1;32mIn[11], line 21\u001B[0m, in \u001B[0;36mobjective\u001B[1;34m(trial)\u001B[0m\n\u001B[0;32m      2\u001B[0m \u001B[38;5;28;01mdef\u001B[39;00m \u001B[38;5;21mobjective\u001B[39m(trial):\n\u001B[0;32m      3\u001B[0m \n\u001B[0;32m      4\u001B[0m     \u001B[38;5;66;03m# params for optimization\u001B[39;00m\n\u001B[0;32m      5\u001B[0m     params \u001B[38;5;241m=\u001B[39m {\n\u001B[0;32m      6\u001B[0m         \u001B[38;5;124m'\u001B[39m\u001B[38;5;124mmodel__eta\u001B[39m\u001B[38;5;124m'\u001B[39m: trial\u001B[38;5;241m.\u001B[39msuggest_float(\u001B[38;5;124m'\u001B[39m\u001B[38;5;124mmodel__eta\u001B[39m\u001B[38;5;124m'\u001B[39m, \u001B[38;5;241m0.01\u001B[39m, \u001B[38;5;241m0.2\u001B[39m),\n\u001B[0;32m      7\u001B[0m         \u001B[38;5;124m'\u001B[39m\u001B[38;5;124mmodel__gamma\u001B[39m\u001B[38;5;124m'\u001B[39m: trial\u001B[38;5;241m.\u001B[39msuggest_float(\u001B[38;5;124m'\u001B[39m\u001B[38;5;124mmodel__gamma\u001B[39m\u001B[38;5;124m'\u001B[39m, \u001B[38;5;241m0.01\u001B[39m, \u001B[38;5;241m5\u001B[39m),\n\u001B[1;32m   (...)\u001B[0m\n\u001B[0;32m     18\u001B[0m         \u001B[38;5;124m'\u001B[39m\u001B[38;5;124mmodel__max_leaves\u001B[39m\u001B[38;5;124m'\u001B[39m: trial\u001B[38;5;241m.\u001B[39msuggest_int(\u001B[38;5;124m'\u001B[39m\u001B[38;5;124mmodel__max_leaves\u001B[39m\u001B[38;5;124m'\u001B[39m, \u001B[38;5;241m1\u001B[39m, \u001B[38;5;241m100\u001B[39m),\n\u001B[0;32m     19\u001B[0m     }\n\u001B[1;32m---> 21\u001B[0m     \u001B[43mpipe\u001B[49m\u001B[38;5;241m.\u001B[39mset_params(\u001B[38;5;241m*\u001B[39m\u001B[38;5;241m*\u001B[39mparams)\n\u001B[0;32m     23\u001B[0m     \u001B[38;5;66;03m# model fitting\u001B[39;00m\n\u001B[0;32m     24\u001B[0m     cross_val_f1 \u001B[38;5;241m=\u001B[39m cross_val_score(pipe, X_train, \u001B[38;5;28mlist\u001B[39m(y_train), scoring\u001B[38;5;241m=\u001B[39m\u001B[38;5;124m'\u001B[39m\u001B[38;5;124mf1\u001B[39m\u001B[38;5;124m'\u001B[39m)\u001B[38;5;241m.\u001B[39mmean()\n",
      "\u001B[1;31mNameError\u001B[0m: name 'pipe' is not defined"
     ]
    }
   ],
   "source": [
    "# optimize hyperparameters with Optuna\n",
    "def objective(trial):\n",
    "\n",
    "    # params for optimization\n",
    "    params = {\n",
    "        'model__eta': trial.suggest_float('model__eta', 0.01, 0.2),\n",
    "        'model__gamma': trial.suggest_float('model__gamma', 0.01, 5),\n",
    "        'model__max_depth': trial.suggest_int('model__max_depth', 3, 10),\n",
    "        'model__min_child_weight': trial.suggest_float('model__min_child_weight', 1, 10),\n",
    "        'model__max_delta_step': trial.suggest_float('model__max_delta_step', 0.001, 10),\n",
    "        'model__subsample': trial.suggest_float('model__subsample', 0.1, 1),\n",
    "        'model__colsample_bytree': trial.suggest_float('model__colsample_bytree', 0.5, 1),\n",
    "        'model__colsample_bylevel': trial.suggest_float('model__colsample_bylevel', 0.5, 1),\n",
    "        'model__colsample_bynode': trial.suggest_float('model__colsample_bynode', 0.5, 1),\n",
    "        'model__reg_lambda': trial.suggest_float('model__reg_lambda', 1e-5, 1e2),\n",
    "        'model__reg_alpha': trial.suggest_float('model__reg_alpha', 1e-5, 1e2),\n",
    "        'model__scale_pos_weight': trial.suggest_float('model__scale_pos_weight', 1, 10),\n",
    "        'model__max_leaves': trial.suggest_int('model__max_leaves', 1, 100),\n",
    "    }\n",
    "\n",
    "    pipe.set_params(**params)\n",
    "\n",
    "    # model fitting\n",
    "    cross_val_f1 = cross_val_score(pipe, X_train, list(y_train), scoring='f1').mean()\n",
    "\n",
    "    return cross_val_f1  # Use F1 score for binary classification\n",
    "\n",
    "\n",
    "mlflow.set_experiment(\"MLflow_hype_optuna_XGB\")\n",
    "\n",
    "with mlflow.start_run(run_name='xgb_optuna_run'):\n",
    "    study = optuna.create_study(direction='maximize')  # Maximize F1 score\n",
    "    study.optimize(objective, n_trials=10)\n",
    "\n",
    "    best_trial = study.best_trial\n",
    "    best_params = best_trial.params\n",
    "\n",
    "    # Log parameters\n",
    "    mlflow.log_params(best_params)\n",
    "\n",
    "    # Set the best parameters to your model\n",
    "    pipe.set_params(**best_params)\n",
    "\n",
    "    # Train the model with the best parameters on the entire training set\n",
    "    pipe.fit(X_train, y_train)\n",
    "\n",
    "    # Make predictions on the test set\n",
    "    y_pred = pipe.predict(X_test)\n",
    "\n",
    "\n",
    "# Metrics\n",
    "    accuracy = accuracy_score(list(y_test), y_pred)\n",
    "    recall = recall_score(list(y_test), y_pred)\n",
    "    f1 = f1_score(list(y_test), y_pred)\n",
    "\n",
    "    mlflow.sklearn.log_model(pipe, 'xgb_model_optuna')\n",
    "\n",
    "    # Log metrics\n",
    "    mlflow.log_metrics({\n",
    "        'accuracy': accuracy,\n",
    "        'recall': recall,\n",
    "        'f1_score': f1,\n",
    "    })\n",
    "\n",
    "    # Calculate ROC AUC (if needed for binary classification)\n",
    "    fpr, tpr, thresholds = roc_curve(list(y_test), y_pred)\n",
    "    roc_auc = roc_auc_score(list(y_test), y_pred)\n",
    "\n",
    "    # Plot ROC curve (if needed for binary classification)\n",
    "    plt.figure(figsize=(8, 8))\n",
    "    plt.plot(fpr, tpr, color='darkorange', lw=2, label='ROC curve (area = {:.2f})'.format(roc_auc))\n",
    "    plt.plot([0, 1], [0, 1], color='navy', lw=2, linestyle='--')\n",
    "    plt.xlabel('False Positive Rate')\n",
    "    plt.ylabel('True Positive Rate')\n",
    "    plt.title('Receiver Operating Characteristic (ROC) Curve')\n",
    "    plt.legend(loc='lower right')\n",
    "\n",
    "    # Save the plot to a local file\n",
    "    roc_auc_plot_path = \"mlruns/roc_auc_plot.png\"\n",
    "    plt.savefig(roc_auc_plot_path)\n",
    "    plt.close()\n",
    "\n",
    "    # Log ROC AUC plot as an artifact (if needed for binary classification)\n",
    "    mlflow.log_artifact(roc_auc_plot_path, \"roc_auc_plot\")\n"
   ],
   "metadata": {
    "collapsed": false,
    "ExecuteTime": {
     "end_time": "2024-01-10T21:59:08.291001100Z",
     "start_time": "2024-01-10T21:59:07.655999300Z"
    }
   },
   "id": "ee8d4deb7d529d4e"
  },
  {
   "cell_type": "code",
   "execution_count": null,
   "outputs": [],
   "source": [
    "logged_model_xgb = 'runs:/38d9fc155e7f4dc3b5e1cdce89a95577/xgb_model_optuna'\n",
    "\n",
    "# Load model as a PyFuncModel.\n",
    "loaded_model_xgb = mlflow.pyfunc.load_model(logged_model_xgb)"
   ],
   "metadata": {
    "collapsed": false,
    "ExecuteTime": {
     "end_time": "2024-01-10T21:59:08.302999200Z",
     "start_time": "2024-01-10T21:59:08.295000700Z"
    }
   },
   "id": "8b53da076de0e3a7"
  },
  {
   "cell_type": "code",
   "execution_count": null,
   "outputs": [],
   "source": [
    "joblib.dump(loaded_model_xgb,'xgb_optuna_model.joblib')"
   ],
   "metadata": {
    "collapsed": false,
    "ExecuteTime": {
     "start_time": "2024-01-10T21:59:08.299001300Z"
    }
   },
   "id": "2624a54b9f33e7ec"
  },
  {
   "cell_type": "markdown",
   "source": [
    "### 3.2 CatBoost model\n",
    "Catboost is a boosted decision tree machine learning algorithm developed by Yandex. It works in the same way as other gradient boosted algorithms such as XGBoost but provides support out of the box for categorical variables, has a higher level of accuracy without tuning parameters and also offers GPU support to speed up training.\n"
   ],
   "metadata": {
    "collapsed": false
   },
   "id": "653928a52dac5695"
  },
  {
   "cell_type": "code",
   "execution_count": 12,
   "outputs": [
    {
     "ename": "NameError",
     "evalue": "name 'ct' is not defined",
     "output_type": "error",
     "traceback": [
      "\u001B[1;31m---------------------------------------------------------------------------\u001B[0m",
      "\u001B[1;31mNameError\u001B[0m                                 Traceback (most recent call last)",
      "Cell \u001B[1;32mIn[12], line 3\u001B[0m\n\u001B[0;32m      1\u001B[0m \u001B[38;5;66;03m# Full pipeline with CatBoost\u001B[39;00m\n\u001B[0;32m      2\u001B[0m cat_pipe \u001B[38;5;241m=\u001B[39m Pipeline([\n\u001B[1;32m----> 3\u001B[0m     (\u001B[38;5;124m'\u001B[39m\u001B[38;5;124mcolumn_transformer\u001B[39m\u001B[38;5;124m'\u001B[39m, \u001B[43mct\u001B[49m),\n\u001B[0;32m      4\u001B[0m     (\u001B[38;5;124m'\u001B[39m\u001B[38;5;124mmodel\u001B[39m\u001B[38;5;124m'\u001B[39m, CatBoostClassifier()),  \u001B[38;5;66;03m# Use CatBoostClassifier\u001B[39;00m\n\u001B[0;32m      5\u001B[0m ])\n",
      "\u001B[1;31mNameError\u001B[0m: name 'ct' is not defined"
     ]
    }
   ],
   "source": [
    "# Full pipeline with CatBoost\n",
    "cat_pipe = Pipeline([\n",
    "    ('column_transformer', ct),\n",
    "    ('model', CatBoostClassifier()),  # Use CatBoostClassifier\n",
    "])"
   ],
   "metadata": {
    "collapsed": false,
    "ExecuteTime": {
     "end_time": "2024-01-10T21:59:08.566997400Z",
     "start_time": "2024-01-10T21:59:08.534000200Z"
    }
   },
   "id": "2fda97491f584df1"
  },
  {
   "cell_type": "code",
   "execution_count": 13,
   "outputs": [
    {
     "name": "stderr",
     "output_type": "stream",
     "text": [
      "[I 2024-01-11 00:59:09,068] A new study created in memory with name: no-name-b489c625-c557-4ae1-be77-975c9e11ba00\n",
      "[W 2024-01-11 00:59:09,071] Trial 0 failed with parameters: {'model__learning_rate': 0.14259961582120448, 'model__depth': 6, 'model__l2_leaf_reg': 6.729640716001769, 'model__subsample': 0.6548678026271023, 'model__colsample_bylevel': 0.6795087980007523, 'model__scale_pos_weight': 4.238174214234416} because of the following error: NameError(\"name 'cat_pipe' is not defined\").\n",
      "Traceback (most recent call last):\n",
      "  File \"C:\\ProgramData\\anaconda3\\envs\\kanagawa\\lib\\site-packages\\optuna\\study\\_optimize.py\", line 200, in _run_trial\n",
      "    value_or_values = func(trial)\n",
      "  File \"C:\\Users\\Peter\\AppData\\Local\\Temp\\ipykernel_27000\\643228215.py\", line 14, in objective\n",
      "    cat_pipe.set_params(**cat_params)\n",
      "NameError: name 'cat_pipe' is not defined\n",
      "[W 2024-01-11 00:59:09,078] Trial 0 failed with value None.\n"
     ]
    },
    {
     "ename": "NameError",
     "evalue": "name 'cat_pipe' is not defined",
     "output_type": "error",
     "traceback": [
      "\u001B[1;31m---------------------------------------------------------------------------\u001B[0m",
      "\u001B[1;31mNameError\u001B[0m                                 Traceback (most recent call last)",
      "Cell \u001B[1;32mIn[13], line 25\u001B[0m\n\u001B[0;32m     23\u001B[0m \u001B[38;5;28;01mwith\u001B[39;00m mlflow\u001B[38;5;241m.\u001B[39mstart_run(run_name\u001B[38;5;241m=\u001B[39m\u001B[38;5;124m'\u001B[39m\u001B[38;5;124mcatboost_optuna_run\u001B[39m\u001B[38;5;124m'\u001B[39m):\n\u001B[0;32m     24\u001B[0m     cat_study \u001B[38;5;241m=\u001B[39m optuna\u001B[38;5;241m.\u001B[39mcreate_study(direction\u001B[38;5;241m=\u001B[39m\u001B[38;5;124m'\u001B[39m\u001B[38;5;124mmaximize\u001B[39m\u001B[38;5;124m'\u001B[39m)  \u001B[38;5;66;03m# Maximize F1 score\u001B[39;00m\n\u001B[1;32m---> 25\u001B[0m     \u001B[43mcat_study\u001B[49m\u001B[38;5;241;43m.\u001B[39;49m\u001B[43moptimize\u001B[49m\u001B[43m(\u001B[49m\u001B[43mobjective\u001B[49m\u001B[43m,\u001B[49m\u001B[43m \u001B[49m\u001B[43mn_trials\u001B[49m\u001B[38;5;241;43m=\u001B[39;49m\u001B[38;5;241;43m10\u001B[39;49m\u001B[43m)\u001B[49m\n\u001B[0;32m     27\u001B[0m     best_cat_trial \u001B[38;5;241m=\u001B[39m cat_study\u001B[38;5;241m.\u001B[39mbest_trial\n\u001B[0;32m     28\u001B[0m     best_cat_params \u001B[38;5;241m=\u001B[39m best_cat_trial\u001B[38;5;241m.\u001B[39mparams\n",
      "File \u001B[1;32mC:\\ProgramData\\anaconda3\\envs\\kanagawa\\lib\\site-packages\\optuna\\study\\study.py:451\u001B[0m, in \u001B[0;36mStudy.optimize\u001B[1;34m(self, func, n_trials, timeout, n_jobs, catch, callbacks, gc_after_trial, show_progress_bar)\u001B[0m\n\u001B[0;32m    348\u001B[0m \u001B[38;5;28;01mdef\u001B[39;00m \u001B[38;5;21moptimize\u001B[39m(\n\u001B[0;32m    349\u001B[0m     \u001B[38;5;28mself\u001B[39m,\n\u001B[0;32m    350\u001B[0m     func: ObjectiveFuncType,\n\u001B[1;32m   (...)\u001B[0m\n\u001B[0;32m    357\u001B[0m     show_progress_bar: \u001B[38;5;28mbool\u001B[39m \u001B[38;5;241m=\u001B[39m \u001B[38;5;28;01mFalse\u001B[39;00m,\n\u001B[0;32m    358\u001B[0m ) \u001B[38;5;241m-\u001B[39m\u001B[38;5;241m>\u001B[39m \u001B[38;5;28;01mNone\u001B[39;00m:\n\u001B[0;32m    359\u001B[0m \u001B[38;5;250m    \u001B[39m\u001B[38;5;124;03m\"\"\"Optimize an objective function.\u001B[39;00m\n\u001B[0;32m    360\u001B[0m \n\u001B[0;32m    361\u001B[0m \u001B[38;5;124;03m    Optimization is done by choosing a suitable set of hyperparameter values from a given\u001B[39;00m\n\u001B[1;32m   (...)\u001B[0m\n\u001B[0;32m    449\u001B[0m \u001B[38;5;124;03m            If nested invocation of this method occurs.\u001B[39;00m\n\u001B[0;32m    450\u001B[0m \u001B[38;5;124;03m    \"\"\"\u001B[39;00m\n\u001B[1;32m--> 451\u001B[0m     \u001B[43m_optimize\u001B[49m\u001B[43m(\u001B[49m\n\u001B[0;32m    452\u001B[0m \u001B[43m        \u001B[49m\u001B[43mstudy\u001B[49m\u001B[38;5;241;43m=\u001B[39;49m\u001B[38;5;28;43mself\u001B[39;49m\u001B[43m,\u001B[49m\n\u001B[0;32m    453\u001B[0m \u001B[43m        \u001B[49m\u001B[43mfunc\u001B[49m\u001B[38;5;241;43m=\u001B[39;49m\u001B[43mfunc\u001B[49m\u001B[43m,\u001B[49m\n\u001B[0;32m    454\u001B[0m \u001B[43m        \u001B[49m\u001B[43mn_trials\u001B[49m\u001B[38;5;241;43m=\u001B[39;49m\u001B[43mn_trials\u001B[49m\u001B[43m,\u001B[49m\n\u001B[0;32m    455\u001B[0m \u001B[43m        \u001B[49m\u001B[43mtimeout\u001B[49m\u001B[38;5;241;43m=\u001B[39;49m\u001B[43mtimeout\u001B[49m\u001B[43m,\u001B[49m\n\u001B[0;32m    456\u001B[0m \u001B[43m        \u001B[49m\u001B[43mn_jobs\u001B[49m\u001B[38;5;241;43m=\u001B[39;49m\u001B[43mn_jobs\u001B[49m\u001B[43m,\u001B[49m\n\u001B[0;32m    457\u001B[0m \u001B[43m        \u001B[49m\u001B[43mcatch\u001B[49m\u001B[38;5;241;43m=\u001B[39;49m\u001B[38;5;28;43mtuple\u001B[39;49m\u001B[43m(\u001B[49m\u001B[43mcatch\u001B[49m\u001B[43m)\u001B[49m\u001B[43m \u001B[49m\u001B[38;5;28;43;01mif\u001B[39;49;00m\u001B[43m \u001B[49m\u001B[38;5;28;43misinstance\u001B[39;49m\u001B[43m(\u001B[49m\u001B[43mcatch\u001B[49m\u001B[43m,\u001B[49m\u001B[43m \u001B[49m\u001B[43mIterable\u001B[49m\u001B[43m)\u001B[49m\u001B[43m \u001B[49m\u001B[38;5;28;43;01melse\u001B[39;49;00m\u001B[43m \u001B[49m\u001B[43m(\u001B[49m\u001B[43mcatch\u001B[49m\u001B[43m,\u001B[49m\u001B[43m)\u001B[49m\u001B[43m,\u001B[49m\n\u001B[0;32m    458\u001B[0m \u001B[43m        \u001B[49m\u001B[43mcallbacks\u001B[49m\u001B[38;5;241;43m=\u001B[39;49m\u001B[43mcallbacks\u001B[49m\u001B[43m,\u001B[49m\n\u001B[0;32m    459\u001B[0m \u001B[43m        \u001B[49m\u001B[43mgc_after_trial\u001B[49m\u001B[38;5;241;43m=\u001B[39;49m\u001B[43mgc_after_trial\u001B[49m\u001B[43m,\u001B[49m\n\u001B[0;32m    460\u001B[0m \u001B[43m        \u001B[49m\u001B[43mshow_progress_bar\u001B[49m\u001B[38;5;241;43m=\u001B[39;49m\u001B[43mshow_progress_bar\u001B[49m\u001B[43m,\u001B[49m\n\u001B[0;32m    461\u001B[0m \u001B[43m    \u001B[49m\u001B[43m)\u001B[49m\n",
      "File \u001B[1;32mC:\\ProgramData\\anaconda3\\envs\\kanagawa\\lib\\site-packages\\optuna\\study\\_optimize.py:66\u001B[0m, in \u001B[0;36m_optimize\u001B[1;34m(study, func, n_trials, timeout, n_jobs, catch, callbacks, gc_after_trial, show_progress_bar)\u001B[0m\n\u001B[0;32m     64\u001B[0m \u001B[38;5;28;01mtry\u001B[39;00m:\n\u001B[0;32m     65\u001B[0m     \u001B[38;5;28;01mif\u001B[39;00m n_jobs \u001B[38;5;241m==\u001B[39m \u001B[38;5;241m1\u001B[39m:\n\u001B[1;32m---> 66\u001B[0m         \u001B[43m_optimize_sequential\u001B[49m\u001B[43m(\u001B[49m\n\u001B[0;32m     67\u001B[0m \u001B[43m            \u001B[49m\u001B[43mstudy\u001B[49m\u001B[43m,\u001B[49m\n\u001B[0;32m     68\u001B[0m \u001B[43m            \u001B[49m\u001B[43mfunc\u001B[49m\u001B[43m,\u001B[49m\n\u001B[0;32m     69\u001B[0m \u001B[43m            \u001B[49m\u001B[43mn_trials\u001B[49m\u001B[43m,\u001B[49m\n\u001B[0;32m     70\u001B[0m \u001B[43m            \u001B[49m\u001B[43mtimeout\u001B[49m\u001B[43m,\u001B[49m\n\u001B[0;32m     71\u001B[0m \u001B[43m            \u001B[49m\u001B[43mcatch\u001B[49m\u001B[43m,\u001B[49m\n\u001B[0;32m     72\u001B[0m \u001B[43m            \u001B[49m\u001B[43mcallbacks\u001B[49m\u001B[43m,\u001B[49m\n\u001B[0;32m     73\u001B[0m \u001B[43m            \u001B[49m\u001B[43mgc_after_trial\u001B[49m\u001B[43m,\u001B[49m\n\u001B[0;32m     74\u001B[0m \u001B[43m            \u001B[49m\u001B[43mreseed_sampler_rng\u001B[49m\u001B[38;5;241;43m=\u001B[39;49m\u001B[38;5;28;43;01mFalse\u001B[39;49;00m\u001B[43m,\u001B[49m\n\u001B[0;32m     75\u001B[0m \u001B[43m            \u001B[49m\u001B[43mtime_start\u001B[49m\u001B[38;5;241;43m=\u001B[39;49m\u001B[38;5;28;43;01mNone\u001B[39;49;00m\u001B[43m,\u001B[49m\n\u001B[0;32m     76\u001B[0m \u001B[43m            \u001B[49m\u001B[43mprogress_bar\u001B[49m\u001B[38;5;241;43m=\u001B[39;49m\u001B[43mprogress_bar\u001B[49m\u001B[43m,\u001B[49m\n\u001B[0;32m     77\u001B[0m \u001B[43m        \u001B[49m\u001B[43m)\u001B[49m\n\u001B[0;32m     78\u001B[0m     \u001B[38;5;28;01melse\u001B[39;00m:\n\u001B[0;32m     79\u001B[0m         \u001B[38;5;28;01mif\u001B[39;00m n_jobs \u001B[38;5;241m==\u001B[39m \u001B[38;5;241m-\u001B[39m\u001B[38;5;241m1\u001B[39m:\n",
      "File \u001B[1;32mC:\\ProgramData\\anaconda3\\envs\\kanagawa\\lib\\site-packages\\optuna\\study\\_optimize.py:163\u001B[0m, in \u001B[0;36m_optimize_sequential\u001B[1;34m(study, func, n_trials, timeout, catch, callbacks, gc_after_trial, reseed_sampler_rng, time_start, progress_bar)\u001B[0m\n\u001B[0;32m    160\u001B[0m         \u001B[38;5;28;01mbreak\u001B[39;00m\n\u001B[0;32m    162\u001B[0m \u001B[38;5;28;01mtry\u001B[39;00m:\n\u001B[1;32m--> 163\u001B[0m     frozen_trial \u001B[38;5;241m=\u001B[39m \u001B[43m_run_trial\u001B[49m\u001B[43m(\u001B[49m\u001B[43mstudy\u001B[49m\u001B[43m,\u001B[49m\u001B[43m \u001B[49m\u001B[43mfunc\u001B[49m\u001B[43m,\u001B[49m\u001B[43m \u001B[49m\u001B[43mcatch\u001B[49m\u001B[43m)\u001B[49m\n\u001B[0;32m    164\u001B[0m \u001B[38;5;28;01mfinally\u001B[39;00m:\n\u001B[0;32m    165\u001B[0m     \u001B[38;5;66;03m# The following line mitigates memory problems that can be occurred in some\u001B[39;00m\n\u001B[0;32m    166\u001B[0m     \u001B[38;5;66;03m# environments (e.g., services that use computing containers such as GitHub Actions).\u001B[39;00m\n\u001B[0;32m    167\u001B[0m     \u001B[38;5;66;03m# Please refer to the following PR for further details:\u001B[39;00m\n\u001B[0;32m    168\u001B[0m     \u001B[38;5;66;03m# https://github.com/optuna/optuna/pull/325.\u001B[39;00m\n\u001B[0;32m    169\u001B[0m     \u001B[38;5;28;01mif\u001B[39;00m gc_after_trial:\n",
      "File \u001B[1;32mC:\\ProgramData\\anaconda3\\envs\\kanagawa\\lib\\site-packages\\optuna\\study\\_optimize.py:251\u001B[0m, in \u001B[0;36m_run_trial\u001B[1;34m(study, func, catch)\u001B[0m\n\u001B[0;32m    244\u001B[0m         \u001B[38;5;28;01massert\u001B[39;00m \u001B[38;5;28;01mFalse\u001B[39;00m, \u001B[38;5;124m\"\u001B[39m\u001B[38;5;124mShould not reach.\u001B[39m\u001B[38;5;124m\"\u001B[39m\n\u001B[0;32m    246\u001B[0m \u001B[38;5;28;01mif\u001B[39;00m (\n\u001B[0;32m    247\u001B[0m     frozen_trial\u001B[38;5;241m.\u001B[39mstate \u001B[38;5;241m==\u001B[39m TrialState\u001B[38;5;241m.\u001B[39mFAIL\n\u001B[0;32m    248\u001B[0m     \u001B[38;5;129;01mand\u001B[39;00m func_err \u001B[38;5;129;01mis\u001B[39;00m \u001B[38;5;129;01mnot\u001B[39;00m \u001B[38;5;28;01mNone\u001B[39;00m\n\u001B[0;32m    249\u001B[0m     \u001B[38;5;129;01mand\u001B[39;00m \u001B[38;5;129;01mnot\u001B[39;00m \u001B[38;5;28misinstance\u001B[39m(func_err, catch)\n\u001B[0;32m    250\u001B[0m ):\n\u001B[1;32m--> 251\u001B[0m     \u001B[38;5;28;01mraise\u001B[39;00m func_err\n\u001B[0;32m    252\u001B[0m \u001B[38;5;28;01mreturn\u001B[39;00m frozen_trial\n",
      "File \u001B[1;32mC:\\ProgramData\\anaconda3\\envs\\kanagawa\\lib\\site-packages\\optuna\\study\\_optimize.py:200\u001B[0m, in \u001B[0;36m_run_trial\u001B[1;34m(study, func, catch)\u001B[0m\n\u001B[0;32m    198\u001B[0m \u001B[38;5;28;01mwith\u001B[39;00m get_heartbeat_thread(trial\u001B[38;5;241m.\u001B[39m_trial_id, study\u001B[38;5;241m.\u001B[39m_storage):\n\u001B[0;32m    199\u001B[0m     \u001B[38;5;28;01mtry\u001B[39;00m:\n\u001B[1;32m--> 200\u001B[0m         value_or_values \u001B[38;5;241m=\u001B[39m \u001B[43mfunc\u001B[49m\u001B[43m(\u001B[49m\u001B[43mtrial\u001B[49m\u001B[43m)\u001B[49m\n\u001B[0;32m    201\u001B[0m     \u001B[38;5;28;01mexcept\u001B[39;00m exceptions\u001B[38;5;241m.\u001B[39mTrialPruned \u001B[38;5;28;01mas\u001B[39;00m e:\n\u001B[0;32m    202\u001B[0m         \u001B[38;5;66;03m# TODO(mamu): Handle multi-objective cases.\u001B[39;00m\n\u001B[0;32m    203\u001B[0m         state \u001B[38;5;241m=\u001B[39m TrialState\u001B[38;5;241m.\u001B[39mPRUNED\n",
      "Cell \u001B[1;32mIn[13], line 14\u001B[0m, in \u001B[0;36mobjective\u001B[1;34m(trial)\u001B[0m\n\u001B[0;32m      2\u001B[0m \u001B[38;5;28;01mdef\u001B[39;00m \u001B[38;5;21mobjective\u001B[39m(trial):\n\u001B[0;32m      3\u001B[0m \n\u001B[0;32m      4\u001B[0m     \u001B[38;5;66;03m# Parameters for optimization\u001B[39;00m\n\u001B[0;32m      5\u001B[0m     cat_params \u001B[38;5;241m=\u001B[39m {\n\u001B[0;32m      6\u001B[0m         \u001B[38;5;124m'\u001B[39m\u001B[38;5;124mmodel__learning_rate\u001B[39m\u001B[38;5;124m'\u001B[39m: trial\u001B[38;5;241m.\u001B[39msuggest_float(\u001B[38;5;124m'\u001B[39m\u001B[38;5;124mmodel__learning_rate\u001B[39m\u001B[38;5;124m'\u001B[39m, \u001B[38;5;241m0.01\u001B[39m, \u001B[38;5;241m0.2\u001B[39m),\n\u001B[0;32m      7\u001B[0m         \u001B[38;5;124m'\u001B[39m\u001B[38;5;124mmodel__depth\u001B[39m\u001B[38;5;124m'\u001B[39m: trial\u001B[38;5;241m.\u001B[39msuggest_int(\u001B[38;5;124m'\u001B[39m\u001B[38;5;124mmodel__depth\u001B[39m\u001B[38;5;124m'\u001B[39m, \u001B[38;5;241m3\u001B[39m, \u001B[38;5;241m10\u001B[39m),\n\u001B[1;32m   (...)\u001B[0m\n\u001B[0;32m     11\u001B[0m         \u001B[38;5;124m'\u001B[39m\u001B[38;5;124mmodel__scale_pos_weight\u001B[39m\u001B[38;5;124m'\u001B[39m: trial\u001B[38;5;241m.\u001B[39msuggest_float(\u001B[38;5;124m'\u001B[39m\u001B[38;5;124mmodel__scale_pos_weight\u001B[39m\u001B[38;5;124m'\u001B[39m, \u001B[38;5;241m1\u001B[39m, \u001B[38;5;241m10\u001B[39m),\n\u001B[0;32m     12\u001B[0m     }\n\u001B[1;32m---> 14\u001B[0m     \u001B[43mcat_pipe\u001B[49m\u001B[38;5;241m.\u001B[39mset_params(\u001B[38;5;241m*\u001B[39m\u001B[38;5;241m*\u001B[39mcat_params)\n\u001B[0;32m     16\u001B[0m     \u001B[38;5;66;03m# Model fitting\u001B[39;00m\n\u001B[0;32m     17\u001B[0m     cross_val_f1 \u001B[38;5;241m=\u001B[39m cross_val_score(cat_pipe, X_train, \u001B[38;5;28mlist\u001B[39m(y_train), scoring\u001B[38;5;241m=\u001B[39m\u001B[38;5;124m'\u001B[39m\u001B[38;5;124mf1\u001B[39m\u001B[38;5;124m'\u001B[39m)\u001B[38;5;241m.\u001B[39mmean()\n",
      "\u001B[1;31mNameError\u001B[0m: name 'cat_pipe' is not defined"
     ]
    }
   ],
   "source": [
    "# Optimize hyperparameters with Optuna\n",
    "def objective(trial):\n",
    "\n",
    "    # Parameters for optimization\n",
    "    cat_params = {\n",
    "        'model__learning_rate': trial.suggest_float('model__learning_rate', 0.01, 0.2),\n",
    "        'model__depth': trial.suggest_int('model__depth', 3, 10),\n",
    "        'model__l2_leaf_reg': trial.suggest_float('model__l2_leaf_reg', 1, 10),\n",
    "        'model__subsample': trial.suggest_float('model__subsample', 0.1, 1),\n",
    "        'model__colsample_bylevel': trial.suggest_float('model__colsample_bylevel', 0.5, 1),\n",
    "        'model__scale_pos_weight': trial.suggest_float('model__scale_pos_weight', 1, 10),\n",
    "    }\n",
    "\n",
    "    cat_pipe.set_params(**cat_params)\n",
    "\n",
    "    # Model fitting\n",
    "    cross_val_f1 = cross_val_score(cat_pipe, X_train, list(y_train), scoring='f1').mean()\n",
    "\n",
    "    return cross_val_f1  # Use F1 score for binary classification\n",
    "\n",
    "mlflow.set_experiment(\"MLflow_hype_optuna_CatBoost\")\n",
    "\n",
    "with mlflow.start_run(run_name='catboost_optuna_run'):\n",
    "    cat_study = optuna.create_study(direction='maximize')  # Maximize F1 score\n",
    "    cat_study.optimize(objective, n_trials=10)\n",
    "\n",
    "    best_cat_trial = cat_study.best_trial\n",
    "    best_cat_params = best_cat_trial.params\n",
    "\n",
    "    # Log parameters\n",
    "    mlflow.log_params(best_cat_params)\n",
    "\n",
    "    # Set the best parameters to your CatBoost model\n",
    "    cat_pipe.set_params(**best_cat_params)\n",
    "\n",
    "    # Train the model with the best parameters on the entire training set\n",
    "    cat_pipe.fit(X_train, y_train)\n",
    "\n",
    "    # Make predictions on the test set\n",
    "    y_cat_pred = cat_pipe.predict(X_test)\n",
    "\n",
    "    # Metrics\n",
    "    accuracy_cat = accuracy_score(list(y_test), y_cat_pred)\n",
    "    recall_cat = recall_score(list(y_test), y_cat_pred)\n",
    "    f1_cat = f1_score(list(y_test), y_cat_pred)\n",
    "\n",
    "    mlflow.sklearn.log_model(cat_pipe, 'catboost_model_optuna')\n",
    "\n",
    "    # Log metrics\n",
    "    mlflow.log_metrics({\n",
    "        'accuracy': accuracy_cat,\n",
    "        'recall': recall_cat,\n",
    "        'f1_score': f1_cat,\n",
    "    })\n",
    "\n",
    "    # Calculate ROC AUC (if needed for binary classification)\n",
    "    fpr_cat, tpr_cat, thresholds_cat = roc_curve(list(y_test), y_cat_pred)\n",
    "    roc_auc_cat = roc_auc_score(list(y_test), y_cat_pred)\n",
    "\n",
    "    # Plot ROC curve (if needed for binary classification)\n",
    "    plt.figure(figsize=(8, 8))\n",
    "    plt.plot(fpr_cat, tpr_cat, color='darkorange', lw=2, label='ROC curve (area = {:.2f})'.format(roc_auc_cat))\n",
    "    plt.plot([0, 1], [0, 1], color='navy', lw=2, linestyle='--')\n",
    "    plt.xlabel('False Positive Rate')\n",
    "    plt.ylabel('True Positive Rate')\n",
    "    plt.title('Receiver Operating Characteristic (ROC) Curve')\n",
    "    plt.legend(loc='lower right')\n",
    "\n",
    "    # Save the plot to a local file\n",
    "    roc_auc_cat_plot_path = \"mlruns/roc_auc_cat_plot.png\"\n",
    "    plt.savefig(roc_auc_cat_plot_path)\n",
    "    plt.close()\n",
    "\n",
    "    # Log ROC AUC plot as an artifact (if needed for binary classification)\n",
    "    mlflow.log_artifact(roc_auc_cat_plot_path, \"roc_auc_cat_plot\")"
   ],
   "metadata": {
    "collapsed": false,
    "ExecuteTime": {
     "end_time": "2024-01-10T21:59:09.223302Z",
     "start_time": "2024-01-10T21:59:08.972266Z"
    }
   },
   "id": "f19917206515d2e4"
  },
  {
   "cell_type": "code",
   "execution_count": null,
   "outputs": [],
   "source": [
    "logged_model_catb = 'runs:/99549db16c9b4884b06402a72fc1809f/catboost_model_optuna'\n",
    "\n",
    "# Load model as a PyFuncModel.\n",
    "loaded_model_catb = mlflow.pyfunc.load_model(logged_model_catb)"
   ],
   "metadata": {
    "collapsed": false,
    "ExecuteTime": {
     "start_time": "2024-01-10T21:59:09.211264300Z"
    }
   },
   "id": "66fd8f01e456ee88"
  },
  {
   "cell_type": "code",
   "execution_count": 14,
   "outputs": [
    {
     "ename": "NameError",
     "evalue": "name 'loaded_model_catb' is not defined",
     "output_type": "error",
     "traceback": [
      "\u001B[1;31m---------------------------------------------------------------------------\u001B[0m",
      "\u001B[1;31mNameError\u001B[0m                                 Traceback (most recent call last)",
      "Cell \u001B[1;32mIn[14], line 1\u001B[0m\n\u001B[1;32m----> 1\u001B[0m joblib\u001B[38;5;241m.\u001B[39mdump(\u001B[43mloaded_model_catb\u001B[49m,\u001B[38;5;124m'\u001B[39m\u001B[38;5;124mcatb_optuna_model.joblib\u001B[39m\u001B[38;5;124m'\u001B[39m)\n",
      "\u001B[1;31mNameError\u001B[0m: name 'loaded_model_catb' is not defined"
     ]
    }
   ],
   "source": [
    "joblib.dump(loaded_model_catb,'catb_optuna_model.joblib')"
   ],
   "metadata": {
    "collapsed": false,
    "ExecuteTime": {
     "end_time": "2024-01-10T21:59:09.792783900Z",
     "start_time": "2024-01-10T21:59:09.719465700Z"
    }
   },
   "id": "ad47439fd8b07f69"
  },
  {
   "cell_type": "markdown",
   "source": [
    "### 3.3 LightGBM model\n",
    "Light GBM is a gradient boosting framework that uses tree based learning algorithm.\n",
    "\n",
    "Light GBM grows tree vertically while other algorithm grows trees horizontally meaning that Light GBM grows tree leaf-wise while other algorithm grows level-wise. It will choose the leaf with max delta loss to grow. When growing the same leaf, Leaf-wise algorithm can reduce more loss than a level-wise algorithm."
   ],
   "metadata": {
    "collapsed": false
   },
   "id": "cc17eaa57415832d"
  },
  {
   "cell_type": "code",
   "execution_count": 15,
   "outputs": [
    {
     "ename": "NameError",
     "evalue": "name 'lgbm_pipe' is not defined",
     "output_type": "error",
     "traceback": [
      "\u001B[1;31m---------------------------------------------------------------------------\u001B[0m",
      "\u001B[1;31mNameError\u001B[0m                                 Traceback (most recent call last)",
      "Cell \u001B[1;32mIn[15], line 1\u001B[0m\n\u001B[1;32m----> 1\u001B[0m model_trained \u001B[38;5;241m=\u001B[39m \u001B[43mlgbm_pipe\u001B[49m\u001B[38;5;241m.\u001B[39mfit(X_train, \u001B[38;5;28mlist\u001B[39m(y_train))\n",
      "\u001B[1;31mNameError\u001B[0m: name 'lgbm_pipe' is not defined"
     ]
    }
   ],
   "source": [
    "model_trained = lgbm_pipe.fit(X_train, list(y_train))\n"
   ],
   "metadata": {
    "collapsed": false,
    "ExecuteTime": {
     "end_time": "2024-01-10T21:59:10.819623200Z",
     "start_time": "2024-01-10T21:59:10.759622200Z"
    }
   },
   "id": "65c622b497aabf4a"
  },
  {
   "cell_type": "code",
   "execution_count": 15,
   "outputs": [],
   "source": [],
   "metadata": {
    "collapsed": false,
    "ExecuteTime": {
     "end_time": "2024-01-10T21:59:11.209749200Z",
     "start_time": "2024-01-10T21:59:11.193729200Z"
    }
   },
   "id": "6d6bd038160a167d"
  },
  {
   "cell_type": "code",
   "execution_count": null,
   "outputs": [],
   "source": [
    "# Full pipeline with LightGBM\n",
    "lgbm_pipe = Pipeline([\n",
    "    ('column_transformer', ct),\n",
    "    ('model', LGBMClassifier()),  # Use LGBMClassifier\n",
    "])\n",
    "\n",
    "# Optimize hyperparameters with Optuna\n",
    "def objective(trial):\n",
    "\n",
    "    # Parameters for optimization\n",
    "    lgbm_params = {\n",
    "        'model__learning_rate': trial.suggest_float('model__learning_rate', 0.01, 0.2),\n",
    "        'model__num_leaves': trial.suggest_int('model__num_leaves', 10, 200),\n",
    "        'model__max_depth': trial.suggest_int('model__max_depth', 3, 20),\n",
    "        'model__min_child_samples': trial.suggest_int('model__min_child_samples', 1, 20),\n",
    "        'model__subsample': trial.suggest_float('model__subsample', 0.1, 1),\n",
    "        'model__colsample_bytree': trial.suggest_float('model__colsample_bytree', 0.5, 1),\n",
    "        'model__reg_lambda': trial.suggest_float('model__reg_lambda', 1e-5, 1e2),\n",
    "        'model__reg_alpha': trial.suggest_float('model__reg_alpha', 1e-5, 1e2),\n",
    "        'model__scale_pos_weight': trial.suggest_float('model__scale_pos_weight', 1, 10),\n",
    "    }\n",
    "\n",
    "    lgbm_pipe.set_params(**lgbm_params)\n",
    "\n",
    "    # Model fitting\n",
    "    cross_val_f1 = cross_val_score(lgbm_pipe, X_train, list(y_train), scoring='f1').mean()\n",
    "\n",
    "    return cross_val_f1  # Use F1 score for binary classification\n",
    "\n",
    "mlflow.set_experiment(\"MLflow_hype_optuna_LightGBM\")\n",
    "\n",
    "with mlflow.start_run(run_name='lgbm_optuna_run'):\n",
    "    lgbm_study = optuna.create_study(direction='maximize')  # Maximize F1 score\n",
    "    lgbm_study.optimize(objective, n_trials=10)\n",
    "\n",
    "    best_lgbm_trial = lgbm_study.best_trial\n",
    "    best_lgbm_params = best_lgbm_trial.params\n",
    "\n",
    "    # Log parameters\n",
    "    mlflow.log_params(best_lgbm_params)\n",
    "\n",
    "    # Set the best parameters to your LightGBM model\n",
    "    lgbm_pipe.set_params(**best_lgbm_params)\n",
    "\n",
    "    # Train the model with the best parameters on the entire training set\n",
    "    lgbm_pipe.fit(X_train, list(y_train))\n",
    "\n",
    "    # Make predictions on the test set\n",
    "    y_lgbm_pred = lgbm_pipe.predict(X_test)\n",
    "\n",
    "    # Metrics\n",
    "    accuracy_lgbm = accuracy_score(list(y_test), y_lgbm_pred)\n",
    "    recall_lgbm = recall_score(list(y_test), y_lgbm_pred)\n",
    "    f1_lgbm = f1_score(list(y_test), y_lgbm_pred)\n",
    "\n",
    "    mlflow.sklearn.log_model(lgbm_pipe, 'lgbm_model_optuna')\n",
    "\n",
    "    # Log metrics\n",
    "    mlflow.log_metrics({\n",
    "        'accuracy': accuracy_lgbm,\n",
    "        'recall': recall_lgbm,\n",
    "        'f1_score': f1_lgbm,\n",
    "    })\n",
    "\n",
    "    # Calculate ROC AUC (if needed for binary classification)\n",
    "    fpr_lgbm, tpr_lgbm, thresholds_lgbm = roc_curve(list(y_test), y_lgbm_pred)\n",
    "    roc_auc_lgbm = roc_auc_score(list(y_test), y_lgbm_pred)\n",
    "\n",
    "    # Plot ROC curve (if needed for binary classification)\n",
    "    plt.figure(figsize=(8, 8))\n",
    "    plt.plot(fpr_lgbm, tpr_lgbm, color='darkorange', lw=2, label='ROC curve (area = {:.2f})'.format(roc_auc_lgbm))\n",
    "    plt.plot([0, 1], [0, 1], color='navy', lw=2, linestyle='--')\n",
    "    plt.xlabel('False Positive Rate')\n",
    "    plt.ylabel('True Positive Rate')\n",
    "    plt.title('Receiver Operating Characteristic (ROC) Curve')\n",
    "    plt.legend(loc='lower right')\n",
    "\n",
    "    # Save the plot to a local file\n",
    "    roc_auc_lgbm_plot_path = \"mlruns/roc_auc_lgbm_plot.png\"\n",
    "    plt.savefig(roc_auc_lgbm_plot_path)\n",
    "    plt.close()\n",
    "\n",
    "    # Log ROC AUC plot as an artifact (if needed for binary classification)\n",
    "    mlflow.log_artifact(roc_auc_lgbm_plot_path, \"roc_auc_lgbm_plot\")"
   ],
   "metadata": {
    "collapsed": false
   },
   "id": "fedd98c3be7a9077"
  },
  {
   "cell_type": "code",
   "execution_count": null,
   "outputs": [],
   "source": [
    "logged_model_lgbm = logged_model = 'runs:/ed7a2bb27af84058a418a7846ad0283a/lgbm_model_optuna'\n",
    "\n",
    "# Load model as a PyFuncModel.\n",
    "loaded_model_lgbm = mlflow.pyfunc.load_model(logged_model_lgbm)"
   ],
   "metadata": {
    "collapsed": false
   },
   "id": "367c8a063e25a38f"
  },
  {
   "cell_type": "code",
   "execution_count": null,
   "outputs": [],
   "source": [
    "joblib.dump(loaded_model_lgbm,'loaded_model_lgbm.joblib')\n"
   ],
   "metadata": {
    "collapsed": false
   },
   "id": "5978dc5780c37816"
  },
  {
   "cell_type": "markdown",
   "source": [
    "### 3.4 K-Nearest Neighbors (K-NN) model\n",
    "\n",
    "K-Nearest Neighbors is a simple and intuitive algorithm used for both classification and regression tasks. The basic idea is to classify or predict a new data point based on the majority class or average of its k-nearest neighbors in the feature space. The algorithm calculates the distance between data points to determine their proximity. The value of k, representing the number of neighbors, is a crucial parameter that influences the model's performance. K-NN is non-parametric, meaning it doesn't make assumptions about the underlying data distribution, making it versatile for different types of datasets."
   ],
   "metadata": {
    "collapsed": false
   },
   "id": "184c26fc923e0511"
  },
  {
   "cell_type": "code",
   "execution_count": null,
   "outputs": [],
   "source": [
    "# Full pipeline with k-Nearest Neighbors (KNN)\n",
    "knn_pipe = Pipeline([\n",
    "    ('column_transformer', ct),\n",
    "    ('model', KNeighborsClassifier()),  # Use KNeighborsClassifier\n",
    "])\n"
   ],
   "metadata": {
    "collapsed": false
   },
   "id": "6bcdaf9dc3e7e631"
  },
  {
   "cell_type": "code",
   "execution_count": null,
   "outputs": [],
   "source": [
    "# Optimize hyperparameters with Optuna\n",
    "def objective(trial):\n",
    "\n",
    "    # Parameters for optimization\n",
    "    knn_params = {\n",
    "        'model__n_neighbors': trial.suggest_int('model__n_neighbors', 1, 20),\n",
    "        'model__weights': trial.suggest_categorical('model__weights', ['uniform', 'distance']),\n",
    "        'model__p': trial.suggest_int('model__p', 1, 2),  # For Minkowski distance\n",
    "    }\n",
    "\n",
    "    knn_pipe.set_params(**knn_params)\n",
    "\n",
    "    # Model fitting\n",
    "    cross_val_f1 = cross_val_score(knn_pipe, X_train, list(y_train), scoring='f1').mean()\n",
    "\n",
    "    return cross_val_f1  # Use F1 score for binary classification\n",
    "\n",
    "mlflow.set_experiment(\"MLflow_hype_optuna_KNN\")\n",
    "\n",
    "with mlflow.start_run(run_name='knn_optuna_run'):\n",
    "    knn_study = optuna.create_study(direction='maximize')  # Maximize F1 score\n",
    "    knn_study.optimize(objective, n_trials=10)\n",
    "\n",
    "    best_knn_trial = knn_study.best_trial\n",
    "    best_knn_params = best_knn_trial.params\n",
    "\n",
    "    # Log parameters\n",
    "    mlflow.log_params(best_knn_params)\n",
    "\n",
    "    # Set the best parameters to your KNN model\n",
    "    knn_pipe.set_params(**best_knn_params)\n",
    "\n",
    "    # Train the model with the best parameters on the entire training set\n",
    "    knn_pipe.fit(X_train, list(y_train))\n",
    "\n",
    "    # Make predictions on the test set\n",
    "    y_knn_pred = knn_pipe.predict(X_test)\n",
    "\n",
    "    # Metrics\n",
    "    accuracy_knn = accuracy_score(list(y_test), y_knn_pred)\n",
    "    recall_knn = recall_score(list(y_test), y_knn_pred)\n",
    "    f1_knn = f1_score(list(y_test), y_knn_pred)\n",
    "\n",
    "    mlflow.sklearn.log_model(knn_pipe, 'knn_model_optuna')\n",
    "\n",
    "    # Log metrics\n",
    "    mlflow.log_metrics({\n",
    "        'accuracy': accuracy_knn,\n",
    "        'recall': recall_knn,\n",
    "        'f1_score': f1_knn,\n",
    "    })\n",
    "\n",
    "    # Calculate ROC AUC (if needed for binary classification)\n",
    "    fpr_knn, tpr_knn, thresholds_knn = roc_curve(list(y_test), y_knn_pred)\n",
    "    roc_auc_knn = roc_auc_score(list(y_test), y_knn_pred)\n",
    "\n",
    "    # Plot ROC curve (if needed for binary classification)\n",
    "    plt.figure(figsize=(8, 8))\n",
    "    plt.plot(fpr_knn, tpr_knn, color='darkorange', lw=2, label='ROC curve (area = {:.2f})'.format(roc_auc_knn))\n",
    "    plt.plot([0, 1], [0, 1], color='navy', lw=2, linestyle='--')\n",
    "    plt.xlabel('False Positive Rate')\n",
    "    plt.ylabel('True Positive Rate')\n",
    "    plt.title('Receiver Operating Characteristic (ROC) Curve')\n",
    "    plt.legend(loc='lower right')\n",
    "\n",
    "    # Save the plot to a local file\n",
    "    roc_auc_knn_plot_path = \"mlruns/roc_auc_knn_plot.png\"\n",
    "    plt.savefig(roc_auc_knn_plot_path)\n",
    "    plt.close()\n",
    "\n",
    "    # Log ROC AUC plot as an artifact (if needed for binary classification)\n",
    "    mlflow.log_artifact(roc_auc_knn_plot_path, \"roc_auc_knn_plot\")"
   ],
   "metadata": {
    "collapsed": false
   },
   "id": "a9ba106b6ffa5b70"
  },
  {
   "cell_type": "code",
   "execution_count": null,
   "outputs": [],
   "source": [
    "logged_model_knn = 'runs:/2cb937454c6849959dd3f11300981261/knn_model_optuna'\n",
    "\n",
    "# Load model as a PyFuncModel.\n",
    "loaded_model_knn = mlflow.pyfunc.load_model(logged_model_knn)"
   ],
   "metadata": {
    "collapsed": false
   },
   "id": "e3cedc37c6c38095"
  },
  {
   "cell_type": "code",
   "execution_count": null,
   "outputs": [],
   "source": [
    "joblib.dump(loaded_model_knn,'knn_optuna_model.joblib')\n"
   ],
   "metadata": {
    "collapsed": false
   },
   "id": "943ef7421c4a2ba4"
  },
  {
   "cell_type": "markdown",
   "source": [
    "### 3.5 Logistic Regression model\n",
    "\n",
    "Logistic Regression is a statistical method used for binary and multi-class classification problems. Despite its name, it is a classification algorithm rather than a regression one. It predicts the probability of an instance belonging to a particular class, and then makes a discrete prediction based on a threshold."
   ],
   "metadata": {
    "collapsed": false
   },
   "id": "63a01f3fb5665dcb"
  },
  {
   "cell_type": "code",
   "execution_count": null,
   "outputs": [],
   "source": [
    "\n",
    "# Full pipeline with Logistic Regression\n",
    "logreg_pipe = Pipeline([\n",
    "    ('column_transformer', ct),\n",
    "    ('model', LogisticRegression()),  # Use Logistic Regression\n",
    "])\n",
    "\n",
    "# Optimize hyperparameters with Optuna\n",
    "def objective(trial):\n",
    "\n",
    "    # Parameters for optimization\n",
    "    logreg_params = {\n",
    "        'model__penalty': trial.suggest_categorical('model__penalty', ['none', 'l2']),\n",
    "        'model__C': trial.suggest_float('model__C', 1e-5, 1e2),\n",
    "        'model__fit_intercept': trial.suggest_categorical('model__fit_intercept', [True, False]),\n",
    "    }\n",
    "\n",
    "    logreg_pipe.set_params(**logreg_params)\n",
    "\n",
    "    # Model fitting\n",
    "    cross_val_f1 = cross_val_score(logreg_pipe, X_train, list(y_train), scoring='f1').mean()\n",
    "\n",
    "    return cross_val_f1  # Use F1 score for binary classification\n",
    "\n",
    "mlflow.set_experiment(\"MLflow_hype_optuna_LogisticRegression\")\n",
    "\n",
    "with mlflow.start_run(run_name='logreg_optuna_run'):\n",
    "    logreg_study = optuna.create_study(direction='maximize')  # Maximize F1 score\n",
    "    logreg_study.optimize(objective, n_trials=10)\n",
    "\n",
    "    best_logreg_trial = logreg_study.best_trial\n",
    "    best_logreg_params = best_logreg_trial.params\n",
    "\n",
    "    # Log parameters\n",
    "    mlflow.log_params(best_logreg_params)\n",
    "\n",
    "    # Set the best parameters to your Logistic Regression model\n",
    "    logreg_pipe.set_params(**best_logreg_params)\n",
    "\n",
    "    # Train the model with the best parameters on the entire training set\n",
    "    logreg_pipe.fit(X_train, list(y_train))\n",
    "\n",
    "    # Make predictions on the test set\n",
    "    y_logreg_pred = logreg_pipe.predict(X_test)\n",
    "\n",
    "    # Metrics\n",
    "    accuracy_logreg = accuracy_score(list(y_test), y_logreg_pred)\n",
    "    recall_logreg = recall_score(list(y_test), y_logreg_pred)\n",
    "    f1_logreg = f1_score(list(y_test), y_logreg_pred)\n",
    "\n",
    "    mlflow.sklearn.log_model(logreg_pipe, 'logreg_model_optuna')\n",
    "\n",
    "    # Log metrics\n",
    "    mlflow.log_metrics({\n",
    "        'accuracy': accuracy_logreg,\n",
    "        'recall': recall_logreg,\n",
    "        'f1_score': f1_logreg,\n",
    "    })\n",
    "\n",
    "    # Calculate ROC AUC (if needed for binary classification)\n",
    "    fpr_logreg, tpr_logreg, thresholds_logreg = roc_curve(list(y_test), y_logreg_pred)\n",
    "    roc_auc_logreg = roc_auc_score(list(y_test), y_logreg_pred)\n",
    "\n",
    "    # Plot ROC curve (if needed for binary classification)\n",
    "    plt.figure(figsize=(8, 8))\n",
    "    plt.plot(fpr_logreg, tpr_logreg, color='darkorange', lw=2, label='ROC curve (area = {:.2f})'.format(roc_auc_logreg))\n",
    "    plt.plot([0, 1], [0, 1], color='navy', lw=2, linestyle='--')\n",
    "    plt.xlabel('False Positive Rate')\n",
    "    plt.ylabel('True Positive Rate')\n",
    "    plt.title('Receiver Operating Characteristic (ROC) Curve')\n",
    "    plt.legend(loc='lower right')\n",
    "\n",
    "    # Save the plot to a local file\n",
    "    roc_auc_logreg_plot_path = \"mlruns/roc_auc_logreg_plot.png\"\n",
    "    plt.savefig(roc_auc_logreg_plot_path)\n",
    "    plt.close()\n",
    "\n",
    "    # Log ROC AUC plot as an artifact (if needed for binary classification)\n",
    "    mlflow.log_artifact(roc_auc_logreg_plot_path, \"roc_auc_logreg_plot\")\n"
   ],
   "metadata": {
    "collapsed": false
   },
   "id": "4ee7563f8e05bed5"
  },
  {
   "cell_type": "code",
   "execution_count": null,
   "outputs": [],
   "source": [
    "logged_model_logreg = 'runs:/b2a4f5cce8d94a8f993cd5d4acae3ddd/logreg_model_optuna'\n",
    "\n",
    "# Load model as a PyFuncModel.\n",
    "loaded_model_logreg = mlflow.pyfunc.load_model(logged_model_logreg)"
   ],
   "metadata": {
    "collapsed": false
   },
   "id": "b78c833bfb2fb3c5"
  },
  {
   "cell_type": "code",
   "execution_count": null,
   "outputs": [],
   "source": [
    "joblib.dump(loaded_model_logreg,'logreg_optuna_model.joblib')\n"
   ],
   "metadata": {
    "collapsed": false
   },
   "id": "b79b7efa93e67844"
  },
  {
   "cell_type": "markdown",
   "source": [
    "### 3.7 Naive Bayes model\n",
    "\n",
    "Naive Bayes is a probabilistic classification algorithm based on Bayes' theorem, which calculates the probability of a hypothesis (class) given the observed evidence (features). The \"naive\" assumption in Naive Bayes is that all features are conditionally independent given the class. This simplifying assumption significantly reduces computational complexity, making it computationally efficient. Naive Bayes is computationally efficient due to the independence assumption, making it particularly useful for large datasets."
   ],
   "metadata": {
    "collapsed": false
   },
   "id": "47ff533bb01042bd"
  },
  {
   "cell_type": "code",
   "execution_count": null,
   "outputs": [],
   "source": [
    "\n",
    "\n",
    "# Full pipeline with Gaussian Naive Bayes\n",
    "nb_pipe = Pipeline([\n",
    "    ('column_transformer', ct),\n",
    "    ('model', GaussianNB()),  # Use Gaussian Naive Bayes\n",
    "])\n",
    "\n",
    "# Optimize hyperparameters with Optuna\n",
    "def objective(trial):\n",
    "\n",
    "\n",
    "    # Model fitting\n",
    "    cross_val_f1 = cross_val_score(nb_pipe, X_train, list(y_train), scoring='f1').mean()\n",
    "\n",
    "    return cross_val_f1  # Use F1 score for binary classification\n",
    "\n",
    "mlflow.set_experiment(\"MLflow_hype_optuna_GaussianNB\")\n",
    "\n",
    "with mlflow.start_run(run_name='nb_optuna_run'):\n",
    "    nb_study = optuna.create_study(direction='maximize')  # Maximize F1 score\n",
    "    nb_study.optimize(objective, n_trials=10)\n",
    "\n",
    "    best_nb_trial = nb_study.best_trial\n",
    "    best_nb_params = best_nb_trial.params\n",
    "\n",
    "    # Log parameters\n",
    "    mlflow.log_params(best_nb_params)\n",
    "\n",
    "    # Set the best parameters to your Naive Bayes model\n",
    "    nb_pipe.set_params(**best_nb_params)\n",
    "\n",
    "    # Train the model with the best parameters on the entire training set\n",
    "    nb_pipe.fit(X_train, list(y_train))\n",
    "\n",
    "    # Make predictions on the test set\n",
    "    y_nb_pred = nb_pipe.predict(X_test)\n",
    "\n",
    "    # Metrics\n",
    "    accuracy_nb = accuracy_score(list(y_test), y_nb_pred)\n",
    "    recall_nb = recall_score(list(y_test), y_nb_pred)\n",
    "    f1_nb = f1_score(list(y_test), y_nb_pred)\n",
    "\n",
    "    mlflow.sklearn.log_model(nb_pipe, 'nb_model_optuna')\n",
    "\n",
    "    # Log metrics\n",
    "    mlflow.log_metrics({\n",
    "        'accuracy': accuracy_nb,\n",
    "        'recall': recall_nb,\n",
    "        'f1_score': f1_nb,\n",
    "    })\n",
    "\n",
    "    # Calculate ROC AUC (if needed for binary classification)\n",
    "    fpr_nb, tpr_nb, thresholds_nb = roc_curve(list(y_test), y_nb_pred)\n",
    "    roc_auc_nb = roc_auc_score(list(y_test), y_nb_pred)\n",
    "\n",
    "    # Plot ROC curve (if needed for binary classification)\n",
    "    plt.figure(figsize=(8, 8))\n",
    "    plt.plot(fpr_nb, tpr_nb, color='darkorange', lw=2, label='ROC curve (area = {:.2f})'.format(roc_auc_nb))\n",
    "    plt.plot([0, 1], [0, 1], color='navy', lw=2, linestyle='--')\n",
    "    plt.xlabel('False Positive Rate')\n",
    "    plt.ylabel('True Positive Rate')\n",
    "    plt.title('Receiver Operating Characteristic (ROC) Curve')\n",
    "    plt.legend(loc='lower right')\n",
    "\n",
    "    # Save the plot to a local file\n",
    "    roc_auc_nb_plot_path = \"mlruns/roc_auc_nb_plot.png\"\n",
    "    plt.savefig(roc_auc_nb_plot_path)\n",
    "    plt.close()\n",
    "\n",
    "    # Log ROC AUC plot as an artifact (if needed for binary classification)\n",
    "    mlflow.log_artifact(roc_auc_nb_plot_path, \"roc_auc_nb_plot\")\n"
   ],
   "metadata": {
    "collapsed": false
   },
   "id": "f1f544da100f183f"
  },
  {
   "cell_type": "code",
   "execution_count": null,
   "outputs": [],
   "source": [
    "logged_model_nb = 'runs:/c20bce1fd6ba4040bc023d2732097985/nb_model_optuna'\n",
    "\n",
    "# Load model as a PyFuncModel.\n",
    "loaded_model_nb = mlflow.pyfunc.load_model(logged_model_nb)"
   ],
   "metadata": {
    "collapsed": false
   },
   "id": "1140503235f3f448"
  },
  {
   "cell_type": "code",
   "execution_count": null,
   "outputs": [],
   "source": [
    "joblib.dump(loaded_model_nb,'nb_optuna_model.joblib')\n"
   ],
   "metadata": {
    "collapsed": false
   },
   "id": "d0810c2d9f45f219"
  },
  {
   "cell_type": "code",
   "execution_count": null,
   "outputs": [],
   "source": [],
   "metadata": {
    "collapsed": false
   },
   "id": "1e1bd24a6f08f9e"
  }
 ],
 "metadata": {
  "kernelspec": {
   "display_name": "Python 3",
   "language": "python",
   "name": "python3"
  },
  "language_info": {
   "codemirror_mode": {
    "name": "ipython",
    "version": 2
   },
   "file_extension": ".py",
   "mimetype": "text/x-python",
   "name": "python",
   "nbconvert_exporter": "python",
   "pygments_lexer": "ipython2",
   "version": "2.7.6"
  }
 },
 "nbformat": 4,
 "nbformat_minor": 5
}
