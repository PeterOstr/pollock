{
 "cells": [
  {
   "cell_type": "code",
   "execution_count": 1,
   "id": "initial_id",
   "metadata": {
    "collapsed": true,
    "ExecuteTime": {
     "end_time": "2024-02-05T13:43:30.582928Z",
     "start_time": "2024-02-05T13:43:25.119413100Z"
    }
   },
   "outputs": [],
   "source": [
    "from pyspark.sql import SparkSession\n",
    "from pyspark.sql.functions import col, explode, split, regexp_replace\n",
    "from pyspark.sql.functions import col, split, explode, regexp_replace\n",
    "\n",
    "\n",
    "from pyspark.sql.functions import lit, col, when\n",
    "from pyspark.sql.types import StringType\n",
    "from pyspark.ml.feature import FeatureHasher\n",
    "import os\n",
    "from pyspark.sql.functions import col, when, lit, isnan\n",
    "from pyspark.sql.functions import lit, nanvl, isnan, when, avg\n",
    "import category_encoders as ce\n",
    "import pandas as pd\n",
    "import itertools\n",
    "import matplotlib.pyplot as plt\n",
    "from sklearn.preprocessing import OneHotEncoder\n",
    "from category_encoders import CatBoostEncoder\n",
    "import pickle\n",
    "from pyspark.sql import SparkSession\n",
    "from pyspark.sql.functions import pandas_udf, PandasUDFType\n",
    "from pyspark.sql.types import DoubleType, ArrayType\n",
    "import numpy as np\n",
    "import pandas as pd\n",
    "import sklearn\n",
    "sklearn.set_config(transform_output='pandas')\n",
    "from pyspark.sql.functions import array\n",
    "from pyspark.sql import functions as F\n",
    "from pyspark.sql import SparkSession, types as T\n",
    "from pyspark.sql.functions import udf\n",
    "from ast import literal_eval\n",
    "\n",
    "from pyspark.sql import DataFrame\n",
    "import os\n",
    "from pyspark.sql import functions as sf\n",
    "from pyspark.sql.functions import udf\n",
    "from pyspark.sql.types import ArrayType, DoubleType\n",
    "import pyspark\n",
    "from pyspark.sql import SparkSession\n",
    "# from geospark.register import upload_jars\n",
    "# from geospark.register import GeoSparkRegistrator\n",
    "# from geospark.core.SpatialRDD import PolygonRDD, PointRDD\n",
    "# from geospark.core.enums import FileDataSplitter\n",
    "# from geospark.core.enums import IndexType\n",
    "# from geospark.core.geom.envelope import Envelope\n",
    "# from geospark.core.spatialOperator import RangeQuery\n",
    "# from geospark.core.formatMapper.shapefileParser import ShapefileReader\n",
    "# from geospark.sql.types import GeometryType\n",
    "# from geospark.register import sparkJVM\n",
    "# import re\n",
    "# upload_jars()\n",
    "#\n",
    "#\n",
    "# spark = SparkSession.builder.appName(\"Spark_v1\")    .config(\"spark.default.parallelism\", 176*3) \\\n",
    "#     .config(\"spark.sql.shuffle.partitions\", 176*3) \\\n",
    "#     .config(\"spark.executor.memory\", \"50g\") \\\n",
    "#     .config(\"spark.executor.cores\", \"5\") \\\n",
    "#     .config(\"spark.driver.memory\", \"10g\") \\\n",
    "#     .config(\"spark.driver.maxResultSize\", \"1300g\") \\\n",
    "#     .getOrCreate()\n",
    "import os\n",
    "\n",
    "# setup arguments\n",
    "#os.environ['PYSPARK_SUBMIT_ARGS'] = '--packages org.apache.spark:spark-sql-kafka-0-10_2.11:2.4.0'\n",
    "\n",
    "# initialize spark\n",
    "import pyspark\n",
    "\n",
    "from pyspark.sql import SparkSession\n",
    "from pyspark.sql.types import StringType, BooleanType\n",
    "\n",
    "\n",
    "ram = 16\n",
    "\n",
    "spark = SparkSession. \\\n",
    "    builder. \\\n",
    "    appName('spark_first_run') \\\n",
    "    .config(\"spark.executor.memory\", f\"{ram}g\") \\\n",
    "    .config(\"spark.driver.maxResultSize\", f\"{ram}g\") \\\n",
    "    .config(\"spark.driver.memory\", f\"{ram}g\") \\\n",
    "    .config(\"spark.executor.memoryOverhead\", f\"{ram}g\") \\\n",
    "    .config(\"spark.sql.debug.maxToStringFields\", \"100000\") \\\n",
    "    .getOrCreate()\n",
    "\n",
    "\n",
    "#    .config(\"spark.driver.memory\", \"10g\") \\\n",
    "\n",
    "#    .config(\"spark.executor.memoryOverhead\", \"10g\") \\\n",
    "\n",
    "\n",
    "\n",
    "\n",
    "# Register Sedona functions to Spark\n",
    "\n",
    "\n",
    "\n",
    "\n",
    "\n",
    "\n",
    "from scipy.stats import t\n",
    "from pyspark.sql import SparkSession\n",
    "\n",
    "from pyspark.sql.functions import udf, lit\n",
    "\n",
    "import pandas as pd\n",
    "from ast import literal_eval\n",
    "import json\n",
    "from pyspark.sql.functions import udf\n",
    "import pandas as pd\n",
    "import shutil\n",
    "from pyspark.sql.functions import udf\n",
    "from pyspark.sql.functions import udf, explode\n",
    "from pyspark.sql.types import ArrayType, StructType, StructField, FloatType\n",
    "from pyspark.sql.functions import desc\n",
    "from time import sleep\n",
    "from pyspark.sql import Row\n",
    "#from pyspark.sql.functions import min, max\n",
    "from pyspark.sql.functions import col\n",
    "from pyspark.sql.functions import split, explode, lower, trim\n",
    "from pyspark.sql import SparkSession\n",
    "from pyspark.sql.functions import when, count, col\n",
    "from pyspark.sql import SparkSession\n",
    "from pyspark.sql.functions import row_number\n",
    "from pyspark.sql.window import Window\n",
    "from pyspark.sql.functions import monotonically_increasing_id\n",
    "from pyspark.sql.functions import monotonically_increasing_id, concat, col, lit, cast\n",
    "from pyspark.sql import SparkSession\n",
    "from pyspark.sql.functions import collect_list, udf\n",
    "from pyspark.sql.types import DoubleType\n",
    "from pyspark.sql import SparkSession\n",
    "from pyspark.sql.functions import initcap\n",
    "import re\n",
    "import subprocess"
   ]
  },
  {
   "cell_type": "code",
   "outputs": [
    {
     "name": "stdout",
     "output_type": "stream",
     "text": [
      "PySpark version: 3.5.0\n"
     ]
    }
   ],
   "source": [
    "import pyspark\n",
    "\n",
    "# Get PySpark version\n",
    "print(\"PySpark version:\", pyspark.__version__)\n"
   ],
   "metadata": {
    "collapsed": false,
    "ExecuteTime": {
     "end_time": "2024-02-05T13:43:36.068308700Z",
     "start_time": "2024-02-05T13:43:36.060307Z"
    }
   },
   "id": "c2e99182d25d3fb8",
   "execution_count": 2
  },
  {
   "cell_type": "markdown",
   "source": [
    "this for terminal\n",
    "setx JAVA_HOME \"C:\\Program Files\\Java\\jdk-11\"\n"
   ],
   "metadata": {
    "collapsed": false
   },
   "id": "67b5b0745faf77cf"
  },
  {
   "cell_type": "code",
   "outputs": [
    {
     "name": "stdout",
     "output_type": "stream",
     "text": [
      "+-------------+\n",
      "|      message|\n",
      "+-------------+\n",
      "|Hello, World!|\n",
      "+-------------+\n"
     ]
    }
   ],
   "source": [
    "# # Create a SparkSession\n",
    "# spark = SparkSession.builder \\\n",
    "#     .appName(\"HelloWorld\") \\\n",
    "#     .getOrCreate()\n",
    "\n",
    "# Create a DataFrame with a single column named \"message\" and a single row containing the string \"Hello, World!\"\n",
    "data = [(\"Hello, World!\",)]\n",
    "df = spark.createDataFrame(data, [\"message\"])\n",
    "\n",
    "# Show the DataFrame\n",
    "df.show()\n"
   ],
   "metadata": {
    "collapsed": false,
    "ExecuteTime": {
     "end_time": "2024-02-05T13:43:51.845589400Z",
     "start_time": "2024-02-05T13:43:36.404028200Z"
    }
   },
   "id": "df544333e122accf",
   "execution_count": 3
  },
  {
   "cell_type": "code",
   "outputs": [
    {
     "name": "stdout",
     "output_type": "stream",
     "text": [
      "+-----+\n",
      "|hello|\n",
      "+-----+\n",
      "|spark|\n",
      "+-----+\n"
     ]
    }
   ],
   "source": [
    "import pyspark # only run after findspark.init()\n",
    "from pyspark.sql import SparkSession\n",
    "spark = SparkSession.builder.getOrCreate()\n",
    "\n",
    "df = spark.sql('''select 'spark' as hello ''')\n",
    "df.show()"
   ],
   "metadata": {
    "collapsed": false,
    "ExecuteTime": {
     "end_time": "2024-02-05T13:43:52.052774600Z",
     "start_time": "2024-02-05T13:43:51.850586900Z"
    }
   },
   "id": "ddbdf7cff9d9b984",
   "execution_count": 4
  },
  {
   "cell_type": "code",
   "outputs": [
    {
     "name": "stdout",
     "output_type": "stream",
     "text": [
      "+-----+------+\n",
      "|   _1|    _2|\n",
      "+-----+------+\n",
      "|Spark|Impala|\n",
      "|  3.2|   2.2|\n",
      "+-----+------+\n"
     ]
    }
   ],
   "source": [
    "df = spark.createDataFrame([(\"Spark\", \"Impala\"), (\"3.2\", \"2.2\")])\n",
    "df.show()"
   ],
   "metadata": {
    "collapsed": false,
    "ExecuteTime": {
     "end_time": "2024-02-05T13:44:02.081796Z",
     "start_time": "2024-02-05T13:43:52.052774600Z"
    }
   },
   "id": "50a46a9982413eef",
   "execution_count": 5
  },
  {
   "cell_type": "code",
   "outputs": [],
   "source": [
    "from pyspark.sql import SparkSession\n",
    "\n",
    "spark = SparkSession.builder \\\n",
    "    .master(\"local[*]\") \\\n",
    "    .appName('PySpark_Tutorial') \\\n",
    "    .getOrCreate()"
   ],
   "metadata": {
    "collapsed": false,
    "ExecuteTime": {
     "end_time": "2024-02-05T13:44:02.102797100Z",
     "start_time": "2024-02-05T13:44:02.086796Z"
    }
   },
   "id": "81731e1975296a89",
   "execution_count": 6
  },
  {
   "cell_type": "code",
   "outputs": [
    {
     "data": {
      "text/plain": "         USMER  MEDICAL_UNIT  SEX  PATIENT_TYPE   DATE_DIED  INTUBED  \\\n0            2             1    1             1  03/05/2020       97   \n1            2             1    2             1  03/06/2020       97   \n2            2             1    2             2  09/06/2020        1   \n3            2             1    1             1  12/06/2020       97   \n4            2             1    2             1  21/06/2020       97   \n...        ...           ...  ...           ...         ...      ...   \n1048570      2            13    2             1  9999-99-99       97   \n1048571      1            13    2             2  9999-99-99        2   \n1048572      2            13    2             1  9999-99-99       97   \n1048573      2            13    2             1  9999-99-99       97   \n1048574      2            13    2             1  9999-99-99       97   \n\n         PNEUMONIA  AGE  PREGNANT  DIABETES  ...  ASTHMA  INMSUPR  \\\n0                1   65         2         2  ...       2        2   \n1                1   72        97         2  ...       2        2   \n2                2   55        97         1  ...       2        2   \n3                2   53         2         2  ...       2        2   \n4                2   68        97         1  ...       2        2   \n...            ...  ...       ...       ...  ...     ...      ...   \n1048570          2   40        97         2  ...       2        2   \n1048571          2   51        97         2  ...       2        2   \n1048572          2   55        97         2  ...       2        2   \n1048573          2   28        97         2  ...       2        2   \n1048574          2   52        97         2  ...       2        2   \n\n         HIPERTENSION  OTHER_DISEASE  CARDIOVASCULAR  OBESITY  RENAL_CHRONIC  \\\n0                   1              2               2        2              2   \n1                   1              2               2        1              1   \n2                   2              2               2        2              2   \n3                   2              2               2        2              2   \n4                   1              2               2        2              2   \n...               ...            ...             ...      ...            ...   \n1048570             2              2               2        2              2   \n1048571             1              2               2        2              2   \n1048572             2              2               2        2              2   \n1048573             2              2               2        2              2   \n1048574             2              2               2        2              2   \n\n         TOBACCO  CLASIFFICATION_FINAL  ICU  \n0              2                     3   97  \n1              2                     5   97  \n2              2                     3    2  \n3              2                     7   97  \n4              2                     3   97  \n...          ...                   ...  ...  \n1048570        2                     7   97  \n1048571        2                     7    2  \n1048572        2                     7   97  \n1048573        2                     7   97  \n1048574        2                     7   97  \n\n[1048575 rows x 21 columns]",
      "text/html": "<div>\n<style scoped>\n    .dataframe tbody tr th:only-of-type {\n        vertical-align: middle;\n    }\n\n    .dataframe tbody tr th {\n        vertical-align: top;\n    }\n\n    .dataframe thead th {\n        text-align: right;\n    }\n</style>\n<table border=\"1\" class=\"dataframe\">\n  <thead>\n    <tr style=\"text-align: right;\">\n      <th></th>\n      <th>USMER</th>\n      <th>MEDICAL_UNIT</th>\n      <th>SEX</th>\n      <th>PATIENT_TYPE</th>\n      <th>DATE_DIED</th>\n      <th>INTUBED</th>\n      <th>PNEUMONIA</th>\n      <th>AGE</th>\n      <th>PREGNANT</th>\n      <th>DIABETES</th>\n      <th>...</th>\n      <th>ASTHMA</th>\n      <th>INMSUPR</th>\n      <th>HIPERTENSION</th>\n      <th>OTHER_DISEASE</th>\n      <th>CARDIOVASCULAR</th>\n      <th>OBESITY</th>\n      <th>RENAL_CHRONIC</th>\n      <th>TOBACCO</th>\n      <th>CLASIFFICATION_FINAL</th>\n      <th>ICU</th>\n    </tr>\n  </thead>\n  <tbody>\n    <tr>\n      <th>0</th>\n      <td>2</td>\n      <td>1</td>\n      <td>1</td>\n      <td>1</td>\n      <td>03/05/2020</td>\n      <td>97</td>\n      <td>1</td>\n      <td>65</td>\n      <td>2</td>\n      <td>2</td>\n      <td>...</td>\n      <td>2</td>\n      <td>2</td>\n      <td>1</td>\n      <td>2</td>\n      <td>2</td>\n      <td>2</td>\n      <td>2</td>\n      <td>2</td>\n      <td>3</td>\n      <td>97</td>\n    </tr>\n    <tr>\n      <th>1</th>\n      <td>2</td>\n      <td>1</td>\n      <td>2</td>\n      <td>1</td>\n      <td>03/06/2020</td>\n      <td>97</td>\n      <td>1</td>\n      <td>72</td>\n      <td>97</td>\n      <td>2</td>\n      <td>...</td>\n      <td>2</td>\n      <td>2</td>\n      <td>1</td>\n      <td>2</td>\n      <td>2</td>\n      <td>1</td>\n      <td>1</td>\n      <td>2</td>\n      <td>5</td>\n      <td>97</td>\n    </tr>\n    <tr>\n      <th>2</th>\n      <td>2</td>\n      <td>1</td>\n      <td>2</td>\n      <td>2</td>\n      <td>09/06/2020</td>\n      <td>1</td>\n      <td>2</td>\n      <td>55</td>\n      <td>97</td>\n      <td>1</td>\n      <td>...</td>\n      <td>2</td>\n      <td>2</td>\n      <td>2</td>\n      <td>2</td>\n      <td>2</td>\n      <td>2</td>\n      <td>2</td>\n      <td>2</td>\n      <td>3</td>\n      <td>2</td>\n    </tr>\n    <tr>\n      <th>3</th>\n      <td>2</td>\n      <td>1</td>\n      <td>1</td>\n      <td>1</td>\n      <td>12/06/2020</td>\n      <td>97</td>\n      <td>2</td>\n      <td>53</td>\n      <td>2</td>\n      <td>2</td>\n      <td>...</td>\n      <td>2</td>\n      <td>2</td>\n      <td>2</td>\n      <td>2</td>\n      <td>2</td>\n      <td>2</td>\n      <td>2</td>\n      <td>2</td>\n      <td>7</td>\n      <td>97</td>\n    </tr>\n    <tr>\n      <th>4</th>\n      <td>2</td>\n      <td>1</td>\n      <td>2</td>\n      <td>1</td>\n      <td>21/06/2020</td>\n      <td>97</td>\n      <td>2</td>\n      <td>68</td>\n      <td>97</td>\n      <td>1</td>\n      <td>...</td>\n      <td>2</td>\n      <td>2</td>\n      <td>1</td>\n      <td>2</td>\n      <td>2</td>\n      <td>2</td>\n      <td>2</td>\n      <td>2</td>\n      <td>3</td>\n      <td>97</td>\n    </tr>\n    <tr>\n      <th>...</th>\n      <td>...</td>\n      <td>...</td>\n      <td>...</td>\n      <td>...</td>\n      <td>...</td>\n      <td>...</td>\n      <td>...</td>\n      <td>...</td>\n      <td>...</td>\n      <td>...</td>\n      <td>...</td>\n      <td>...</td>\n      <td>...</td>\n      <td>...</td>\n      <td>...</td>\n      <td>...</td>\n      <td>...</td>\n      <td>...</td>\n      <td>...</td>\n      <td>...</td>\n      <td>...</td>\n    </tr>\n    <tr>\n      <th>1048570</th>\n      <td>2</td>\n      <td>13</td>\n      <td>2</td>\n      <td>1</td>\n      <td>9999-99-99</td>\n      <td>97</td>\n      <td>2</td>\n      <td>40</td>\n      <td>97</td>\n      <td>2</td>\n      <td>...</td>\n      <td>2</td>\n      <td>2</td>\n      <td>2</td>\n      <td>2</td>\n      <td>2</td>\n      <td>2</td>\n      <td>2</td>\n      <td>2</td>\n      <td>7</td>\n      <td>97</td>\n    </tr>\n    <tr>\n      <th>1048571</th>\n      <td>1</td>\n      <td>13</td>\n      <td>2</td>\n      <td>2</td>\n      <td>9999-99-99</td>\n      <td>2</td>\n      <td>2</td>\n      <td>51</td>\n      <td>97</td>\n      <td>2</td>\n      <td>...</td>\n      <td>2</td>\n      <td>2</td>\n      <td>1</td>\n      <td>2</td>\n      <td>2</td>\n      <td>2</td>\n      <td>2</td>\n      <td>2</td>\n      <td>7</td>\n      <td>2</td>\n    </tr>\n    <tr>\n      <th>1048572</th>\n      <td>2</td>\n      <td>13</td>\n      <td>2</td>\n      <td>1</td>\n      <td>9999-99-99</td>\n      <td>97</td>\n      <td>2</td>\n      <td>55</td>\n      <td>97</td>\n      <td>2</td>\n      <td>...</td>\n      <td>2</td>\n      <td>2</td>\n      <td>2</td>\n      <td>2</td>\n      <td>2</td>\n      <td>2</td>\n      <td>2</td>\n      <td>2</td>\n      <td>7</td>\n      <td>97</td>\n    </tr>\n    <tr>\n      <th>1048573</th>\n      <td>2</td>\n      <td>13</td>\n      <td>2</td>\n      <td>1</td>\n      <td>9999-99-99</td>\n      <td>97</td>\n      <td>2</td>\n      <td>28</td>\n      <td>97</td>\n      <td>2</td>\n      <td>...</td>\n      <td>2</td>\n      <td>2</td>\n      <td>2</td>\n      <td>2</td>\n      <td>2</td>\n      <td>2</td>\n      <td>2</td>\n      <td>2</td>\n      <td>7</td>\n      <td>97</td>\n    </tr>\n    <tr>\n      <th>1048574</th>\n      <td>2</td>\n      <td>13</td>\n      <td>2</td>\n      <td>1</td>\n      <td>9999-99-99</td>\n      <td>97</td>\n      <td>2</td>\n      <td>52</td>\n      <td>97</td>\n      <td>2</td>\n      <td>...</td>\n      <td>2</td>\n      <td>2</td>\n      <td>2</td>\n      <td>2</td>\n      <td>2</td>\n      <td>2</td>\n      <td>2</td>\n      <td>2</td>\n      <td>7</td>\n      <td>97</td>\n    </tr>\n  </tbody>\n</table>\n<p>1048575 rows × 21 columns</p>\n</div>"
     },
     "execution_count": 7,
     "metadata": {},
     "output_type": "execute_result"
    }
   ],
   "source": [
    "# data = pd.read_csv('data/Covid_data.csv')\n",
    "data = pd.read_csv('data/original/Covid_data_full.csv')\n",
    "\n",
    "# data[data['DATE_DIED']==9999-99-99]\n",
    "data"
   ],
   "metadata": {
    "collapsed": false,
    "ExecuteTime": {
     "end_time": "2024-02-05T13:44:03.479671Z",
     "start_time": "2024-02-05T13:44:02.098794300Z"
    }
   },
   "id": "b151574a08f8b8fb",
   "execution_count": 7
  },
  {
   "cell_type": "code",
   "outputs": [
    {
     "name": "stdout",
     "output_type": "stream",
     "text": [
      "root\n",
      " |-- USMER: string (nullable = true)\n",
      " |-- MEDICAL_UNIT: string (nullable = true)\n",
      " |-- SEX: string (nullable = true)\n",
      " |-- PATIENT_TYPE: string (nullable = true)\n",
      " |-- DATE_DIED: string (nullable = true)\n",
      " |-- INTUBED: string (nullable = true)\n",
      " |-- PNEUMONIA: string (nullable = true)\n",
      " |-- AGE: string (nullable = true)\n",
      " |-- PREGNANT: string (nullable = true)\n",
      " |-- DIABETES: string (nullable = true)\n",
      " |-- COPD: string (nullable = true)\n",
      " |-- ASTHMA: string (nullable = true)\n",
      " |-- INMSUPR: string (nullable = true)\n",
      " |-- HIPERTENSION: string (nullable = true)\n",
      " |-- OTHER_DISEASE: string (nullable = true)\n",
      " |-- CARDIOVASCULAR: string (nullable = true)\n",
      " |-- OBESITY: string (nullable = true)\n",
      " |-- RENAL_CHRONIC: string (nullable = true)\n",
      " |-- TOBACCO: string (nullable = true)\n",
      " |-- CLASIFFICATION_FINAL: string (nullable = true)\n",
      " |-- ICU: string (nullable = true)\n",
      "+-----+------------+---+------------+----------+-------+---------+---+--------+--------+----+------+-------+------------+-------------+--------------+-------+-------------+-------+--------------------+---+\n",
      "|USMER|MEDICAL_UNIT|SEX|PATIENT_TYPE| DATE_DIED|INTUBED|PNEUMONIA|AGE|PREGNANT|DIABETES|COPD|ASTHMA|INMSUPR|HIPERTENSION|OTHER_DISEASE|CARDIOVASCULAR|OBESITY|RENAL_CHRONIC|TOBACCO|CLASIFFICATION_FINAL|ICU|\n",
      "+-----+------------+---+------------+----------+-------+---------+---+--------+--------+----+------+-------+------------+-------------+--------------+-------+-------------+-------+--------------------+---+\n",
      "|    2|           1|  1|           1|03/05/2020|     97|        1| 65|       2|       2|   2|     2|      2|           1|            2|             2|      2|            2|      2|                   3| 97|\n",
      "|    2|           1|  2|           1|03/06/2020|     97|        1| 72|      97|       2|   2|     2|      2|           1|            2|             2|      1|            1|      2|                   5| 97|\n",
      "|    2|           1|  2|           2|09/06/2020|      1|        2| 55|      97|       1|   2|     2|      2|           2|            2|             2|      2|            2|      2|                   3|  2|\n",
      "|    2|           1|  1|           1|12/06/2020|     97|        2| 53|       2|       2|   2|     2|      2|           2|            2|             2|      2|            2|      2|                   7| 97|\n",
      "|    2|           1|  2|           1|21/06/2020|     97|        2| 68|      97|       1|   2|     2|      2|           1|            2|             2|      2|            2|      2|                   3| 97|\n",
      "|    2|           1|  1|           2|9999-99-99|      2|        1| 40|       2|       2|   2|     2|      2|           2|            2|             2|      2|            2|      2|                   3|  2|\n",
      "|    2|           1|  1|           1|9999-99-99|     97|        2| 64|       2|       2|   2|     2|      2|           2|            2|             2|      2|            2|      2|                   3| 97|\n",
      "|    2|           1|  1|           1|9999-99-99|     97|        1| 64|       2|       1|   2|     2|      1|           1|            2|             2|      2|            1|      2|                   3| 97|\n",
      "|    2|           1|  1|           2|9999-99-99|      2|        2| 37|       2|       1|   2|     2|      2|           1|            2|             2|      1|            2|      2|                   3|  2|\n",
      "|    2|           1|  1|           2|9999-99-99|      2|        2| 25|       2|       2|   2|     2|      2|           2|            2|             2|      2|            2|      2|                   3|  2|\n",
      "|    2|           1|  1|           1|9999-99-99|     97|        2| 38|       2|       2|   2|     2|      2|           2|            2|             2|      2|            2|      2|                   3| 97|\n",
      "|    2|           1|  2|           2|9999-99-99|      2|        2| 24|      97|       2|   2|     2|      2|           2|            2|             2|      2|            2|      2|                   3|  2|\n",
      "|    2|           1|  2|           2|9999-99-99|      2|        2| 30|      97|       2|   2|     2|      2|           2|            2|             2|      2|            2|      2|                   3|  2|\n",
      "|    2|           1|  2|           1|9999-99-99|     97|        2| 55|      97|       2|   2|     2|      2|           2|            2|             2|      2|            2|      2|                   3| 97|\n",
      "|    2|           1|  1|           1|9999-99-99|     97|        2| 48|       2|       1|   2|     2|      2|           2|            2|             2|      2|            2|      2|                   3| 97|\n",
      "|    2|           1|  1|           1|9999-99-99|     97|        2| 23|       2|       2|   2|     2|      2|           2|            2|             2|      2|            2|      2|                   3| 97|\n",
      "|    2|           1|  1|           2|9999-99-99|      2|        1| 80|       2|       2|   2|     2|      2|           1|            2|             2|      2|            2|      2|                   3|  1|\n",
      "|    2|           1|  2|           1|9999-99-99|     97|        2| 61|      97|       2|   2|     2|      2|           2|            2|             2|      2|            2|      2|                   3| 97|\n",
      "|    2|           1|  2|           1|9999-99-99|     97|        2| 54|      97|       2|   2|     2|      2|           2|            2|             2|      2|            2|      2|                   3| 97|\n",
      "|    2|           1|  1|           1|9999-99-99|     97|        2| 64|       2|       2|   2|     2|      2|           2|            2|             2|      2|            2|      2|                   3| 97|\n",
      "+-----+------------+---+------------+----------+-------+---------+---+--------+--------+----+------+-------+------------+-------------+--------------+-------+-------------+-------+--------------------+---+\n",
      "only showing top 20 rows\n"
     ]
    }
   ],
   "source": [
    "# Read CSV file into table\n",
    "df = spark.read.option(\"header\",True) \\\n",
    "    .csv(\"data/original/Covid_data_full.csv\")\n",
    "df.printSchema()\n",
    "df.show()"
   ],
   "metadata": {
    "collapsed": false,
    "ExecuteTime": {
     "end_time": "2024-02-05T13:44:04.539689Z",
     "start_time": "2024-02-05T13:44:03.483673600Z"
    }
   },
   "id": "7ba77ef8919f2290",
   "execution_count": 8
  },
  {
   "cell_type": "code",
   "outputs": [],
   "source": [
    "df.createOrReplaceTempView('DATA')"
   ],
   "metadata": {
    "collapsed": false,
    "ExecuteTime": {
     "end_time": "2024-02-05T13:44:04.617145Z",
     "start_time": "2024-02-05T13:44:04.541689200Z"
    }
   },
   "id": "7bd661d6e22e7c58",
   "execution_count": 9
  },
  {
   "cell_type": "code",
   "outputs": [
    {
     "name": "stdout",
     "output_type": "stream",
     "text": [
      "+-------------------+------------+\n",
      "|count(DATE_DIED_MM)|DATE_DIED_MM|\n",
      "+-------------------+------------+\n",
      "|             971656|          12|\n",
      "|                399|           1|\n",
      "|              25278|           6|\n",
      "|                584|           3|\n",
      "|              21363|           5|\n",
      "|                 91|           9|\n",
      "|               7096|           4|\n",
      "|               1134|           8|\n",
      "|              20457|           7|\n",
      "|                 27|          10|\n",
      "|                 18|          11|\n",
      "|                472|           2|\n",
      "+-------------------+------------+\n"
     ]
    }
   ],
   "source": [
    "# SQL Select query\n",
    "spark.sql('''\n",
    "    WITH TEMP_DATA AS (\n",
    "    SELECT \n",
    "        CASE \n",
    "            WHEN DATE_DIED == '9999-99-99' THEN '31/12/9999' \n",
    "            ELSE DATE_DIED \n",
    "        END AS DATE_DIED_UPD\n",
    "    FROM DATA)\n",
    "    \n",
    "    , TEMP_DATA_TRANS AS ( \n",
    "    SELECT  \n",
    "        MONTH(TO_DATE(DATE_DIED_UPD, 'dd/MM/yyyy')) AS DATE_DIED_MM\n",
    "    FROM\n",
    "        TEMP_DATA )\n",
    "        \n",
    "    SELECT\n",
    "        COUNT(DATE_DIED_MM),DATE_DIED_MM\n",
    "    FROM\n",
    "        TEMP_DATA_TRANS\n",
    "    GROUP BY DATE_DIED_MM \n",
    "''') \\\n",
    "    .show(25)"
   ],
   "metadata": {
    "collapsed": false,
    "ExecuteTime": {
     "end_time": "2024-02-05T13:44:07.015848800Z",
     "start_time": "2024-02-05T13:44:04.619144600Z"
    }
   },
   "id": "630189f951cc4a34",
   "execution_count": 10
  },
  {
   "cell_type": "code",
   "outputs": [
    {
     "ename": "AnalysisException",
     "evalue": "[UNRESOLVED_COLUMN.WITHOUT_SUGGESTION] A column or function parameter with name `DATE_DIED_MM` cannot be resolved. ; line 22 pos 21;\n'WithCTE\n:- CTERelationDef 2, false\n:  +- SubqueryAlias TEMP_DATA\n:     +- Project [CASE WHEN (DATE_DIED#48 = 9999-99-99) THEN cast(null as string) ELSE DATE_DIED#48 END AS DATE_DIED_UPD#215]\n:        +- SubqueryAlias data\n:           +- View (`DATA`, [USMER#44,MEDICAL_UNIT#45,SEX#46,PATIENT_TYPE#47,DATE_DIED#48,INTUBED#49,PNEUMONIA#50,AGE#51,PREGNANT#52,DIABETES#53,COPD#54,ASTHMA#55,INMSUPR#56,HIPERTENSION#57,OTHER_DISEASE#58,CARDIOVASCULAR#59,OBESITY#60,RENAL_CHRONIC#61,TOBACCO#62,CLASIFFICATION_FINAL#63,ICU#64])\n:              +- Relation [USMER#44,MEDICAL_UNIT#45,SEX#46,PATIENT_TYPE#47,DATE_DIED#48,INTUBED#49,PNEUMONIA#50,AGE#51,PREGNANT#52,DIABETES#53,COPD#54,ASTHMA#55,INMSUPR#56,HIPERTENSION#57,OTHER_DISEASE#58,CARDIOVASCULAR#59,OBESITY#60,RENAL_CHRONIC#61,TOBACCO#62,CLASIFFICATION_FINAL#63,ICU#64] csv\n:- CTERelationDef 3, false\n:  +- SubqueryAlias TEMP_DATA_TRANS\n:     +- Project [month(to_date(DATE_DIED_UPD#215, Some(dd/MM/yyyy), Some(Europe/Moscow), false)) AS DATE_DIED_MM#216]\n:        +- SubqueryAlias TEMP_DATA\n:           +- CTERelationRef 2, true, [DATE_DIED_UPD#215]\n+- 'Aggregate ['DATE_DIED_NULL_RENAME], [unresolvedalias('COUNT('DATE_DIED_NULL_RENAME), None), 'DATE_DIED_NULL_RENAME]\n   +- 'SubqueryAlias __auto_generated_subquery_name\n      +- 'Project [CASE WHEN isnull('DATE_DIED_MM) THEN 13 ELSE 'DATE_DIED_MM END AS DATE_DIED_NULL_RENAME#213, 'FROM AS TEMP_DATA_TRANS#214]\n         +- OneRowRelation\n",
     "output_type": "error",
     "traceback": [
      "\u001B[1;31m---------------------------------------------------------------------------\u001B[0m",
      "\u001B[1;31mAnalysisException\u001B[0m                         Traceback (most recent call last)",
      "Cell \u001B[1;32mIn[11], line 2\u001B[0m\n\u001B[0;32m      1\u001B[0m \u001B[38;5;66;03m# SQL Select query\u001B[39;00m\n\u001B[1;32m----> 2\u001B[0m \u001B[43mspark\u001B[49m\u001B[38;5;241;43m.\u001B[39;49m\u001B[43msql\u001B[49m\u001B[43m(\u001B[49m\u001B[38;5;124;43m'''\u001B[39;49m\n\u001B[0;32m      3\u001B[0m \u001B[38;5;124;43m    WITH TEMP_DATA AS (\u001B[39;49m\n\u001B[0;32m      4\u001B[0m \u001B[38;5;124;43m    SELECT \u001B[39;49m\n\u001B[0;32m      5\u001B[0m \u001B[38;5;124;43m        CASE \u001B[39;49m\n\u001B[0;32m      6\u001B[0m \u001B[38;5;124;43m            WHEN DATE_DIED == \u001B[39;49m\u001B[38;5;124;43m'\u001B[39;49m\u001B[38;5;124;43m9999-99-99\u001B[39;49m\u001B[38;5;124;43m'\u001B[39;49m\u001B[38;5;124;43m THEN NULL \u001B[39;49m\n\u001B[0;32m      7\u001B[0m \u001B[38;5;124;43m            ELSE DATE_DIED \u001B[39;49m\n\u001B[0;32m      8\u001B[0m \u001B[38;5;124;43m        END AS DATE_DIED_UPD\u001B[39;49m\n\u001B[0;32m      9\u001B[0m \u001B[38;5;124;43m    FROM DATA)\u001B[39;49m\n\u001B[0;32m     10\u001B[0m \u001B[38;5;124;43m    \u001B[39;49m\n\u001B[0;32m     11\u001B[0m \u001B[38;5;124;43m    , TEMP_DATA_TRANS AS ( \u001B[39;49m\n\u001B[0;32m     12\u001B[0m \u001B[38;5;124;43m    SELECT  \u001B[39;49m\n\u001B[0;32m     13\u001B[0m \u001B[38;5;124;43m        MONTH(TO_DATE(DATE_DIED_UPD, \u001B[39;49m\u001B[38;5;124;43m'\u001B[39;49m\u001B[38;5;124;43mdd/MM/yyyy\u001B[39;49m\u001B[38;5;124;43m'\u001B[39;49m\u001B[38;5;124;43m)) AS DATE_DIED_MM\u001B[39;49m\n\u001B[0;32m     14\u001B[0m \u001B[38;5;124;43m    FROM\u001B[39;49m\n\u001B[0;32m     15\u001B[0m \u001B[38;5;124;43m        TEMP_DATA )\u001B[39;49m\n\u001B[0;32m     16\u001B[0m \u001B[38;5;124;43m    \u001B[39;49m\n\u001B[0;32m     17\u001B[0m \u001B[38;5;124;43m    SELECT  \u001B[39;49m\n\u001B[0;32m     18\u001B[0m \u001B[38;5;124;43m        COUNT(DATE_DIED_NULL_RENAME),DATE_DIED_NULL_RENAME\u001B[39;49m\n\u001B[0;32m     19\u001B[0m \u001B[38;5;124;43m    FROM \u001B[39;49m\n\u001B[0;32m     20\u001B[0m \u001B[38;5;124;43m    (\u001B[39;49m\n\u001B[0;32m     21\u001B[0m \u001B[38;5;124;43m        SELECT \u001B[39;49m\n\u001B[0;32m     22\u001B[0m \u001B[38;5;124;43m            CASE\u001B[39;49m\n\u001B[0;32m     23\u001B[0m \u001B[38;5;124;43m                WHEN DATE_DIED_MM IS NULL THEN 13\u001B[39;49m\n\u001B[0;32m     24\u001B[0m \u001B[38;5;124;43m                ELSE DATE_DIED_MM\u001B[39;49m\n\u001B[0;32m     25\u001B[0m \u001B[38;5;124;43m            END AS DATE_DIED_NULL_RENAME,   \u001B[39;49m\n\u001B[0;32m     26\u001B[0m \u001B[38;5;124;43m        FROM\u001B[39;49m\n\u001B[0;32m     27\u001B[0m \u001B[38;5;124;43m            TEMP_DATA_TRANS\u001B[39;49m\n\u001B[0;32m     28\u001B[0m \u001B[38;5;124;43m    )\u001B[39;49m\n\u001B[0;32m     29\u001B[0m \u001B[38;5;124;43m    GROUP BY DATE_DIED_NULL_RENAME \u001B[39;49m\n\u001B[0;32m     30\u001B[0m \u001B[38;5;124;43m'''\u001B[39;49m\u001B[43m)\u001B[49m\u001B[38;5;241m.\u001B[39mshow(\u001B[38;5;241m25\u001B[39m)\n",
      "File \u001B[1;32mC:\\ProgramData\\anaconda3\\envs\\kanagawa\\lib\\site-packages\\pyspark\\sql\\session.py:1631\u001B[0m, in \u001B[0;36mSparkSession.sql\u001B[1;34m(self, sqlQuery, args, **kwargs)\u001B[0m\n\u001B[0;32m   1627\u001B[0m         \u001B[38;5;28;01massert\u001B[39;00m \u001B[38;5;28mself\u001B[39m\u001B[38;5;241m.\u001B[39m_jvm \u001B[38;5;129;01mis\u001B[39;00m \u001B[38;5;129;01mnot\u001B[39;00m \u001B[38;5;28;01mNone\u001B[39;00m\n\u001B[0;32m   1628\u001B[0m         litArgs \u001B[38;5;241m=\u001B[39m \u001B[38;5;28mself\u001B[39m\u001B[38;5;241m.\u001B[39m_jvm\u001B[38;5;241m.\u001B[39mPythonUtils\u001B[38;5;241m.\u001B[39mtoArray(\n\u001B[0;32m   1629\u001B[0m             [_to_java_column(lit(v)) \u001B[38;5;28;01mfor\u001B[39;00m v \u001B[38;5;129;01min\u001B[39;00m (args \u001B[38;5;129;01mor\u001B[39;00m [])]\n\u001B[0;32m   1630\u001B[0m         )\n\u001B[1;32m-> 1631\u001B[0m     \u001B[38;5;28;01mreturn\u001B[39;00m DataFrame(\u001B[38;5;28;43mself\u001B[39;49m\u001B[38;5;241;43m.\u001B[39;49m\u001B[43m_jsparkSession\u001B[49m\u001B[38;5;241;43m.\u001B[39;49m\u001B[43msql\u001B[49m\u001B[43m(\u001B[49m\u001B[43msqlQuery\u001B[49m\u001B[43m,\u001B[49m\u001B[43m \u001B[49m\u001B[43mlitArgs\u001B[49m\u001B[43m)\u001B[49m, \u001B[38;5;28mself\u001B[39m)\n\u001B[0;32m   1632\u001B[0m \u001B[38;5;28;01mfinally\u001B[39;00m:\n\u001B[0;32m   1633\u001B[0m     \u001B[38;5;28;01mif\u001B[39;00m \u001B[38;5;28mlen\u001B[39m(kwargs) \u001B[38;5;241m>\u001B[39m \u001B[38;5;241m0\u001B[39m:\n",
      "File \u001B[1;32mC:\\ProgramData\\anaconda3\\envs\\kanagawa\\lib\\site-packages\\py4j\\java_gateway.py:1322\u001B[0m, in \u001B[0;36mJavaMember.__call__\u001B[1;34m(self, *args)\u001B[0m\n\u001B[0;32m   1316\u001B[0m command \u001B[38;5;241m=\u001B[39m proto\u001B[38;5;241m.\u001B[39mCALL_COMMAND_NAME \u001B[38;5;241m+\u001B[39m\\\n\u001B[0;32m   1317\u001B[0m     \u001B[38;5;28mself\u001B[39m\u001B[38;5;241m.\u001B[39mcommand_header \u001B[38;5;241m+\u001B[39m\\\n\u001B[0;32m   1318\u001B[0m     args_command \u001B[38;5;241m+\u001B[39m\\\n\u001B[0;32m   1319\u001B[0m     proto\u001B[38;5;241m.\u001B[39mEND_COMMAND_PART\n\u001B[0;32m   1321\u001B[0m answer \u001B[38;5;241m=\u001B[39m \u001B[38;5;28mself\u001B[39m\u001B[38;5;241m.\u001B[39mgateway_client\u001B[38;5;241m.\u001B[39msend_command(command)\n\u001B[1;32m-> 1322\u001B[0m return_value \u001B[38;5;241m=\u001B[39m \u001B[43mget_return_value\u001B[49m\u001B[43m(\u001B[49m\n\u001B[0;32m   1323\u001B[0m \u001B[43m    \u001B[49m\u001B[43manswer\u001B[49m\u001B[43m,\u001B[49m\u001B[43m \u001B[49m\u001B[38;5;28;43mself\u001B[39;49m\u001B[38;5;241;43m.\u001B[39;49m\u001B[43mgateway_client\u001B[49m\u001B[43m,\u001B[49m\u001B[43m \u001B[49m\u001B[38;5;28;43mself\u001B[39;49m\u001B[38;5;241;43m.\u001B[39;49m\u001B[43mtarget_id\u001B[49m\u001B[43m,\u001B[49m\u001B[43m \u001B[49m\u001B[38;5;28;43mself\u001B[39;49m\u001B[38;5;241;43m.\u001B[39;49m\u001B[43mname\u001B[49m\u001B[43m)\u001B[49m\n\u001B[0;32m   1325\u001B[0m \u001B[38;5;28;01mfor\u001B[39;00m temp_arg \u001B[38;5;129;01min\u001B[39;00m temp_args:\n\u001B[0;32m   1326\u001B[0m     \u001B[38;5;28;01mif\u001B[39;00m \u001B[38;5;28mhasattr\u001B[39m(temp_arg, \u001B[38;5;124m\"\u001B[39m\u001B[38;5;124m_detach\u001B[39m\u001B[38;5;124m\"\u001B[39m):\n",
      "File \u001B[1;32mC:\\ProgramData\\anaconda3\\envs\\kanagawa\\lib\\site-packages\\pyspark\\errors\\exceptions\\captured.py:185\u001B[0m, in \u001B[0;36mcapture_sql_exception.<locals>.deco\u001B[1;34m(*a, **kw)\u001B[0m\n\u001B[0;32m    181\u001B[0m converted \u001B[38;5;241m=\u001B[39m convert_exception(e\u001B[38;5;241m.\u001B[39mjava_exception)\n\u001B[0;32m    182\u001B[0m \u001B[38;5;28;01mif\u001B[39;00m \u001B[38;5;129;01mnot\u001B[39;00m \u001B[38;5;28misinstance\u001B[39m(converted, UnknownException):\n\u001B[0;32m    183\u001B[0m     \u001B[38;5;66;03m# Hide where the exception came from that shows a non-Pythonic\u001B[39;00m\n\u001B[0;32m    184\u001B[0m     \u001B[38;5;66;03m# JVM exception message.\u001B[39;00m\n\u001B[1;32m--> 185\u001B[0m     \u001B[38;5;28;01mraise\u001B[39;00m converted \u001B[38;5;28;01mfrom\u001B[39;00m \u001B[38;5;28;01mNone\u001B[39;00m\n\u001B[0;32m    186\u001B[0m \u001B[38;5;28;01melse\u001B[39;00m:\n\u001B[0;32m    187\u001B[0m     \u001B[38;5;28;01mraise\u001B[39;00m\n",
      "\u001B[1;31mAnalysisException\u001B[0m: [UNRESOLVED_COLUMN.WITHOUT_SUGGESTION] A column or function parameter with name `DATE_DIED_MM` cannot be resolved. ; line 22 pos 21;\n'WithCTE\n:- CTERelationDef 2, false\n:  +- SubqueryAlias TEMP_DATA\n:     +- Project [CASE WHEN (DATE_DIED#48 = 9999-99-99) THEN cast(null as string) ELSE DATE_DIED#48 END AS DATE_DIED_UPD#215]\n:        +- SubqueryAlias data\n:           +- View (`DATA`, [USMER#44,MEDICAL_UNIT#45,SEX#46,PATIENT_TYPE#47,DATE_DIED#48,INTUBED#49,PNEUMONIA#50,AGE#51,PREGNANT#52,DIABETES#53,COPD#54,ASTHMA#55,INMSUPR#56,HIPERTENSION#57,OTHER_DISEASE#58,CARDIOVASCULAR#59,OBESITY#60,RENAL_CHRONIC#61,TOBACCO#62,CLASIFFICATION_FINAL#63,ICU#64])\n:              +- Relation [USMER#44,MEDICAL_UNIT#45,SEX#46,PATIENT_TYPE#47,DATE_DIED#48,INTUBED#49,PNEUMONIA#50,AGE#51,PREGNANT#52,DIABETES#53,COPD#54,ASTHMA#55,INMSUPR#56,HIPERTENSION#57,OTHER_DISEASE#58,CARDIOVASCULAR#59,OBESITY#60,RENAL_CHRONIC#61,TOBACCO#62,CLASIFFICATION_FINAL#63,ICU#64] csv\n:- CTERelationDef 3, false\n:  +- SubqueryAlias TEMP_DATA_TRANS\n:     +- Project [month(to_date(DATE_DIED_UPD#215, Some(dd/MM/yyyy), Some(Europe/Moscow), false)) AS DATE_DIED_MM#216]\n:        +- SubqueryAlias TEMP_DATA\n:           +- CTERelationRef 2, true, [DATE_DIED_UPD#215]\n+- 'Aggregate ['DATE_DIED_NULL_RENAME], [unresolvedalias('COUNT('DATE_DIED_NULL_RENAME), None), 'DATE_DIED_NULL_RENAME]\n   +- 'SubqueryAlias __auto_generated_subquery_name\n      +- 'Project [CASE WHEN isnull('DATE_DIED_MM) THEN 13 ELSE 'DATE_DIED_MM END AS DATE_DIED_NULL_RENAME#213, 'FROM AS TEMP_DATA_TRANS#214]\n         +- OneRowRelation\n"
     ]
    }
   ],
   "source": [
    "# SQL Select query\n",
    "spark.sql('''\n",
    "    WITH TEMP_DATA AS (\n",
    "    SELECT \n",
    "        CASE \n",
    "            WHEN DATE_DIED == '9999-99-99' THEN NULL \n",
    "            ELSE DATE_DIED \n",
    "        END AS DATE_DIED_UPD\n",
    "    FROM DATA)\n",
    "    \n",
    "    , TEMP_DATA_TRANS AS ( \n",
    "    SELECT  \n",
    "        MONTH(TO_DATE(DATE_DIED_UPD, 'dd/MM/yyyy')) AS DATE_DIED_MM\n",
    "    FROM\n",
    "        TEMP_DATA )\n",
    "    \n",
    "    SELECT  \n",
    "        COUNT(DATE_DIED_NULL_RENAME),DATE_DIED_NULL_RENAME\n",
    "    FROM \n",
    "    (\n",
    "        SELECT \n",
    "            CASE\n",
    "                WHEN DATE_DIED_MM IS NULL THEN 13\n",
    "                ELSE DATE_DIED_MM\n",
    "            END AS DATE_DIED_NULL_RENAME,   \n",
    "        FROM\n",
    "            TEMP_DATA_TRANS\n",
    "    )\n",
    "    GROUP BY DATE_DIED_NULL_RENAME \n",
    "''').show(25)"
   ],
   "metadata": {
    "collapsed": false,
    "ExecuteTime": {
     "end_time": "2024-02-05T13:44:08.251711400Z",
     "start_time": "2024-02-05T13:44:07.014848300Z"
    }
   },
   "id": "d07ba730a857ac54",
   "execution_count": 11
  },
  {
   "cell_type": "code",
   "outputs": [],
   "source": [
    "# SQL Select query\n",
    "spark.sql('''\n",
    "    WITH TEMP_DATA AS (\n",
    "    SELECT \n",
    "        CASE \n",
    "            WHEN DATE_DIED == '9999-99-99' THEN NULL \n",
    "            ELSE DATE_DIED \n",
    "        END AS DATE_DIED_UPD\n",
    "    FROM DATA)\n",
    "    \n",
    "\n",
    "    SELECT  \n",
    "        MONTH(TO_DATE(DATE_DIED_UPD, 'dd/MM/yyyy')) AS DATE_DIED_MM\n",
    "    FROM\n",
    "        TEMP_DATA \n",
    "\n",
    "''') \\\n",
    "    .show(25)"
   ],
   "metadata": {
    "collapsed": false,
    "ExecuteTime": {
     "end_time": "2024-02-05T13:44:08.255716700Z",
     "start_time": "2024-02-05T13:44:08.253716900Z"
    }
   },
   "id": "667828c79d879768",
   "execution_count": null
  },
  {
   "cell_type": "code",
   "outputs": [],
   "source": [
    "# SQL Select query\n",
    "spark.sql('''\n",
    "    WITH TEMP_DATA AS (\n",
    "        SELECT \n",
    "            CASE \n",
    "                WHEN DATE_DIED = '9999-99-99' THEN NULL \n",
    "                ELSE DATE_DIED \n",
    "            END AS DATE_DIED_UPD\n",
    "        FROM DATA\n",
    "    )\n",
    "    ,TEMP_DATA_TRANS AS ( \n",
    "        SELECT  \n",
    "            MONTH(TO_DATE(DATE_DIED_UPD, 'dd/MM/yyyy')) AS DATE_DIED_MM\n",
    "        FROM\n",
    "            TEMP_DATA\n",
    "    )\n",
    "    SELECT  \n",
    "        COUNT(DATE_DIED_NULL_RENAME) AS COUNT_DATE_DIED_NULL_RENAME,\n",
    "        DATE_DIED_NULL_RENAME\n",
    "    FROM \n",
    "    (\n",
    "        SELECT \n",
    "            CASE\n",
    "                WHEN DATE_DIED_MM IS NULL THEN '13'\n",
    "                ELSE CAST(DATE_DIED_MM AS STRING)\n",
    "            END AS DATE_DIED_NULL_RENAME\n",
    "        FROM\n",
    "            TEMP_DATA_TRANS\n",
    "    )\n",
    "    GROUP BY DATE_DIED_NULL_RENAME \n",
    "''').show(25)\n"
   ],
   "metadata": {
    "collapsed": false,
    "ExecuteTime": {
     "start_time": "2024-02-05T13:44:08.256714600Z"
    }
   },
   "id": "b1142c4d2359802d",
   "execution_count": null
  },
  {
   "cell_type": "code",
   "outputs": [
    {
     "name": "stdout",
     "output_type": "stream",
     "text": [
      "+----------------------------+---------------------+\n",
      "|count(DATE_DIED_NULL_RENAME)|DATE_DIED_NULL_RENAME|\n",
      "+----------------------------+---------------------+\n",
      "|                          23|                   12|\n",
      "|                         399|                    1|\n",
      "|                      971633|                   13|\n",
      "|                       25278|                    6|\n",
      "|                         584|                    3|\n",
      "|                       21363|                    5|\n",
      "|                          91|                    9|\n",
      "|                        7096|                    4|\n",
      "|                        1134|                    8|\n",
      "|                       20457|                    7|\n",
      "|                          27|                   10|\n",
      "|                          18|                   11|\n",
      "|                         472|                    2|\n",
      "+----------------------------+---------------------+\n"
     ]
    }
   ],
   "source": [
    "# SQL Select query\n",
    "spark.sql('''\n",
    "    -- Corrected the comparison operator from '==' to '='\n",
    "    WITH TEMP_DATA AS (\n",
    "        SELECT \n",
    "            CASE \n",
    "                WHEN DATE_DIED == '9999-99-99' THEN NULL  \n",
    "                ELSE DATE_DIED \n",
    "            END AS DATE_DIED_UPD\n",
    "        FROM DATA\n",
    "    ),\n",
    "    TEMP_DATA_TRANS AS ( \n",
    "        SELECT  \n",
    "            MONTH(TO_DATE(DATE_DIED_UPD, 'dd/MM/yyyy')) AS DATE_DIED_MM\n",
    "        FROM\n",
    "            TEMP_DATA\n",
    "    )\n",
    "    SELECT  \n",
    "        COUNT(DATE_DIED_NULL_RENAME),\n",
    "        DATE_DIED_NULL_RENAME\n",
    "    FROM \n",
    "    (\n",
    "        SELECT \n",
    "            CASE\n",
    "                WHEN DATE_DIED_MM IS NULL THEN 13\n",
    "                ELSE DATE_DIED_MM\n",
    "            END AS DATE_DIED_NULL_RENAME\n",
    "        FROM\n",
    "            TEMP_DATA_TRANS\n",
    "    )\n",
    "    GROUP BY DATE_DIED_NULL_RENAME \n",
    "''').show(25)\n"
   ],
   "metadata": {
    "collapsed": false,
    "ExecuteTime": {
     "end_time": "2024-02-05T13:45:18.765149300Z",
     "start_time": "2024-02-05T13:45:17.758998600Z"
    }
   },
   "id": "c7b06c24227f8589",
   "execution_count": 12
  },
  {
   "cell_type": "code",
   "outputs": [],
   "source": [],
   "metadata": {
    "collapsed": false
   },
   "id": "2a4bd9c3e2cfa237"
  }
 ],
 "metadata": {
  "kernelspec": {
   "display_name": "Python 3",
   "language": "python",
   "name": "python3"
  },
  "language_info": {
   "codemirror_mode": {
    "name": "ipython",
    "version": 2
   },
   "file_extension": ".py",
   "mimetype": "text/x-python",
   "name": "python",
   "nbconvert_exporter": "python",
   "pygments_lexer": "ipython2",
   "version": "2.7.6"
  }
 },
 "nbformat": 4,
 "nbformat_minor": 5
}
