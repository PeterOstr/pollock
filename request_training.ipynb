{
 "cells": [
  {
   "cell_type": "code",
   "execution_count": 74,
   "id": "initial_id",
   "metadata": {
    "collapsed": true,
    "ExecuteTime": {
     "end_time": "2024-01-14T13:49:38.420336100Z",
     "start_time": "2024-01-14T13:49:38.400320100Z"
    }
   },
   "outputs": [],
   "source": [
    "import pandas as pd\n",
    "import joblib\n",
    "import json\n",
    "from io import StringIO\n",
    "\n",
    "import mlflow\n",
    "import matplotlib.pyplot as plt\n",
    "from mlflow import MlflowClient\n",
    "import requests"
   ]
  },
  {
   "cell_type": "code",
   "execution_count": 48,
   "outputs": [],
   "source": [
    "# mlflow.set_tracking_uri(uri='http://127.0.0.1:5000')\n",
    "mlflow.set_tracking_uri(uri='http://127.0.0.1:8000')\n",
    "client = MlflowClient()\n",
    "local_dir = ('C:/Users/Peter/DataspellProjects/pollock/')"
   ],
   "metadata": {
    "collapsed": false,
    "ExecuteTime": {
     "end_time": "2024-01-14T13:12:39.244683500Z",
     "start_time": "2024-01-14T13:12:39.234690600Z"
    }
   },
   "id": "1f7d0c82f0244730"
  },
  {
   "cell_type": "code",
   "execution_count": 64,
   "outputs": [
    {
     "data": {
      "text/plain": "         USMER  MEDICAL_UNIT  SEX  PATIENT_TYPE DATE_DIED  INTUBED  PNEUMONIA  \\\n1048570      2            13    2             1         0       97          2   \n1048571      1            13    2             2         0        2          2   \n1048572      2            13    2             1         0       97          2   \n1048573      2            13    2             1         0       97          2   \n1048574      2            13    2             1         0       97          2   \n\n         AGE  PREGNANT  DIABETES  ...  ASTHMA  INMSUPR  HIPERTENSION  \\\n1048570   40        97         2  ...       2        2             2   \n1048571   51        97         2  ...       2        2             1   \n1048572   55        97         2  ...       2        2             2   \n1048573   28        97         2  ...       2        2             2   \n1048574   52        97         2  ...       2        2             2   \n\n         OTHER_DISEASE  CARDIOVASCULAR  OBESITY  RENAL_CHRONIC  TOBACCO  \\\n1048570              2               2        2              2        2   \n1048571              2               2        2              2        2   \n1048572              2               2        2              2        2   \n1048573              2               2        2              2        2   \n1048574              2               2        2              2        2   \n\n         CLASIFFICATION_FINAL  ICU  \n1048570                     7   97  \n1048571                     7    2  \n1048572                     7   97  \n1048573                     7   97  \n1048574                     7   97  \n\n[5 rows x 21 columns]",
      "text/html": "<div>\n<style scoped>\n    .dataframe tbody tr th:only-of-type {\n        vertical-align: middle;\n    }\n\n    .dataframe tbody tr th {\n        vertical-align: top;\n    }\n\n    .dataframe thead th {\n        text-align: right;\n    }\n</style>\n<table border=\"1\" class=\"dataframe\">\n  <thead>\n    <tr style=\"text-align: right;\">\n      <th></th>\n      <th>USMER</th>\n      <th>MEDICAL_UNIT</th>\n      <th>SEX</th>\n      <th>PATIENT_TYPE</th>\n      <th>DATE_DIED</th>\n      <th>INTUBED</th>\n      <th>PNEUMONIA</th>\n      <th>AGE</th>\n      <th>PREGNANT</th>\n      <th>DIABETES</th>\n      <th>...</th>\n      <th>ASTHMA</th>\n      <th>INMSUPR</th>\n      <th>HIPERTENSION</th>\n      <th>OTHER_DISEASE</th>\n      <th>CARDIOVASCULAR</th>\n      <th>OBESITY</th>\n      <th>RENAL_CHRONIC</th>\n      <th>TOBACCO</th>\n      <th>CLASIFFICATION_FINAL</th>\n      <th>ICU</th>\n    </tr>\n  </thead>\n  <tbody>\n    <tr>\n      <th>1048570</th>\n      <td>2</td>\n      <td>13</td>\n      <td>2</td>\n      <td>1</td>\n      <td>0</td>\n      <td>97</td>\n      <td>2</td>\n      <td>40</td>\n      <td>97</td>\n      <td>2</td>\n      <td>...</td>\n      <td>2</td>\n      <td>2</td>\n      <td>2</td>\n      <td>2</td>\n      <td>2</td>\n      <td>2</td>\n      <td>2</td>\n      <td>2</td>\n      <td>7</td>\n      <td>97</td>\n    </tr>\n    <tr>\n      <th>1048571</th>\n      <td>1</td>\n      <td>13</td>\n      <td>2</td>\n      <td>2</td>\n      <td>0</td>\n      <td>2</td>\n      <td>2</td>\n      <td>51</td>\n      <td>97</td>\n      <td>2</td>\n      <td>...</td>\n      <td>2</td>\n      <td>2</td>\n      <td>1</td>\n      <td>2</td>\n      <td>2</td>\n      <td>2</td>\n      <td>2</td>\n      <td>2</td>\n      <td>7</td>\n      <td>2</td>\n    </tr>\n    <tr>\n      <th>1048572</th>\n      <td>2</td>\n      <td>13</td>\n      <td>2</td>\n      <td>1</td>\n      <td>0</td>\n      <td>97</td>\n      <td>2</td>\n      <td>55</td>\n      <td>97</td>\n      <td>2</td>\n      <td>...</td>\n      <td>2</td>\n      <td>2</td>\n      <td>2</td>\n      <td>2</td>\n      <td>2</td>\n      <td>2</td>\n      <td>2</td>\n      <td>2</td>\n      <td>7</td>\n      <td>97</td>\n    </tr>\n    <tr>\n      <th>1048573</th>\n      <td>2</td>\n      <td>13</td>\n      <td>2</td>\n      <td>1</td>\n      <td>0</td>\n      <td>97</td>\n      <td>2</td>\n      <td>28</td>\n      <td>97</td>\n      <td>2</td>\n      <td>...</td>\n      <td>2</td>\n      <td>2</td>\n      <td>2</td>\n      <td>2</td>\n      <td>2</td>\n      <td>2</td>\n      <td>2</td>\n      <td>2</td>\n      <td>7</td>\n      <td>97</td>\n    </tr>\n    <tr>\n      <th>1048574</th>\n      <td>2</td>\n      <td>13</td>\n      <td>2</td>\n      <td>1</td>\n      <td>0</td>\n      <td>97</td>\n      <td>2</td>\n      <td>52</td>\n      <td>97</td>\n      <td>2</td>\n      <td>...</td>\n      <td>2</td>\n      <td>2</td>\n      <td>2</td>\n      <td>2</td>\n      <td>2</td>\n      <td>2</td>\n      <td>2</td>\n      <td>2</td>\n      <td>7</td>\n      <td>97</td>\n    </tr>\n  </tbody>\n</table>\n<p>5 rows × 21 columns</p>\n</div>"
     },
     "execution_count": 64,
     "metadata": {},
     "output_type": "execute_result"
    }
   ],
   "source": [
    "data = pd.read_csv('data/original/Covid_data_full.csv')\n",
    "# we use only part of data which was not used in training and validation\n",
    "# data = data.iloc[900000:]\n",
    "data = data.iloc[1048570:]\n",
    "\n",
    "\n",
    "# let's make this classification task\n",
    "\n",
    "data.loc[~data['DATE_DIED'].isin(['9999-99-99']), 'DATE_DIED'] = 1 #checks if the  column is not in the list ['9999-99-99'].\n",
    "data.loc[data['DATE_DIED'] == '9999-99-99', 'DATE_DIED'] = 0\n",
    "\n",
    "\n",
    "data"
   ],
   "metadata": {
    "collapsed": false,
    "ExecuteTime": {
     "end_time": "2024-01-14T13:30:58.080192500Z",
     "start_time": "2024-01-14T13:30:56.370270500Z"
    }
   },
   "id": "f9962b548449dc7"
  },
  {
   "cell_type": "code",
   "execution_count": 65,
   "outputs": [],
   "source": [
    "X = data.drop('DATE_DIED',axis=1)\n",
    "y = data['DATE_DIED']"
   ],
   "metadata": {
    "collapsed": false,
    "ExecuteTime": {
     "end_time": "2024-01-14T13:30:58.091279400Z",
     "start_time": "2024-01-14T13:30:58.076145800Z"
    }
   },
   "id": "440c6ffa291718fc"
  },
  {
   "cell_type": "markdown",
   "source": [
    "##### 1. XGBoost"
   ],
   "metadata": {
    "collapsed": false
   },
   "id": "58ce495e54b42924"
  },
  {
   "cell_type": "code",
   "execution_count": 66,
   "outputs": [
    {
     "name": "stdout",
     "output_type": "stream",
     "text": [
      "<Response [200]>\n",
      "\"{\\\"index\\\":{\\\"0\\\":0,\\\"1\\\":1,\\\"2\\\":2,\\\"3\\\":3,\\\"4\\\":4},\\\"0\\\":{\\\"0\\\":0,\\\"1\\\":0,\\\"2\\\":0,\\\"3\\\":0,\\\"4\\\":0}}\"\n"
     ]
    }
   ],
   "source": [
    "\n",
    "\n",
    "X_dict = X.reset_index().to_dict(orient='list')\n",
    "\n",
    "predicted_data_response_xgb = requests.post('http://127.0.0.1:8000/model/predict_xgb',  json=X_dict) # local address\n",
    "# predicted_data_response = requests.post('https://first-try-6o4cxe37ma-uc.a.run.app/model/predict',  json=X_test_dict) # docker addsess\n",
    "\n",
    "\n",
    "print(predicted_data_response_xgb)\n",
    "print(predicted_data_response_xgb.text)"
   ],
   "metadata": {
    "collapsed": false,
    "ExecuteTime": {
     "end_time": "2024-01-14T13:30:58.190245200Z",
     "start_time": "2024-01-14T13:30:58.087245200Z"
    }
   },
   "id": "78d02f8debf94fce"
  },
  {
   "cell_type": "code",
   "execution_count": 66,
   "outputs": [],
   "source": [],
   "metadata": {
    "collapsed": false,
    "ExecuteTime": {
     "end_time": "2024-01-14T13:30:58.220246400Z",
     "start_time": "2024-01-14T13:30:58.135243800Z"
    }
   },
   "id": "bbae3e87890b83d9"
  },
  {
   "cell_type": "code",
   "execution_count": 67,
   "outputs": [
    {
     "data": {
      "text/plain": "'{\"index\":{\"0\":0,\"1\":1,\"2\":2,\"3\":3,\"4\":4},\"0\":{\"0\":0,\"1\":0,\"2\":0,\"3\":0,\"4\":0}}'"
     },
     "execution_count": 67,
     "metadata": {},
     "output_type": "execute_result"
    }
   ],
   "source": [
    "predicted_data_response_xgb.json()"
   ],
   "metadata": {
    "collapsed": false,
    "ExecuteTime": {
     "end_time": "2024-01-14T13:30:58.222249100Z",
     "start_time": "2024-01-14T13:30:58.149245200Z"
    }
   },
   "id": "2154e6a2014fb339"
  },
  {
   "cell_type": "code",
   "execution_count": 81,
   "outputs": [
    {
     "data": {
      "text/plain": "       0\nindex   \n0      0\n1      0\n2      0\n3      0\n4      0",
      "text/html": "<div>\n<style scoped>\n    .dataframe tbody tr th:only-of-type {\n        vertical-align: middle;\n    }\n\n    .dataframe tbody tr th {\n        vertical-align: top;\n    }\n\n    .dataframe thead th {\n        text-align: right;\n    }\n</style>\n<table border=\"1\" class=\"dataframe\">\n  <thead>\n    <tr style=\"text-align: right;\">\n      <th></th>\n      <th>0</th>\n    </tr>\n    <tr>\n      <th>index</th>\n      <th></th>\n    </tr>\n  </thead>\n  <tbody>\n    <tr>\n      <th>0</th>\n      <td>0</td>\n    </tr>\n    <tr>\n      <th>1</th>\n      <td>0</td>\n    </tr>\n    <tr>\n      <th>2</th>\n      <td>0</td>\n    </tr>\n    <tr>\n      <th>3</th>\n      <td>0</td>\n    </tr>\n    <tr>\n      <th>4</th>\n      <td>0</td>\n    </tr>\n  </tbody>\n</table>\n</div>"
     },
     "execution_count": 81,
     "metadata": {},
     "output_type": "execute_result"
    }
   ],
   "source": [
    "predicted_results = pd.read_json(StringIO(predicted_data_response_xgb.json())).set_index('index')\n",
    "predicted_results"
   ],
   "metadata": {
    "collapsed": false,
    "ExecuteTime": {
     "end_time": "2024-01-14T16:34:36.367535700Z",
     "start_time": "2024-01-14T16:34:36.352260500Z"
    }
   },
   "id": "f899d45d2347a432"
  },
  {
   "cell_type": "markdown",
   "source": [
    "##### 2. Catboost"
   ],
   "metadata": {
    "collapsed": false
   },
   "id": "38d6582d9954b5ce"
  },
  {
   "cell_type": "code",
   "execution_count": 80,
   "outputs": [
    {
     "data": {
      "text/plain": "       0\nindex   \n0      0\n1      0\n2      0\n3      0\n4      0",
      "text/html": "<div>\n<style scoped>\n    .dataframe tbody tr th:only-of-type {\n        vertical-align: middle;\n    }\n\n    .dataframe tbody tr th {\n        vertical-align: top;\n    }\n\n    .dataframe thead th {\n        text-align: right;\n    }\n</style>\n<table border=\"1\" class=\"dataframe\">\n  <thead>\n    <tr style=\"text-align: right;\">\n      <th></th>\n      <th>0</th>\n    </tr>\n    <tr>\n      <th>index</th>\n      <th></th>\n    </tr>\n  </thead>\n  <tbody>\n    <tr>\n      <th>0</th>\n      <td>0</td>\n    </tr>\n    <tr>\n      <th>1</th>\n      <td>0</td>\n    </tr>\n    <tr>\n      <th>2</th>\n      <td>0</td>\n    </tr>\n    <tr>\n      <th>3</th>\n      <td>0</td>\n    </tr>\n    <tr>\n      <th>4</th>\n      <td>0</td>\n    </tr>\n  </tbody>\n</table>\n</div>"
     },
     "execution_count": 80,
     "metadata": {},
     "output_type": "execute_result"
    }
   ],
   "source": [
    "predicted_data_response_catb = requests.post('http://127.0.0.1:8000/model/predict_catb',  json=X_dict) # local address\n",
    "predicted_results_catb = pd.read_json(StringIO(predicted_data_response_catb.json())).set_index('index')\n",
    "predicted_results_catb"
   ],
   "metadata": {
    "collapsed": false,
    "ExecuteTime": {
     "end_time": "2024-01-14T16:34:25.578773Z",
     "start_time": "2024-01-14T16:34:25.535775400Z"
    }
   },
   "id": "c8480523ff00a072"
  },
  {
   "cell_type": "markdown",
   "source": [
    "##### 3. LightGBM"
   ],
   "metadata": {
    "collapsed": false
   },
   "id": "5d64ebd36f7e74cd"
  },
  {
   "cell_type": "code",
   "execution_count": 79,
   "outputs": [
    {
     "data": {
      "text/plain": "       0\nindex   \n0      0\n1      0\n2      0\n3      0\n4      0",
      "text/html": "<div>\n<style scoped>\n    .dataframe tbody tr th:only-of-type {\n        vertical-align: middle;\n    }\n\n    .dataframe tbody tr th {\n        vertical-align: top;\n    }\n\n    .dataframe thead th {\n        text-align: right;\n    }\n</style>\n<table border=\"1\" class=\"dataframe\">\n  <thead>\n    <tr style=\"text-align: right;\">\n      <th></th>\n      <th>0</th>\n    </tr>\n    <tr>\n      <th>index</th>\n      <th></th>\n    </tr>\n  </thead>\n  <tbody>\n    <tr>\n      <th>0</th>\n      <td>0</td>\n    </tr>\n    <tr>\n      <th>1</th>\n      <td>0</td>\n    </tr>\n    <tr>\n      <th>2</th>\n      <td>0</td>\n    </tr>\n    <tr>\n      <th>3</th>\n      <td>0</td>\n    </tr>\n    <tr>\n      <th>4</th>\n      <td>0</td>\n    </tr>\n  </tbody>\n</table>\n</div>"
     },
     "execution_count": 79,
     "metadata": {},
     "output_type": "execute_result"
    }
   ],
   "source": [
    "predicted_data_response_lgbm = requests.post('http://127.0.0.1:8000/model/predict_lgbm',  json=X_dict) # local address\n",
    "predicted_results_lgbm = pd.read_json(StringIO(predicted_data_response_lgbm.json())).set_index('index')\n",
    "predicted_results_lgbm"
   ],
   "metadata": {
    "collapsed": false,
    "ExecuteTime": {
     "end_time": "2024-01-14T16:34:13.167788200Z",
     "start_time": "2024-01-14T16:34:13.114790Z"
    }
   },
   "id": "95593d4314149f7a"
  },
  {
   "cell_type": "markdown",
   "source": [
    "##### 4. KNN"
   ],
   "metadata": {
    "collapsed": false
   },
   "id": "f2633a0b97363d0f"
  },
  {
   "cell_type": "code",
   "execution_count": 78,
   "outputs": [
    {
     "data": {
      "text/plain": "       0\nindex   \n0      0\n1      0\n2      0\n3      0\n4      0",
      "text/html": "<div>\n<style scoped>\n    .dataframe tbody tr th:only-of-type {\n        vertical-align: middle;\n    }\n\n    .dataframe tbody tr th {\n        vertical-align: top;\n    }\n\n    .dataframe thead th {\n        text-align: right;\n    }\n</style>\n<table border=\"1\" class=\"dataframe\">\n  <thead>\n    <tr style=\"text-align: right;\">\n      <th></th>\n      <th>0</th>\n    </tr>\n    <tr>\n      <th>index</th>\n      <th></th>\n    </tr>\n  </thead>\n  <tbody>\n    <tr>\n      <th>0</th>\n      <td>0</td>\n    </tr>\n    <tr>\n      <th>1</th>\n      <td>0</td>\n    </tr>\n    <tr>\n      <th>2</th>\n      <td>0</td>\n    </tr>\n    <tr>\n      <th>3</th>\n      <td>0</td>\n    </tr>\n    <tr>\n      <th>4</th>\n      <td>0</td>\n    </tr>\n  </tbody>\n</table>\n</div>"
     },
     "execution_count": 78,
     "metadata": {},
     "output_type": "execute_result"
    }
   ],
   "source": [
    "predicted_data_response_knn = requests.post('http://127.0.0.1:8000/model/predict_knn',  json=X_dict) # local address\n",
    "predicted_results_knn = pd.read_json(StringIO(predicted_data_response_knn.json())).set_index('index')\n",
    "predicted_results_knn"
   ],
   "metadata": {
    "collapsed": false,
    "ExecuteTime": {
     "end_time": "2024-01-14T16:33:45.131986700Z",
     "start_time": "2024-01-14T16:33:45.031989500Z"
    }
   },
   "id": "31f352c19bf81161"
  },
  {
   "cell_type": "markdown",
   "source": [
    "##### 5. Logreg"
   ],
   "metadata": {
    "collapsed": false
   },
   "id": "36de0b809ae1a74f"
  },
  {
   "cell_type": "code",
   "execution_count": 82,
   "outputs": [
    {
     "data": {
      "text/plain": "       0\nindex   \n0      0\n1      0\n2      0\n3      0\n4      0",
      "text/html": "<div>\n<style scoped>\n    .dataframe tbody tr th:only-of-type {\n        vertical-align: middle;\n    }\n\n    .dataframe tbody tr th {\n        vertical-align: top;\n    }\n\n    .dataframe thead th {\n        text-align: right;\n    }\n</style>\n<table border=\"1\" class=\"dataframe\">\n  <thead>\n    <tr style=\"text-align: right;\">\n      <th></th>\n      <th>0</th>\n    </tr>\n    <tr>\n      <th>index</th>\n      <th></th>\n    </tr>\n  </thead>\n  <tbody>\n    <tr>\n      <th>0</th>\n      <td>0</td>\n    </tr>\n    <tr>\n      <th>1</th>\n      <td>0</td>\n    </tr>\n    <tr>\n      <th>2</th>\n      <td>0</td>\n    </tr>\n    <tr>\n      <th>3</th>\n      <td>0</td>\n    </tr>\n    <tr>\n      <th>4</th>\n      <td>0</td>\n    </tr>\n  </tbody>\n</table>\n</div>"
     },
     "execution_count": 82,
     "metadata": {},
     "output_type": "execute_result"
    }
   ],
   "source": [
    "predicted_data_response_logreg = requests.post('http://127.0.0.1:8000/model/predict_logreg',  json=X_dict) # local address\n",
    "predicted_results_logreg = pd.read_json(StringIO(predicted_data_response_logreg.json())).set_index('index')\n",
    "predicted_results_logreg"
   ],
   "metadata": {
    "collapsed": false,
    "ExecuteTime": {
     "end_time": "2024-01-14T16:34:48.775668200Z",
     "start_time": "2024-01-14T16:34:48.720636600Z"
    }
   },
   "id": "5b57851851927f1a"
  },
  {
   "cell_type": "markdown",
   "source": [
    "##### 6. Naive Bayes\n"
   ],
   "metadata": {
    "collapsed": false
   },
   "id": "859b5a0651b4540d"
  },
  {
   "cell_type": "code",
   "execution_count": 83,
   "outputs": [
    {
     "data": {
      "text/plain": "       0\nindex   \n0      0\n1      0\n2      0\n3      0\n4      0",
      "text/html": "<div>\n<style scoped>\n    .dataframe tbody tr th:only-of-type {\n        vertical-align: middle;\n    }\n\n    .dataframe tbody tr th {\n        vertical-align: top;\n    }\n\n    .dataframe thead th {\n        text-align: right;\n    }\n</style>\n<table border=\"1\" class=\"dataframe\">\n  <thead>\n    <tr style=\"text-align: right;\">\n      <th></th>\n      <th>0</th>\n    </tr>\n    <tr>\n      <th>index</th>\n      <th></th>\n    </tr>\n  </thead>\n  <tbody>\n    <tr>\n      <th>0</th>\n      <td>0</td>\n    </tr>\n    <tr>\n      <th>1</th>\n      <td>0</td>\n    </tr>\n    <tr>\n      <th>2</th>\n      <td>0</td>\n    </tr>\n    <tr>\n      <th>3</th>\n      <td>0</td>\n    </tr>\n    <tr>\n      <th>4</th>\n      <td>0</td>\n    </tr>\n  </tbody>\n</table>\n</div>"
     },
     "execution_count": 83,
     "metadata": {},
     "output_type": "execute_result"
    }
   ],
   "source": [
    "predicted_data_response_nb = requests.post('http://127.0.0.1:8000/model/predict_nb',  json=X_dict) # local address\n",
    "predicted_results_nb = pd.read_json(StringIO(predicted_data_response_nb.json())).set_index('index')\n",
    "predicted_results_nb"
   ],
   "metadata": {
    "collapsed": false,
    "ExecuteTime": {
     "end_time": "2024-01-14T16:35:00.431314600Z",
     "start_time": "2024-01-14T16:35:00.376319Z"
    }
   },
   "id": "eec25b917f3a765f"
  },
  {
   "cell_type": "markdown",
   "source": [
    "##### 7. Ensemble"
   ],
   "metadata": {
    "collapsed": false
   },
   "id": "beb2b8f9708ff880"
  },
  {
   "cell_type": "code",
   "execution_count": 84,
   "outputs": [
    {
     "data": {
      "text/plain": "       0\nindex   \n0      0\n1      0\n2      0\n3      0\n4      0",
      "text/html": "<div>\n<style scoped>\n    .dataframe tbody tr th:only-of-type {\n        vertical-align: middle;\n    }\n\n    .dataframe tbody tr th {\n        vertical-align: top;\n    }\n\n    .dataframe thead th {\n        text-align: right;\n    }\n</style>\n<table border=\"1\" class=\"dataframe\">\n  <thead>\n    <tr style=\"text-align: right;\">\n      <th></th>\n      <th>0</th>\n    </tr>\n    <tr>\n      <th>index</th>\n      <th></th>\n    </tr>\n  </thead>\n  <tbody>\n    <tr>\n      <th>0</th>\n      <td>0</td>\n    </tr>\n    <tr>\n      <th>1</th>\n      <td>0</td>\n    </tr>\n    <tr>\n      <th>2</th>\n      <td>0</td>\n    </tr>\n    <tr>\n      <th>3</th>\n      <td>0</td>\n    </tr>\n    <tr>\n      <th>4</th>\n      <td>0</td>\n    </tr>\n  </tbody>\n</table>\n</div>"
     },
     "execution_count": 84,
     "metadata": {},
     "output_type": "execute_result"
    }
   ],
   "source": [
    "predicted_data_response_ens = requests.post('http://127.0.0.1:8000/model/predict_ens',  json=X_dict) # local address\n",
    "predicted_results_ens = pd.read_json(StringIO(predicted_data_response_ens.json())).set_index('index')\n",
    "predicted_results_ens"
   ],
   "metadata": {
    "collapsed": false,
    "ExecuteTime": {
     "end_time": "2024-01-14T16:35:06.975471900Z",
     "start_time": "2024-01-14T16:35:06.853476400Z"
    }
   },
   "id": "86b6cca94a863d8b"
  },
  {
   "cell_type": "code",
   "execution_count": null,
   "outputs": [],
   "source": [],
   "metadata": {
    "collapsed": false
   },
   "id": "f9d66b18b0ad9feb"
  }
 ],
 "metadata": {
  "kernelspec": {
   "display_name": "Python 3",
   "language": "python",
   "name": "python3"
  },
  "language_info": {
   "codemirror_mode": {
    "name": "ipython",
    "version": 2
   },
   "file_extension": ".py",
   "mimetype": "text/x-python",
   "name": "python",
   "nbconvert_exporter": "python",
   "pygments_lexer": "ipython2",
   "version": "2.7.6"
  }
 },
 "nbformat": 4,
 "nbformat_minor": 5
}
