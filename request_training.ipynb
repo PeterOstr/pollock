{
 "cells": [
  {
   "cell_type": "code",
   "execution_count": 3,
   "id": "initial_id",
   "metadata": {
    "collapsed": true,
    "ExecuteTime": {
     "end_time": "2024-01-17T22:19:51.761475Z",
     "start_time": "2024-01-17T22:19:51.753476200Z"
    }
   },
   "outputs": [],
   "source": [
    "import pandas as pd\n",
    "import joblib\n",
    "import json\n",
    "from io import StringIO\n",
    "from sklearn.model_selection import train_test_split\n",
    "\n",
    "import mlflow\n",
    "import matplotlib.pyplot as plt\n",
    "from mlflow import MlflowClient\n",
    "import requests"
   ]
  },
  {
   "cell_type": "code",
   "execution_count": 47,
   "outputs": [],
   "source": [
    "# mlflow.set_tracking_uri(uri='http://127.0.0.1:5000')\n",
    "mlflow.set_tracking_uri(uri='http://127.0.0.1:8000')\n",
    "client = MlflowClient()\n",
    "local_dir = ('C:/Users/Peter/DataspellProjects/pollock/')"
   ],
   "metadata": {
    "collapsed": false,
    "ExecuteTime": {
     "end_time": "2024-01-18T12:29:19.665640700Z",
     "start_time": "2024-01-18T12:29:19.652641Z"
    }
   },
   "id": "1f7d0c82f0244730"
  },
  {
   "cell_type": "code",
   "execution_count": 64,
   "outputs": [
    {
     "data": {
      "text/plain": "         USMER  MEDICAL_UNIT  SEX  PATIENT_TYPE DATE_DIED  INTUBED  PNEUMONIA  \\\n1047570      1            12    2             1         0       97          2   \n1047571      2            12    2             1         0       97          2   \n1047572      2            12    1             1         0       97          2   \n1047573      2            12    1             1         0       97          2   \n1047574      2            12    2             1         0       97          2   \n...        ...           ...  ...           ...       ...      ...        ...   \n1048570      2            13    2             1         0       97          2   \n1048571      1            13    2             2         0        2          2   \n1048572      2            13    2             1         0       97          2   \n1048573      2            13    2             1         0       97          2   \n1048574      2            13    2             1         0       97          2   \n\n         AGE  PREGNANT  DIABETES  ...  ASTHMA  INMSUPR  HIPERTENSION  \\\n1047570   27        97         2  ...       2        2             2   \n1047571    8        97         2  ...       2        2             2   \n1047572   34         2         2  ...       2        2             2   \n1047573   46         2         2  ...       2        2             2   \n1047574   46        97         2  ...       2        2             2   \n...      ...       ...       ...  ...     ...      ...           ...   \n1048570   40        97         2  ...       2        2             2   \n1048571   51        97         2  ...       2        2             1   \n1048572   55        97         2  ...       2        2             2   \n1048573   28        97         2  ...       2        2             2   \n1048574   52        97         2  ...       2        2             2   \n\n         OTHER_DISEASE  CARDIOVASCULAR  OBESITY  RENAL_CHRONIC  TOBACCO  \\\n1047570              2               2        2              2        2   \n1047571              2               2        2              2        2   \n1047572              2               2        2              2        2   \n1047573              2               2        2              2        2   \n1047574              2               2        2              2        2   \n...                ...             ...      ...            ...      ...   \n1048570              2               2        2              2        2   \n1048571              2               2        2              2        2   \n1048572              2               2        2              2        2   \n1048573              2               2        2              2        2   \n1048574              2               2        2              2        2   \n\n         CLASIFFICATION_FINAL  ICU  \n1047570                     7   97  \n1047571                     7   97  \n1047572                     7   97  \n1047573                     7   97  \n1047574                     7   97  \n...                       ...  ...  \n1048570                     7   97  \n1048571                     7    2  \n1048572                     7   97  \n1048573                     7   97  \n1048574                     7   97  \n\n[1005 rows x 21 columns]",
      "text/html": "<div>\n<style scoped>\n    .dataframe tbody tr th:only-of-type {\n        vertical-align: middle;\n    }\n\n    .dataframe tbody tr th {\n        vertical-align: top;\n    }\n\n    .dataframe thead th {\n        text-align: right;\n    }\n</style>\n<table border=\"1\" class=\"dataframe\">\n  <thead>\n    <tr style=\"text-align: right;\">\n      <th></th>\n      <th>USMER</th>\n      <th>MEDICAL_UNIT</th>\n      <th>SEX</th>\n      <th>PATIENT_TYPE</th>\n      <th>DATE_DIED</th>\n      <th>INTUBED</th>\n      <th>PNEUMONIA</th>\n      <th>AGE</th>\n      <th>PREGNANT</th>\n      <th>DIABETES</th>\n      <th>...</th>\n      <th>ASTHMA</th>\n      <th>INMSUPR</th>\n      <th>HIPERTENSION</th>\n      <th>OTHER_DISEASE</th>\n      <th>CARDIOVASCULAR</th>\n      <th>OBESITY</th>\n      <th>RENAL_CHRONIC</th>\n      <th>TOBACCO</th>\n      <th>CLASIFFICATION_FINAL</th>\n      <th>ICU</th>\n    </tr>\n  </thead>\n  <tbody>\n    <tr>\n      <th>1047570</th>\n      <td>1</td>\n      <td>12</td>\n      <td>2</td>\n      <td>1</td>\n      <td>0</td>\n      <td>97</td>\n      <td>2</td>\n      <td>27</td>\n      <td>97</td>\n      <td>2</td>\n      <td>...</td>\n      <td>2</td>\n      <td>2</td>\n      <td>2</td>\n      <td>2</td>\n      <td>2</td>\n      <td>2</td>\n      <td>2</td>\n      <td>2</td>\n      <td>7</td>\n      <td>97</td>\n    </tr>\n    <tr>\n      <th>1047571</th>\n      <td>2</td>\n      <td>12</td>\n      <td>2</td>\n      <td>1</td>\n      <td>0</td>\n      <td>97</td>\n      <td>2</td>\n      <td>8</td>\n      <td>97</td>\n      <td>2</td>\n      <td>...</td>\n      <td>2</td>\n      <td>2</td>\n      <td>2</td>\n      <td>2</td>\n      <td>2</td>\n      <td>2</td>\n      <td>2</td>\n      <td>2</td>\n      <td>7</td>\n      <td>97</td>\n    </tr>\n    <tr>\n      <th>1047572</th>\n      <td>2</td>\n      <td>12</td>\n      <td>1</td>\n      <td>1</td>\n      <td>0</td>\n      <td>97</td>\n      <td>2</td>\n      <td>34</td>\n      <td>2</td>\n      <td>2</td>\n      <td>...</td>\n      <td>2</td>\n      <td>2</td>\n      <td>2</td>\n      <td>2</td>\n      <td>2</td>\n      <td>2</td>\n      <td>2</td>\n      <td>2</td>\n      <td>7</td>\n      <td>97</td>\n    </tr>\n    <tr>\n      <th>1047573</th>\n      <td>2</td>\n      <td>12</td>\n      <td>1</td>\n      <td>1</td>\n      <td>0</td>\n      <td>97</td>\n      <td>2</td>\n      <td>46</td>\n      <td>2</td>\n      <td>2</td>\n      <td>...</td>\n      <td>2</td>\n      <td>2</td>\n      <td>2</td>\n      <td>2</td>\n      <td>2</td>\n      <td>2</td>\n      <td>2</td>\n      <td>2</td>\n      <td>7</td>\n      <td>97</td>\n    </tr>\n    <tr>\n      <th>1047574</th>\n      <td>2</td>\n      <td>12</td>\n      <td>2</td>\n      <td>1</td>\n      <td>0</td>\n      <td>97</td>\n      <td>2</td>\n      <td>46</td>\n      <td>97</td>\n      <td>2</td>\n      <td>...</td>\n      <td>2</td>\n      <td>2</td>\n      <td>2</td>\n      <td>2</td>\n      <td>2</td>\n      <td>2</td>\n      <td>2</td>\n      <td>2</td>\n      <td>7</td>\n      <td>97</td>\n    </tr>\n    <tr>\n      <th>...</th>\n      <td>...</td>\n      <td>...</td>\n      <td>...</td>\n      <td>...</td>\n      <td>...</td>\n      <td>...</td>\n      <td>...</td>\n      <td>...</td>\n      <td>...</td>\n      <td>...</td>\n      <td>...</td>\n      <td>...</td>\n      <td>...</td>\n      <td>...</td>\n      <td>...</td>\n      <td>...</td>\n      <td>...</td>\n      <td>...</td>\n      <td>...</td>\n      <td>...</td>\n      <td>...</td>\n    </tr>\n    <tr>\n      <th>1048570</th>\n      <td>2</td>\n      <td>13</td>\n      <td>2</td>\n      <td>1</td>\n      <td>0</td>\n      <td>97</td>\n      <td>2</td>\n      <td>40</td>\n      <td>97</td>\n      <td>2</td>\n      <td>...</td>\n      <td>2</td>\n      <td>2</td>\n      <td>2</td>\n      <td>2</td>\n      <td>2</td>\n      <td>2</td>\n      <td>2</td>\n      <td>2</td>\n      <td>7</td>\n      <td>97</td>\n    </tr>\n    <tr>\n      <th>1048571</th>\n      <td>1</td>\n      <td>13</td>\n      <td>2</td>\n      <td>2</td>\n      <td>0</td>\n      <td>2</td>\n      <td>2</td>\n      <td>51</td>\n      <td>97</td>\n      <td>2</td>\n      <td>...</td>\n      <td>2</td>\n      <td>2</td>\n      <td>1</td>\n      <td>2</td>\n      <td>2</td>\n      <td>2</td>\n      <td>2</td>\n      <td>2</td>\n      <td>7</td>\n      <td>2</td>\n    </tr>\n    <tr>\n      <th>1048572</th>\n      <td>2</td>\n      <td>13</td>\n      <td>2</td>\n      <td>1</td>\n      <td>0</td>\n      <td>97</td>\n      <td>2</td>\n      <td>55</td>\n      <td>97</td>\n      <td>2</td>\n      <td>...</td>\n      <td>2</td>\n      <td>2</td>\n      <td>2</td>\n      <td>2</td>\n      <td>2</td>\n      <td>2</td>\n      <td>2</td>\n      <td>2</td>\n      <td>7</td>\n      <td>97</td>\n    </tr>\n    <tr>\n      <th>1048573</th>\n      <td>2</td>\n      <td>13</td>\n      <td>2</td>\n      <td>1</td>\n      <td>0</td>\n      <td>97</td>\n      <td>2</td>\n      <td>28</td>\n      <td>97</td>\n      <td>2</td>\n      <td>...</td>\n      <td>2</td>\n      <td>2</td>\n      <td>2</td>\n      <td>2</td>\n      <td>2</td>\n      <td>2</td>\n      <td>2</td>\n      <td>2</td>\n      <td>7</td>\n      <td>97</td>\n    </tr>\n    <tr>\n      <th>1048574</th>\n      <td>2</td>\n      <td>13</td>\n      <td>2</td>\n      <td>1</td>\n      <td>0</td>\n      <td>97</td>\n      <td>2</td>\n      <td>52</td>\n      <td>97</td>\n      <td>2</td>\n      <td>...</td>\n      <td>2</td>\n      <td>2</td>\n      <td>2</td>\n      <td>2</td>\n      <td>2</td>\n      <td>2</td>\n      <td>2</td>\n      <td>2</td>\n      <td>7</td>\n      <td>97</td>\n    </tr>\n  </tbody>\n</table>\n<p>1005 rows × 21 columns</p>\n</div>"
     },
     "execution_count": 64,
     "metadata": {},
     "output_type": "execute_result"
    }
   ],
   "source": [
    "data = pd.read_csv('data/original/Covid_data_full.csv')\n",
    "# we use only part of data which was not used in training and validation\n",
    "# data = data.iloc[900000:]\n",
    "data = data.iloc[1047570:]\n",
    "\n",
    "\n",
    "\n",
    "\n",
    "# let's make this classification task\n",
    "\n",
    "data.loc[~data['DATE_DIED'].isin(['9999-99-99']), 'DATE_DIED'] = 1 #checks if the  column is not in the list ['9999-99-99'].\n",
    "data.loc[data['DATE_DIED'] == '9999-99-99', 'DATE_DIED'] = 0\n",
    "\n",
    "\n",
    "data"
   ],
   "metadata": {
    "collapsed": false,
    "ExecuteTime": {
     "end_time": "2024-01-18T13:52:51.666310Z",
     "start_time": "2024-01-18T13:52:50.642210600Z"
    }
   },
   "id": "f9962b548449dc7"
  },
  {
   "cell_type": "code",
   "execution_count": 65,
   "outputs": [],
   "source": [
    "# X_request = data.drop('DATE_DIED',axis=1)\n",
    "# y_request = data['DATE_DIED']"
   ],
   "metadata": {
    "collapsed": false,
    "ExecuteTime": {
     "end_time": "2024-01-18T13:54:09.727382400Z",
     "start_time": "2024-01-18T13:54:09.689323400Z"
    }
   },
   "id": "440c6ffa291718fc"
  },
  {
   "cell_type": "code",
   "outputs": [],
   "source": [
    "# X_request.to_csv('X_request.csv',index=False)\n",
    "# y_request.to_csv('y_request.csv',index=False)"
   ],
   "metadata": {
    "collapsed": false,
    "ExecuteTime": {
     "end_time": "2024-01-18T13:54:51.447673900Z",
     "start_time": "2024-01-18T13:54:51.415675100Z"
    }
   },
   "id": "e8162eba7fa27679",
   "execution_count": 67
  },
  {
   "cell_type": "code",
   "outputs": [],
   "source": [
    "# #temp\n",
    "model = joblib.load('model_knn.joblib')\n",
    "y_pred = pd.DataFrame(model.predict(X))\n",
    "y_pred.to_csv('y_pred_knn.csv', index=False)"
   ],
   "metadata": {
    "collapsed": false,
    "ExecuteTime": {
     "end_time": "2024-01-19T00:25:43.923265200Z",
     "start_time": "2024-01-18T23:57:58.076338600Z"
    }
   },
   "id": "6a1eb2d4ea4e0c00",
   "execution_count": 68
  },
  {
   "cell_type": "markdown",
   "source": [
    "##### 1. XGBoost"
   ],
   "metadata": {
    "collapsed": false
   },
   "id": "58ce495e54b42924"
  },
  {
   "cell_type": "code",
   "execution_count": 50,
   "outputs": [
    {
     "name": "stderr",
     "output_type": "stream",
     "text": [
      "IOPub data rate exceeded.\n",
      "The Jupyter server will temporarily stop sending output\n",
      "to the client in order to avoid crashing it.\n",
      "To change this limit, set the config variable\n",
      "`--ServerApp.iopub_data_rate_limit`.\n",
      "\n",
      "Current values:\n",
      "ServerApp.iopub_data_rate_limit=1000000.0 (bytes/sec)\n",
      "ServerApp.rate_limit_window=3.0 (secs)\n",
      "\n"
     ]
    }
   ],
   "source": [
    "\n",
    "\n",
    "X_dict = X.reset_index().to_dict(orient='list')\n",
    "\n",
    "predicted_data_response_xgb = requests.post('http://127.0.0.1:8000/model/predict_xgb',  json=X_dict) # local address\n",
    "# predicted_data_response = requests.post('https://first-try-6o4cxe37ma-uc.a.run.app/model/predict',  json=X_test_dict) # docker addsess\n",
    "\n",
    "print(predicted_data_response_xgb)\n",
    "print(predicted_data_response_xgb.text)"
   ],
   "metadata": {
    "collapsed": false,
    "ExecuteTime": {
     "end_time": "2024-01-18T12:31:04.769701400Z",
     "start_time": "2024-01-18T12:31:01.111078800Z"
    }
   },
   "id": "78d02f8debf94fce"
  },
  {
   "cell_type": "code",
   "execution_count": null,
   "outputs": [],
   "source": [],
   "metadata": {
    "collapsed": false,
    "ExecuteTime": {
     "start_time": "2024-01-17T22:19:56.166756200Z"
    }
   },
   "id": "bbae3e87890b83d9"
  },
  {
   "cell_type": "code",
   "execution_count": null,
   "outputs": [],
   "source": [
    "predicted_data_response_xgb.json()"
   ],
   "metadata": {
    "collapsed": false,
    "ExecuteTime": {
     "start_time": "2024-01-17T22:19:56.170756200Z"
    }
   },
   "id": "2154e6a2014fb339"
  },
  {
   "cell_type": "code",
   "execution_count": null,
   "outputs": [],
   "source": [
    "predicted_results = pd.read_json(StringIO(predicted_data_response_xgb.json())).set_index('index')\n",
    "predicted_results"
   ],
   "metadata": {
    "collapsed": false,
    "ExecuteTime": {
     "start_time": "2024-01-17T22:19:56.174756100Z"
    }
   },
   "id": "f899d45d2347a432"
  },
  {
   "cell_type": "markdown",
   "source": [
    "##### 2. Catboost"
   ],
   "metadata": {
    "collapsed": false
   },
   "id": "38d6582d9954b5ce"
  },
  {
   "cell_type": "code",
   "execution_count": null,
   "outputs": [],
   "source": [
    "predicted_data_response_catb = requests.post('http://127.0.0.1:8000/model/predict_catb',  json=X_dict) # local address\n",
    "predicted_results_catb = pd.read_json(StringIO(predicted_data_response_catb.json())).set_index('index')\n",
    "predicted_results_catb"
   ],
   "metadata": {
    "collapsed": false,
    "ExecuteTime": {
     "start_time": "2024-01-17T22:19:56.177309700Z"
    }
   },
   "id": "c8480523ff00a072"
  },
  {
   "cell_type": "markdown",
   "source": [
    "##### 3. LightGBM"
   ],
   "metadata": {
    "collapsed": false
   },
   "id": "5d64ebd36f7e74cd"
  },
  {
   "cell_type": "code",
   "execution_count": null,
   "outputs": [],
   "source": [
    "predicted_data_response_lgbm = requests.post('http://127.0.0.1:8000/model/predict_lgbm',  json=X_dict) # local address\n",
    "predicted_results_lgbm = pd.read_json(StringIO(predicted_data_response_lgbm.json())).set_index('index')\n",
    "predicted_results_lgbm"
   ],
   "metadata": {
    "collapsed": false,
    "ExecuteTime": {
     "start_time": "2024-01-17T22:19:56.179317700Z"
    }
   },
   "id": "95593d4314149f7a"
  },
  {
   "cell_type": "markdown",
   "source": [
    "##### 4. KNN"
   ],
   "metadata": {
    "collapsed": false
   },
   "id": "f2633a0b97363d0f"
  },
  {
   "cell_type": "code",
   "execution_count": null,
   "outputs": [],
   "source": [
    "predicted_data_response_knn = requests.post('http://127.0.0.1:8000/model/predict_knn',  json=X_dict) # local address\n",
    "predicted_results_knn = pd.read_json(StringIO(predicted_data_response_knn.json())).set_index('index')\n",
    "predicted_results_knn"
   ],
   "metadata": {
    "collapsed": false,
    "ExecuteTime": {
     "start_time": "2024-01-17T22:19:56.181345700Z"
    }
   },
   "id": "31f352c19bf81161"
  },
  {
   "cell_type": "markdown",
   "source": [
    "##### 5. Logreg"
   ],
   "metadata": {
    "collapsed": false
   },
   "id": "36de0b809ae1a74f"
  },
  {
   "cell_type": "code",
   "execution_count": null,
   "outputs": [],
   "source": [
    "predicted_data_response_logreg = requests.post('http://127.0.0.1:8000/model/predict_logreg',  json=X_dict) # local address\n",
    "predicted_results_logreg = pd.read_json(StringIO(predicted_data_response_logreg.json())).set_index('index')\n",
    "predicted_results_logreg"
   ],
   "metadata": {
    "collapsed": false,
    "ExecuteTime": {
     "end_time": "2024-01-17T22:19:56.185350700Z",
     "start_time": "2024-01-17T22:19:56.183315700Z"
    }
   },
   "id": "5b57851851927f1a"
  },
  {
   "cell_type": "markdown",
   "source": [
    "##### 6. Naive Bayes\n"
   ],
   "metadata": {
    "collapsed": false
   },
   "id": "859b5a0651b4540d"
  },
  {
   "cell_type": "code",
   "execution_count": null,
   "outputs": [],
   "source": [
    "predicted_data_response_nb = requests.post('http://127.0.0.1:8000/model/predict_nb',  json=X_dict) # local address\n",
    "predicted_results_nb = pd.read_json(StringIO(predicted_data_response_nb.json())).set_index('index')\n",
    "predicted_results_nb"
   ],
   "metadata": {
    "collapsed": false,
    "ExecuteTime": {
     "start_time": "2024-01-17T22:19:56.184347500Z"
    }
   },
   "id": "eec25b917f3a765f"
  },
  {
   "cell_type": "markdown",
   "source": [
    "##### 7. Ensemble"
   ],
   "metadata": {
    "collapsed": false
   },
   "id": "beb2b8f9708ff880"
  },
  {
   "cell_type": "code",
   "execution_count": 8,
   "outputs": [
    {
     "ename": "ConnectionError",
     "evalue": "HTTPConnectionPool(host='127.0.0.1', port=8000): Max retries exceeded with url: /model/predict_ens (Caused by NewConnectionError('<urllib3.connection.HTTPConnection object at 0x000001D005B056C0>: Failed to establish a new connection: [WinError 10061] Подключение не установлено, т.к. конечный компьютер отверг запрос на подключение'))",
     "output_type": "error",
     "traceback": [
      "\u001B[1;31m---------------------------------------------------------------------------\u001B[0m",
      "\u001B[1;31mConnectionRefusedError\u001B[0m                    Traceback (most recent call last)",
      "File \u001B[1;32mC:\\ProgramData\\anaconda3\\envs\\kanagawa\\lib\\site-packages\\urllib3\\connection.py:203\u001B[0m, in \u001B[0;36mHTTPConnection._new_conn\u001B[1;34m(self)\u001B[0m\n\u001B[0;32m    202\u001B[0m \u001B[38;5;28;01mtry\u001B[39;00m:\n\u001B[1;32m--> 203\u001B[0m     sock \u001B[38;5;241m=\u001B[39m \u001B[43mconnection\u001B[49m\u001B[38;5;241;43m.\u001B[39;49m\u001B[43mcreate_connection\u001B[49m\u001B[43m(\u001B[49m\n\u001B[0;32m    204\u001B[0m \u001B[43m        \u001B[49m\u001B[43m(\u001B[49m\u001B[38;5;28;43mself\u001B[39;49m\u001B[38;5;241;43m.\u001B[39;49m\u001B[43m_dns_host\u001B[49m\u001B[43m,\u001B[49m\u001B[43m \u001B[49m\u001B[38;5;28;43mself\u001B[39;49m\u001B[38;5;241;43m.\u001B[39;49m\u001B[43mport\u001B[49m\u001B[43m)\u001B[49m\u001B[43m,\u001B[49m\n\u001B[0;32m    205\u001B[0m \u001B[43m        \u001B[49m\u001B[38;5;28;43mself\u001B[39;49m\u001B[38;5;241;43m.\u001B[39;49m\u001B[43mtimeout\u001B[49m\u001B[43m,\u001B[49m\n\u001B[0;32m    206\u001B[0m \u001B[43m        \u001B[49m\u001B[43msource_address\u001B[49m\u001B[38;5;241;43m=\u001B[39;49m\u001B[38;5;28;43mself\u001B[39;49m\u001B[38;5;241;43m.\u001B[39;49m\u001B[43msource_address\u001B[49m\u001B[43m,\u001B[49m\n\u001B[0;32m    207\u001B[0m \u001B[43m        \u001B[49m\u001B[43msocket_options\u001B[49m\u001B[38;5;241;43m=\u001B[39;49m\u001B[38;5;28;43mself\u001B[39;49m\u001B[38;5;241;43m.\u001B[39;49m\u001B[43msocket_options\u001B[49m\u001B[43m,\u001B[49m\n\u001B[0;32m    208\u001B[0m \u001B[43m    \u001B[49m\u001B[43m)\u001B[49m\n\u001B[0;32m    209\u001B[0m \u001B[38;5;28;01mexcept\u001B[39;00m socket\u001B[38;5;241m.\u001B[39mgaierror \u001B[38;5;28;01mas\u001B[39;00m e:\n",
      "File \u001B[1;32mC:\\ProgramData\\anaconda3\\envs\\kanagawa\\lib\\site-packages\\urllib3\\util\\connection.py:85\u001B[0m, in \u001B[0;36mcreate_connection\u001B[1;34m(address, timeout, source_address, socket_options)\u001B[0m\n\u001B[0;32m     84\u001B[0m \u001B[38;5;28;01mtry\u001B[39;00m:\n\u001B[1;32m---> 85\u001B[0m     \u001B[38;5;28;01mraise\u001B[39;00m err\n\u001B[0;32m     86\u001B[0m \u001B[38;5;28;01mfinally\u001B[39;00m:\n\u001B[0;32m     87\u001B[0m     \u001B[38;5;66;03m# Break explicitly a reference cycle\u001B[39;00m\n",
      "File \u001B[1;32mC:\\ProgramData\\anaconda3\\envs\\kanagawa\\lib\\site-packages\\urllib3\\util\\connection.py:73\u001B[0m, in \u001B[0;36mcreate_connection\u001B[1;34m(address, timeout, source_address, socket_options)\u001B[0m\n\u001B[0;32m     72\u001B[0m     sock\u001B[38;5;241m.\u001B[39mbind(source_address)\n\u001B[1;32m---> 73\u001B[0m \u001B[43msock\u001B[49m\u001B[38;5;241;43m.\u001B[39;49m\u001B[43mconnect\u001B[49m\u001B[43m(\u001B[49m\u001B[43msa\u001B[49m\u001B[43m)\u001B[49m\n\u001B[0;32m     74\u001B[0m \u001B[38;5;66;03m# Break explicitly a reference cycle\u001B[39;00m\n",
      "\u001B[1;31mConnectionRefusedError\u001B[0m: [WinError 10061] Подключение не установлено, т.к. конечный компьютер отверг запрос на подключение",
      "\nThe above exception was the direct cause of the following exception:\n",
      "\u001B[1;31mNewConnectionError\u001B[0m                        Traceback (most recent call last)",
      "File \u001B[1;32mC:\\ProgramData\\anaconda3\\envs\\kanagawa\\lib\\site-packages\\urllib3\\connectionpool.py:790\u001B[0m, in \u001B[0;36mHTTPConnectionPool.urlopen\u001B[1;34m(self, method, url, body, headers, retries, redirect, assert_same_host, timeout, pool_timeout, release_conn, chunked, body_pos, preload_content, decode_content, **response_kw)\u001B[0m\n\u001B[0;32m    789\u001B[0m \u001B[38;5;66;03m# Make the request on the HTTPConnection object\u001B[39;00m\n\u001B[1;32m--> 790\u001B[0m response \u001B[38;5;241m=\u001B[39m \u001B[38;5;28mself\u001B[39m\u001B[38;5;241m.\u001B[39m_make_request(\n\u001B[0;32m    791\u001B[0m     conn,\n\u001B[0;32m    792\u001B[0m     method,\n\u001B[0;32m    793\u001B[0m     url,\n\u001B[0;32m    794\u001B[0m     timeout\u001B[38;5;241m=\u001B[39mtimeout_obj,\n\u001B[0;32m    795\u001B[0m     body\u001B[38;5;241m=\u001B[39mbody,\n\u001B[0;32m    796\u001B[0m     headers\u001B[38;5;241m=\u001B[39mheaders,\n\u001B[0;32m    797\u001B[0m     chunked\u001B[38;5;241m=\u001B[39mchunked,\n\u001B[0;32m    798\u001B[0m     retries\u001B[38;5;241m=\u001B[39mretries,\n\u001B[0;32m    799\u001B[0m     response_conn\u001B[38;5;241m=\u001B[39mresponse_conn,\n\u001B[0;32m    800\u001B[0m     preload_content\u001B[38;5;241m=\u001B[39mpreload_content,\n\u001B[0;32m    801\u001B[0m     decode_content\u001B[38;5;241m=\u001B[39mdecode_content,\n\u001B[0;32m    802\u001B[0m     \u001B[38;5;241m*\u001B[39m\u001B[38;5;241m*\u001B[39mresponse_kw,\n\u001B[0;32m    803\u001B[0m )\n\u001B[0;32m    805\u001B[0m \u001B[38;5;66;03m# Everything went great!\u001B[39;00m\n",
      "File \u001B[1;32mC:\\ProgramData\\anaconda3\\envs\\kanagawa\\lib\\site-packages\\urllib3\\connectionpool.py:496\u001B[0m, in \u001B[0;36mHTTPConnectionPool._make_request\u001B[1;34m(self, conn, method, url, body, headers, retries, timeout, chunked, response_conn, preload_content, decode_content, enforce_content_length)\u001B[0m\n\u001B[0;32m    495\u001B[0m \u001B[38;5;28;01mtry\u001B[39;00m:\n\u001B[1;32m--> 496\u001B[0m     \u001B[43mconn\u001B[49m\u001B[38;5;241;43m.\u001B[39;49m\u001B[43mrequest\u001B[49m\u001B[43m(\u001B[49m\n\u001B[0;32m    497\u001B[0m \u001B[43m        \u001B[49m\u001B[43mmethod\u001B[49m\u001B[43m,\u001B[49m\n\u001B[0;32m    498\u001B[0m \u001B[43m        \u001B[49m\u001B[43murl\u001B[49m\u001B[43m,\u001B[49m\n\u001B[0;32m    499\u001B[0m \u001B[43m        \u001B[49m\u001B[43mbody\u001B[49m\u001B[38;5;241;43m=\u001B[39;49m\u001B[43mbody\u001B[49m\u001B[43m,\u001B[49m\n\u001B[0;32m    500\u001B[0m \u001B[43m        \u001B[49m\u001B[43mheaders\u001B[49m\u001B[38;5;241;43m=\u001B[39;49m\u001B[43mheaders\u001B[49m\u001B[43m,\u001B[49m\n\u001B[0;32m    501\u001B[0m \u001B[43m        \u001B[49m\u001B[43mchunked\u001B[49m\u001B[38;5;241;43m=\u001B[39;49m\u001B[43mchunked\u001B[49m\u001B[43m,\u001B[49m\n\u001B[0;32m    502\u001B[0m \u001B[43m        \u001B[49m\u001B[43mpreload_content\u001B[49m\u001B[38;5;241;43m=\u001B[39;49m\u001B[43mpreload_content\u001B[49m\u001B[43m,\u001B[49m\n\u001B[0;32m    503\u001B[0m \u001B[43m        \u001B[49m\u001B[43mdecode_content\u001B[49m\u001B[38;5;241;43m=\u001B[39;49m\u001B[43mdecode_content\u001B[49m\u001B[43m,\u001B[49m\n\u001B[0;32m    504\u001B[0m \u001B[43m        \u001B[49m\u001B[43menforce_content_length\u001B[49m\u001B[38;5;241;43m=\u001B[39;49m\u001B[43menforce_content_length\u001B[49m\u001B[43m,\u001B[49m\n\u001B[0;32m    505\u001B[0m \u001B[43m    \u001B[49m\u001B[43m)\u001B[49m\n\u001B[0;32m    507\u001B[0m \u001B[38;5;66;03m# We are swallowing BrokenPipeError (errno.EPIPE) since the server is\u001B[39;00m\n\u001B[0;32m    508\u001B[0m \u001B[38;5;66;03m# legitimately able to close the connection after sending a valid response.\u001B[39;00m\n\u001B[0;32m    509\u001B[0m \u001B[38;5;66;03m# With this behaviour, the received response is still readable.\u001B[39;00m\n",
      "File \u001B[1;32mC:\\ProgramData\\anaconda3\\envs\\kanagawa\\lib\\site-packages\\urllib3\\connection.py:395\u001B[0m, in \u001B[0;36mHTTPConnection.request\u001B[1;34m(self, method, url, body, headers, chunked, preload_content, decode_content, enforce_content_length)\u001B[0m\n\u001B[0;32m    394\u001B[0m     \u001B[38;5;28mself\u001B[39m\u001B[38;5;241m.\u001B[39mputheader(header, value)\n\u001B[1;32m--> 395\u001B[0m \u001B[38;5;28;43mself\u001B[39;49m\u001B[38;5;241;43m.\u001B[39;49m\u001B[43mendheaders\u001B[49m\u001B[43m(\u001B[49m\u001B[43m)\u001B[49m\n\u001B[0;32m    397\u001B[0m \u001B[38;5;66;03m# If we're given a body we start sending that in chunks.\u001B[39;00m\n",
      "File \u001B[1;32mC:\\ProgramData\\anaconda3\\envs\\kanagawa\\lib\\http\\client.py:1278\u001B[0m, in \u001B[0;36mHTTPConnection.endheaders\u001B[1;34m(self, message_body, encode_chunked)\u001B[0m\n\u001B[0;32m   1277\u001B[0m     \u001B[38;5;28;01mraise\u001B[39;00m CannotSendHeader()\n\u001B[1;32m-> 1278\u001B[0m \u001B[38;5;28;43mself\u001B[39;49m\u001B[38;5;241;43m.\u001B[39;49m\u001B[43m_send_output\u001B[49m\u001B[43m(\u001B[49m\u001B[43mmessage_body\u001B[49m\u001B[43m,\u001B[49m\u001B[43m \u001B[49m\u001B[43mencode_chunked\u001B[49m\u001B[38;5;241;43m=\u001B[39;49m\u001B[43mencode_chunked\u001B[49m\u001B[43m)\u001B[49m\n",
      "File \u001B[1;32mC:\\ProgramData\\anaconda3\\envs\\kanagawa\\lib\\http\\client.py:1038\u001B[0m, in \u001B[0;36mHTTPConnection._send_output\u001B[1;34m(self, message_body, encode_chunked)\u001B[0m\n\u001B[0;32m   1037\u001B[0m \u001B[38;5;28;01mdel\u001B[39;00m \u001B[38;5;28mself\u001B[39m\u001B[38;5;241m.\u001B[39m_buffer[:]\n\u001B[1;32m-> 1038\u001B[0m \u001B[38;5;28;43mself\u001B[39;49m\u001B[38;5;241;43m.\u001B[39;49m\u001B[43msend\u001B[49m\u001B[43m(\u001B[49m\u001B[43mmsg\u001B[49m\u001B[43m)\u001B[49m\n\u001B[0;32m   1040\u001B[0m \u001B[38;5;28;01mif\u001B[39;00m message_body \u001B[38;5;129;01mis\u001B[39;00m \u001B[38;5;129;01mnot\u001B[39;00m \u001B[38;5;28;01mNone\u001B[39;00m:\n\u001B[0;32m   1041\u001B[0m \n\u001B[0;32m   1042\u001B[0m     \u001B[38;5;66;03m# create a consistent interface to message_body\u001B[39;00m\n",
      "File \u001B[1;32mC:\\ProgramData\\anaconda3\\envs\\kanagawa\\lib\\http\\client.py:976\u001B[0m, in \u001B[0;36mHTTPConnection.send\u001B[1;34m(self, data)\u001B[0m\n\u001B[0;32m    975\u001B[0m \u001B[38;5;28;01mif\u001B[39;00m \u001B[38;5;28mself\u001B[39m\u001B[38;5;241m.\u001B[39mauto_open:\n\u001B[1;32m--> 976\u001B[0m     \u001B[38;5;28;43mself\u001B[39;49m\u001B[38;5;241;43m.\u001B[39;49m\u001B[43mconnect\u001B[49m\u001B[43m(\u001B[49m\u001B[43m)\u001B[49m\n\u001B[0;32m    977\u001B[0m \u001B[38;5;28;01melse\u001B[39;00m:\n",
      "File \u001B[1;32mC:\\ProgramData\\anaconda3\\envs\\kanagawa\\lib\\site-packages\\urllib3\\connection.py:243\u001B[0m, in \u001B[0;36mHTTPConnection.connect\u001B[1;34m(self)\u001B[0m\n\u001B[0;32m    242\u001B[0m \u001B[38;5;28;01mdef\u001B[39;00m \u001B[38;5;21mconnect\u001B[39m(\u001B[38;5;28mself\u001B[39m) \u001B[38;5;241m-\u001B[39m\u001B[38;5;241m>\u001B[39m \u001B[38;5;28;01mNone\u001B[39;00m:\n\u001B[1;32m--> 243\u001B[0m     \u001B[38;5;28mself\u001B[39m\u001B[38;5;241m.\u001B[39msock \u001B[38;5;241m=\u001B[39m \u001B[38;5;28;43mself\u001B[39;49m\u001B[38;5;241;43m.\u001B[39;49m\u001B[43m_new_conn\u001B[49m\u001B[43m(\u001B[49m\u001B[43m)\u001B[49m\n\u001B[0;32m    244\u001B[0m     \u001B[38;5;28;01mif\u001B[39;00m \u001B[38;5;28mself\u001B[39m\u001B[38;5;241m.\u001B[39m_tunnel_host:\n\u001B[0;32m    245\u001B[0m         \u001B[38;5;66;03m# If we're tunneling it means we're connected to our proxy.\u001B[39;00m\n",
      "File \u001B[1;32mC:\\ProgramData\\anaconda3\\envs\\kanagawa\\lib\\site-packages\\urllib3\\connection.py:218\u001B[0m, in \u001B[0;36mHTTPConnection._new_conn\u001B[1;34m(self)\u001B[0m\n\u001B[0;32m    217\u001B[0m \u001B[38;5;28;01mexcept\u001B[39;00m \u001B[38;5;167;01mOSError\u001B[39;00m \u001B[38;5;28;01mas\u001B[39;00m e:\n\u001B[1;32m--> 218\u001B[0m     \u001B[38;5;28;01mraise\u001B[39;00m NewConnectionError(\n\u001B[0;32m    219\u001B[0m         \u001B[38;5;28mself\u001B[39m, \u001B[38;5;124mf\u001B[39m\u001B[38;5;124m\"\u001B[39m\u001B[38;5;124mFailed to establish a new connection: \u001B[39m\u001B[38;5;132;01m{\u001B[39;00me\u001B[38;5;132;01m}\u001B[39;00m\u001B[38;5;124m\"\u001B[39m\n\u001B[0;32m    220\u001B[0m     ) \u001B[38;5;28;01mfrom\u001B[39;00m \u001B[38;5;21;01me\u001B[39;00m\n\u001B[0;32m    222\u001B[0m \u001B[38;5;66;03m# Audit hooks are only available in Python 3.8+\u001B[39;00m\n",
      "\u001B[1;31mNewConnectionError\u001B[0m: <urllib3.connection.HTTPConnection object at 0x000001D005B056C0>: Failed to establish a new connection: [WinError 10061] Подключение не установлено, т.к. конечный компьютер отверг запрос на подключение",
      "\nThe above exception was the direct cause of the following exception:\n",
      "\u001B[1;31mMaxRetryError\u001B[0m                             Traceback (most recent call last)",
      "File \u001B[1;32mC:\\ProgramData\\anaconda3\\envs\\kanagawa\\lib\\site-packages\\requests\\adapters.py:486\u001B[0m, in \u001B[0;36mHTTPAdapter.send\u001B[1;34m(self, request, stream, timeout, verify, cert, proxies)\u001B[0m\n\u001B[0;32m    485\u001B[0m \u001B[38;5;28;01mtry\u001B[39;00m:\n\u001B[1;32m--> 486\u001B[0m     resp \u001B[38;5;241m=\u001B[39m \u001B[43mconn\u001B[49m\u001B[38;5;241;43m.\u001B[39;49m\u001B[43murlopen\u001B[49m\u001B[43m(\u001B[49m\n\u001B[0;32m    487\u001B[0m \u001B[43m        \u001B[49m\u001B[43mmethod\u001B[49m\u001B[38;5;241;43m=\u001B[39;49m\u001B[43mrequest\u001B[49m\u001B[38;5;241;43m.\u001B[39;49m\u001B[43mmethod\u001B[49m\u001B[43m,\u001B[49m\n\u001B[0;32m    488\u001B[0m \u001B[43m        \u001B[49m\u001B[43murl\u001B[49m\u001B[38;5;241;43m=\u001B[39;49m\u001B[43murl\u001B[49m\u001B[43m,\u001B[49m\n\u001B[0;32m    489\u001B[0m \u001B[43m        \u001B[49m\u001B[43mbody\u001B[49m\u001B[38;5;241;43m=\u001B[39;49m\u001B[43mrequest\u001B[49m\u001B[38;5;241;43m.\u001B[39;49m\u001B[43mbody\u001B[49m\u001B[43m,\u001B[49m\n\u001B[0;32m    490\u001B[0m \u001B[43m        \u001B[49m\u001B[43mheaders\u001B[49m\u001B[38;5;241;43m=\u001B[39;49m\u001B[43mrequest\u001B[49m\u001B[38;5;241;43m.\u001B[39;49m\u001B[43mheaders\u001B[49m\u001B[43m,\u001B[49m\n\u001B[0;32m    491\u001B[0m \u001B[43m        \u001B[49m\u001B[43mredirect\u001B[49m\u001B[38;5;241;43m=\u001B[39;49m\u001B[38;5;28;43;01mFalse\u001B[39;49;00m\u001B[43m,\u001B[49m\n\u001B[0;32m    492\u001B[0m \u001B[43m        \u001B[49m\u001B[43massert_same_host\u001B[49m\u001B[38;5;241;43m=\u001B[39;49m\u001B[38;5;28;43;01mFalse\u001B[39;49;00m\u001B[43m,\u001B[49m\n\u001B[0;32m    493\u001B[0m \u001B[43m        \u001B[49m\u001B[43mpreload_content\u001B[49m\u001B[38;5;241;43m=\u001B[39;49m\u001B[38;5;28;43;01mFalse\u001B[39;49;00m\u001B[43m,\u001B[49m\n\u001B[0;32m    494\u001B[0m \u001B[43m        \u001B[49m\u001B[43mdecode_content\u001B[49m\u001B[38;5;241;43m=\u001B[39;49m\u001B[38;5;28;43;01mFalse\u001B[39;49;00m\u001B[43m,\u001B[49m\n\u001B[0;32m    495\u001B[0m \u001B[43m        \u001B[49m\u001B[43mretries\u001B[49m\u001B[38;5;241;43m=\u001B[39;49m\u001B[38;5;28;43mself\u001B[39;49m\u001B[38;5;241;43m.\u001B[39;49m\u001B[43mmax_retries\u001B[49m\u001B[43m,\u001B[49m\n\u001B[0;32m    496\u001B[0m \u001B[43m        \u001B[49m\u001B[43mtimeout\u001B[49m\u001B[38;5;241;43m=\u001B[39;49m\u001B[43mtimeout\u001B[49m\u001B[43m,\u001B[49m\n\u001B[0;32m    497\u001B[0m \u001B[43m        \u001B[49m\u001B[43mchunked\u001B[49m\u001B[38;5;241;43m=\u001B[39;49m\u001B[43mchunked\u001B[49m\u001B[43m,\u001B[49m\n\u001B[0;32m    498\u001B[0m \u001B[43m    \u001B[49m\u001B[43m)\u001B[49m\n\u001B[0;32m    500\u001B[0m \u001B[38;5;28;01mexcept\u001B[39;00m (ProtocolError, \u001B[38;5;167;01mOSError\u001B[39;00m) \u001B[38;5;28;01mas\u001B[39;00m err:\n",
      "File \u001B[1;32mC:\\ProgramData\\anaconda3\\envs\\kanagawa\\lib\\site-packages\\urllib3\\connectionpool.py:844\u001B[0m, in \u001B[0;36mHTTPConnectionPool.urlopen\u001B[1;34m(self, method, url, body, headers, retries, redirect, assert_same_host, timeout, pool_timeout, release_conn, chunked, body_pos, preload_content, decode_content, **response_kw)\u001B[0m\n\u001B[0;32m    842\u001B[0m     new_e \u001B[38;5;241m=\u001B[39m ProtocolError(\u001B[38;5;124m\"\u001B[39m\u001B[38;5;124mConnection aborted.\u001B[39m\u001B[38;5;124m\"\u001B[39m, new_e)\n\u001B[1;32m--> 844\u001B[0m retries \u001B[38;5;241m=\u001B[39m \u001B[43mretries\u001B[49m\u001B[38;5;241;43m.\u001B[39;49m\u001B[43mincrement\u001B[49m\u001B[43m(\u001B[49m\n\u001B[0;32m    845\u001B[0m \u001B[43m    \u001B[49m\u001B[43mmethod\u001B[49m\u001B[43m,\u001B[49m\u001B[43m \u001B[49m\u001B[43murl\u001B[49m\u001B[43m,\u001B[49m\u001B[43m \u001B[49m\u001B[43merror\u001B[49m\u001B[38;5;241;43m=\u001B[39;49m\u001B[43mnew_e\u001B[49m\u001B[43m,\u001B[49m\u001B[43m \u001B[49m\u001B[43m_pool\u001B[49m\u001B[38;5;241;43m=\u001B[39;49m\u001B[38;5;28;43mself\u001B[39;49m\u001B[43m,\u001B[49m\u001B[43m \u001B[49m\u001B[43m_stacktrace\u001B[49m\u001B[38;5;241;43m=\u001B[39;49m\u001B[43msys\u001B[49m\u001B[38;5;241;43m.\u001B[39;49m\u001B[43mexc_info\u001B[49m\u001B[43m(\u001B[49m\u001B[43m)\u001B[49m\u001B[43m[\u001B[49m\u001B[38;5;241;43m2\u001B[39;49m\u001B[43m]\u001B[49m\n\u001B[0;32m    846\u001B[0m \u001B[43m\u001B[49m\u001B[43m)\u001B[49m\n\u001B[0;32m    847\u001B[0m retries\u001B[38;5;241m.\u001B[39msleep()\n",
      "File \u001B[1;32mC:\\ProgramData\\anaconda3\\envs\\kanagawa\\lib\\site-packages\\urllib3\\util\\retry.py:515\u001B[0m, in \u001B[0;36mRetry.increment\u001B[1;34m(self, method, url, response, error, _pool, _stacktrace)\u001B[0m\n\u001B[0;32m    514\u001B[0m     reason \u001B[38;5;241m=\u001B[39m error \u001B[38;5;129;01mor\u001B[39;00m ResponseError(cause)\n\u001B[1;32m--> 515\u001B[0m     \u001B[38;5;28;01mraise\u001B[39;00m MaxRetryError(_pool, url, reason) \u001B[38;5;28;01mfrom\u001B[39;00m \u001B[38;5;21;01mreason\u001B[39;00m  \u001B[38;5;66;03m# type: ignore[arg-type]\u001B[39;00m\n\u001B[0;32m    517\u001B[0m log\u001B[38;5;241m.\u001B[39mdebug(\u001B[38;5;124m\"\u001B[39m\u001B[38;5;124mIncremented Retry for (url=\u001B[39m\u001B[38;5;124m'\u001B[39m\u001B[38;5;132;01m%s\u001B[39;00m\u001B[38;5;124m'\u001B[39m\u001B[38;5;124m): \u001B[39m\u001B[38;5;132;01m%r\u001B[39;00m\u001B[38;5;124m\"\u001B[39m, url, new_retry)\n",
      "\u001B[1;31mMaxRetryError\u001B[0m: HTTPConnectionPool(host='127.0.0.1', port=8000): Max retries exceeded with url: /model/predict_ens (Caused by NewConnectionError('<urllib3.connection.HTTPConnection object at 0x000001D005B056C0>: Failed to establish a new connection: [WinError 10061] Подключение не установлено, т.к. конечный компьютер отверг запрос на подключение'))",
      "\nDuring handling of the above exception, another exception occurred:\n",
      "\u001B[1;31mConnectionError\u001B[0m                           Traceback (most recent call last)",
      "Cell \u001B[1;32mIn[8], line 1\u001B[0m\n\u001B[1;32m----> 1\u001B[0m predicted_data_response_ens \u001B[38;5;241m=\u001B[39m \u001B[43mrequests\u001B[49m\u001B[38;5;241;43m.\u001B[39;49m\u001B[43mpost\u001B[49m\u001B[43m(\u001B[49m\u001B[38;5;124;43m'\u001B[39;49m\u001B[38;5;124;43mhttp://127.0.0.1:8000/model/predict_ens\u001B[39;49m\u001B[38;5;124;43m'\u001B[39;49m\u001B[43m,\u001B[49m\u001B[43m  \u001B[49m\u001B[43mjson\u001B[49m\u001B[38;5;241;43m=\u001B[39;49m\u001B[43mX_dict\u001B[49m\u001B[43m)\u001B[49m \u001B[38;5;66;03m# local address\u001B[39;00m\n\u001B[0;32m      2\u001B[0m predicted_results_ens \u001B[38;5;241m=\u001B[39m pd\u001B[38;5;241m.\u001B[39mread_json(StringIO(predicted_data_response_ens\u001B[38;5;241m.\u001B[39mjson()))\u001B[38;5;241m.\u001B[39mset_index(\u001B[38;5;124m'\u001B[39m\u001B[38;5;124mindex\u001B[39m\u001B[38;5;124m'\u001B[39m)\n\u001B[0;32m      3\u001B[0m predicted_results_ens\n",
      "File \u001B[1;32mC:\\ProgramData\\anaconda3\\envs\\kanagawa\\lib\\site-packages\\requests\\api.py:115\u001B[0m, in \u001B[0;36mpost\u001B[1;34m(url, data, json, **kwargs)\u001B[0m\n\u001B[0;32m    103\u001B[0m \u001B[38;5;28;01mdef\u001B[39;00m \u001B[38;5;21mpost\u001B[39m(url, data\u001B[38;5;241m=\u001B[39m\u001B[38;5;28;01mNone\u001B[39;00m, json\u001B[38;5;241m=\u001B[39m\u001B[38;5;28;01mNone\u001B[39;00m, \u001B[38;5;241m*\u001B[39m\u001B[38;5;241m*\u001B[39mkwargs):\n\u001B[0;32m    104\u001B[0m \u001B[38;5;250m    \u001B[39m\u001B[38;5;124mr\u001B[39m\u001B[38;5;124;03m\"\"\"Sends a POST request.\u001B[39;00m\n\u001B[0;32m    105\u001B[0m \n\u001B[0;32m    106\u001B[0m \u001B[38;5;124;03m    :param url: URL for the new :class:`Request` object.\u001B[39;00m\n\u001B[1;32m   (...)\u001B[0m\n\u001B[0;32m    112\u001B[0m \u001B[38;5;124;03m    :rtype: requests.Response\u001B[39;00m\n\u001B[0;32m    113\u001B[0m \u001B[38;5;124;03m    \"\"\"\u001B[39;00m\n\u001B[1;32m--> 115\u001B[0m     \u001B[38;5;28;01mreturn\u001B[39;00m request(\u001B[38;5;124m\"\u001B[39m\u001B[38;5;124mpost\u001B[39m\u001B[38;5;124m\"\u001B[39m, url, data\u001B[38;5;241m=\u001B[39mdata, json\u001B[38;5;241m=\u001B[39mjson, \u001B[38;5;241m*\u001B[39m\u001B[38;5;241m*\u001B[39mkwargs)\n",
      "File \u001B[1;32mC:\\ProgramData\\anaconda3\\envs\\kanagawa\\lib\\site-packages\\requests\\api.py:59\u001B[0m, in \u001B[0;36mrequest\u001B[1;34m(method, url, **kwargs)\u001B[0m\n\u001B[0;32m     55\u001B[0m \u001B[38;5;66;03m# By using the 'with' statement we are sure the session is closed, thus we\u001B[39;00m\n\u001B[0;32m     56\u001B[0m \u001B[38;5;66;03m# avoid leaving sockets open which can trigger a ResourceWarning in some\u001B[39;00m\n\u001B[0;32m     57\u001B[0m \u001B[38;5;66;03m# cases, and look like a memory leak in others.\u001B[39;00m\n\u001B[0;32m     58\u001B[0m \u001B[38;5;28;01mwith\u001B[39;00m sessions\u001B[38;5;241m.\u001B[39mSession() \u001B[38;5;28;01mas\u001B[39;00m session:\n\u001B[1;32m---> 59\u001B[0m     \u001B[38;5;28;01mreturn\u001B[39;00m session\u001B[38;5;241m.\u001B[39mrequest(method\u001B[38;5;241m=\u001B[39mmethod, url\u001B[38;5;241m=\u001B[39murl, \u001B[38;5;241m*\u001B[39m\u001B[38;5;241m*\u001B[39mkwargs)\n",
      "File \u001B[1;32mC:\\ProgramData\\anaconda3\\envs\\kanagawa\\lib\\site-packages\\requests\\sessions.py:589\u001B[0m, in \u001B[0;36mSession.request\u001B[1;34m(self, method, url, params, data, headers, cookies, files, auth, timeout, allow_redirects, proxies, hooks, stream, verify, cert, json)\u001B[0m\n\u001B[0;32m    584\u001B[0m send_kwargs \u001B[38;5;241m=\u001B[39m {\n\u001B[0;32m    585\u001B[0m     \u001B[38;5;124m\"\u001B[39m\u001B[38;5;124mtimeout\u001B[39m\u001B[38;5;124m\"\u001B[39m: timeout,\n\u001B[0;32m    586\u001B[0m     \u001B[38;5;124m\"\u001B[39m\u001B[38;5;124mallow_redirects\u001B[39m\u001B[38;5;124m\"\u001B[39m: allow_redirects,\n\u001B[0;32m    587\u001B[0m }\n\u001B[0;32m    588\u001B[0m send_kwargs\u001B[38;5;241m.\u001B[39mupdate(settings)\n\u001B[1;32m--> 589\u001B[0m resp \u001B[38;5;241m=\u001B[39m \u001B[38;5;28mself\u001B[39m\u001B[38;5;241m.\u001B[39msend(prep, \u001B[38;5;241m*\u001B[39m\u001B[38;5;241m*\u001B[39msend_kwargs)\n\u001B[0;32m    591\u001B[0m \u001B[38;5;28;01mreturn\u001B[39;00m resp\n",
      "File \u001B[1;32mC:\\ProgramData\\anaconda3\\envs\\kanagawa\\lib\\site-packages\\requests\\sessions.py:703\u001B[0m, in \u001B[0;36mSession.send\u001B[1;34m(self, request, **kwargs)\u001B[0m\n\u001B[0;32m    700\u001B[0m start \u001B[38;5;241m=\u001B[39m preferred_clock()\n\u001B[0;32m    702\u001B[0m \u001B[38;5;66;03m# Send the request\u001B[39;00m\n\u001B[1;32m--> 703\u001B[0m r \u001B[38;5;241m=\u001B[39m adapter\u001B[38;5;241m.\u001B[39msend(request, \u001B[38;5;241m*\u001B[39m\u001B[38;5;241m*\u001B[39mkwargs)\n\u001B[0;32m    705\u001B[0m \u001B[38;5;66;03m# Total elapsed time of the request (approximately)\u001B[39;00m\n\u001B[0;32m    706\u001B[0m elapsed \u001B[38;5;241m=\u001B[39m preferred_clock() \u001B[38;5;241m-\u001B[39m start\n",
      "File \u001B[1;32mC:\\ProgramData\\anaconda3\\envs\\kanagawa\\lib\\site-packages\\requests\\adapters.py:519\u001B[0m, in \u001B[0;36mHTTPAdapter.send\u001B[1;34m(self, request, stream, timeout, verify, cert, proxies)\u001B[0m\n\u001B[0;32m    515\u001B[0m     \u001B[38;5;28;01mif\u001B[39;00m \u001B[38;5;28misinstance\u001B[39m(e\u001B[38;5;241m.\u001B[39mreason, _SSLError):\n\u001B[0;32m    516\u001B[0m         \u001B[38;5;66;03m# This branch is for urllib3 v1.22 and later.\u001B[39;00m\n\u001B[0;32m    517\u001B[0m         \u001B[38;5;28;01mraise\u001B[39;00m SSLError(e, request\u001B[38;5;241m=\u001B[39mrequest)\n\u001B[1;32m--> 519\u001B[0m     \u001B[38;5;28;01mraise\u001B[39;00m \u001B[38;5;167;01mConnectionError\u001B[39;00m(e, request\u001B[38;5;241m=\u001B[39mrequest)\n\u001B[0;32m    521\u001B[0m \u001B[38;5;28;01mexcept\u001B[39;00m ClosedPoolError \u001B[38;5;28;01mas\u001B[39;00m e:\n\u001B[0;32m    522\u001B[0m     \u001B[38;5;28;01mraise\u001B[39;00m \u001B[38;5;167;01mConnectionError\u001B[39;00m(e, request\u001B[38;5;241m=\u001B[39mrequest)\n",
      "\u001B[1;31mConnectionError\u001B[0m: HTTPConnectionPool(host='127.0.0.1', port=8000): Max retries exceeded with url: /model/predict_ens (Caused by NewConnectionError('<urllib3.connection.HTTPConnection object at 0x000001D005B056C0>: Failed to establish a new connection: [WinError 10061] Подключение не установлено, т.к. конечный компьютер отверг запрос на подключение'))"
     ]
    }
   ],
   "source": [
    "predicted_data_response_ens = requests.post('http://127.0.0.1:8000/model/predict_ens',  json=X_dict) # local address\n",
    "predicted_results_ens = pd.read_json(StringIO(predicted_data_response_ens.json())).set_index('index')\n",
    "predicted_results_ens"
   ],
   "metadata": {
    "collapsed": false,
    "ExecuteTime": {
     "end_time": "2024-01-17T22:20:00.423278Z",
     "start_time": "2024-01-17T22:19:58.142383100Z"
    }
   },
   "id": "86b6cca94a863d8b"
  },
  {
   "cell_type": "markdown",
   "source": [
    "### 3 Google Cloud Test"
   ],
   "metadata": {
    "collapsed": false
   },
   "id": "ae0507a019dfbc30"
  },
  {
   "cell_type": "code",
   "outputs": [
    {
     "ename": "NameError",
     "evalue": "name 'X_test_dict' is not defined",
     "output_type": "error",
     "traceback": [
      "\u001B[1;31m---------------------------------------------------------------------------\u001B[0m",
      "\u001B[1;31mNameError\u001B[0m                                 Traceback (most recent call last)",
      "Cell \u001B[1;32mIn[17], line 4\u001B[0m\n\u001B[0;32m      1\u001B[0m X_dict \u001B[38;5;241m=\u001B[39m X\u001B[38;5;241m.\u001B[39mreset_index()\u001B[38;5;241m.\u001B[39mto_dict(orient\u001B[38;5;241m=\u001B[39m\u001B[38;5;124m'\u001B[39m\u001B[38;5;124mlist\u001B[39m\u001B[38;5;124m'\u001B[39m)\n\u001B[0;32m      3\u001B[0m \u001B[38;5;66;03m# predicted_data_response_xgb = requests.post('http://127.0.0.1:8000/model/predict_xgb',  json=X_dict) # local address\u001B[39;00m\n\u001B[1;32m----> 4\u001B[0m predicted_data_response \u001B[38;5;241m=\u001B[39m requests\u001B[38;5;241m.\u001B[39mpost(\u001B[38;5;124m'\u001B[39m\u001B[38;5;124mhttps://first-try-6o4cxe37ma-uc.a.run.app/model/predict\u001B[39m\u001B[38;5;124m'\u001B[39m,  json\u001B[38;5;241m=\u001B[39m\u001B[43mX_test_dict\u001B[49m) \u001B[38;5;66;03m# docker address\u001B[39;00m\n\u001B[0;32m      7\u001B[0m \u001B[38;5;28mprint\u001B[39m(predicted_data_response_xgb)\n\u001B[0;32m      8\u001B[0m \u001B[38;5;28mprint\u001B[39m(predicted_data_response_xgb\u001B[38;5;241m.\u001B[39mtext)\n",
      "\u001B[1;31mNameError\u001B[0m: name 'X_test_dict' is not defined"
     ]
    }
   ],
   "source": [
    "\n",
    "\n",
    "X_dict = X.reset_index().to_dict(orient='list')\n",
    "\n",
    "# predicted_data_response_xgb = requests.post('http://127.0.0.1:8000/model/predict_xgb',  json=X_dict) # local address\n",
    "predicted_data_response = requests.post('https://first-try-6o4cxe37ma-uc.a.run.app/model/predict',  json=X_test_dict) # docker address\n",
    "\n",
    "\n",
    "print(predicted_data_response_xgb)\n",
    "print(predicted_data_response_xgb.text)"
   ],
   "metadata": {
    "collapsed": false,
    "ExecuteTime": {
     "end_time": "2024-01-17T22:21:01.471456Z",
     "start_time": "2024-01-17T22:21:01.436875700Z"
    }
   },
   "id": "cf6c3c63cb1036e7",
   "execution_count": 17
  },
  {
   "cell_type": "code",
   "outputs": [],
   "source": [
    "X_dict = X.reset_index().to_dict(orient='list')\n",
    "predicted_data_response_xgb = requests.post('https://covidapp-bmvhwrbbeq-lm.a.run.app/model/predict_xgb',  json=X_dict) # docker address"
   ],
   "metadata": {
    "collapsed": false,
    "ExecuteTime": {
     "end_time": "2024-01-18T12:07:33.799043600Z",
     "start_time": "2024-01-18T12:05:46.618004800Z"
    }
   },
   "id": "3e33a01c18cba866",
   "execution_count": 39
  },
  {
   "cell_type": "code",
   "outputs": [
    {
     "name": "stdout",
     "output_type": "stream",
     "text": [
      "<Response [200]>\n",
      "\"{\\\"index\\\":{\\\"0\\\":0,\\\"1\\\":1,\\\"2\\\":2,\\\"3\\\":3,\\\"4\\\":4},\\\"0\\\":{\\\"0\\\":0,\\\"1\\\":0,\\\"2\\\":0,\\\"3\\\":0,\\\"4\\\":0}}\"\n"
     ]
    }
   ],
   "source": [
    "print(predicted_data_response_xgb)\n",
    "print(predicted_data_response_xgb.text)"
   ],
   "metadata": {
    "collapsed": false,
    "ExecuteTime": {
     "end_time": "2024-01-17T22:21:42.305035700Z",
     "start_time": "2024-01-17T22:21:42.288035600Z"
    }
   },
   "id": "ff4995cdf6cfc421",
   "execution_count": 24
  },
  {
   "cell_type": "code",
   "outputs": [
    {
     "data": {
      "text/plain": "       0\nindex   \n0      0\n1      0\n2      0\n3      0\n4      0",
      "text/html": "<div>\n<style scoped>\n    .dataframe tbody tr th:only-of-type {\n        vertical-align: middle;\n    }\n\n    .dataframe tbody tr th {\n        vertical-align: top;\n    }\n\n    .dataframe thead th {\n        text-align: right;\n    }\n</style>\n<table border=\"1\" class=\"dataframe\">\n  <thead>\n    <tr style=\"text-align: right;\">\n      <th></th>\n      <th>0</th>\n    </tr>\n    <tr>\n      <th>index</th>\n      <th></th>\n    </tr>\n  </thead>\n  <tbody>\n    <tr>\n      <th>0</th>\n      <td>0</td>\n    </tr>\n    <tr>\n      <th>1</th>\n      <td>0</td>\n    </tr>\n    <tr>\n      <th>2</th>\n      <td>0</td>\n    </tr>\n    <tr>\n      <th>3</th>\n      <td>0</td>\n    </tr>\n    <tr>\n      <th>4</th>\n      <td>0</td>\n    </tr>\n  </tbody>\n</table>\n</div>"
     },
     "execution_count": 25,
     "metadata": {},
     "output_type": "execute_result"
    }
   ],
   "source": [
    "predicted_results = pd.read_json(StringIO(predicted_data_response_xgb.json())).set_index('index')\n",
    "predicted_results"
   ],
   "metadata": {
    "collapsed": false,
    "ExecuteTime": {
     "end_time": "2024-01-17T22:21:43.960245900Z",
     "start_time": "2024-01-17T22:21:43.921248Z"
    }
   },
   "id": "459e13b42a5bfea0",
   "execution_count": 25
  },
  {
   "cell_type": "markdown",
   "source": [],
   "metadata": {
    "collapsed": false
   },
   "id": "2aa466ee3978924d"
  },
  {
   "cell_type": "markdown",
   "source": [
    "##### 2. Catboost"
   ],
   "metadata": {
    "collapsed": false
   },
   "id": "2c5cd60615a42db"
  },
  {
   "cell_type": "code",
   "outputs": [],
   "source": [
    "data"
   ],
   "metadata": {
    "collapsed": false
   },
   "id": "8d8dc4b26d883014"
  },
  {
   "cell_type": "code",
   "outputs": [],
   "source": [
    "X = pd.read_csv('X.csv')"
   ],
   "metadata": {
    "collapsed": false,
    "ExecuteTime": {
     "end_time": "2024-01-18T11:58:17.195642900Z",
     "start_time": "2024-01-18T11:58:16.965607200Z"
    }
   },
   "id": "60bd33ab6381184a",
   "execution_count": 32
  },
  {
   "cell_type": "code",
   "outputs": [
    {
     "data": {
      "text/plain": "        USMER  MEDICAL_UNIT  SEX  PATIENT_TYPE  INTUBED  PNEUMONIA  AGE  \\\n0           1            12    2             2        2          1   54   \n1           2            12    1             1       97          2   46   \n2           2             3    1             1       97          2   51   \n3           2             4    1             2        2          2   45   \n4           2            12    1             1       97          2   38   \n...       ...           ...  ...           ...      ...        ...  ...   \n269995      2            12    1             1       97          2   50   \n269996      2             6    1             1       97          2   73   \n269997      2            12    2             1       97          2   29   \n269998      1            12    1             2        1          1   53   \n269999      2            12    2             1       97          2   57   \n\n        PREGNANT  DIABETES  COPD  ASTHMA  INMSUPR  HIPERTENSION  \\\n0             97         2     2       2        2             2   \n1              2         2     1       2        2             2   \n2              2         2     2       2        2             2   \n3              2         2     2       2        2             2   \n4              2         2     2       2        2             2   \n...          ...       ...   ...     ...      ...           ...   \n269995         2         2     2       2        2             1   \n269996         2         1     2       2        2             1   \n269997        97         2     2       2        2             2   \n269998         2         2     2       2        2             2   \n269999        97         2     2       2        2             2   \n\n        OTHER_DISEASE  CARDIOVASCULAR  OBESITY  RENAL_CHRONIC  TOBACCO  \\\n0                   1               2        2              2        1   \n1                   2               2        2              2        2   \n2                   2               2        2              2        2   \n3                   2               2        2              2        2   \n4                   2               2        2              2        2   \n...               ...             ...      ...            ...      ...   \n269995              2               2        1              2        2   \n269996              2               2        1              1        2   \n269997              2               2        2              2        2   \n269998              2               2        2              2        2   \n269999              2               2        2              2        2   \n\n        CLASIFFICATION_FINAL  ICU  \n0                          7    2  \n1                          7   97  \n2                          7   97  \n3                          3    2  \n4                          3   97  \n...                      ...  ...  \n269995                     7   97  \n269996                     6   97  \n269997                     3   97  \n269998                     3    1  \n269999                     7   97  \n\n[270000 rows x 20 columns]",
      "text/html": "<div>\n<style scoped>\n    .dataframe tbody tr th:only-of-type {\n        vertical-align: middle;\n    }\n\n    .dataframe tbody tr th {\n        vertical-align: top;\n    }\n\n    .dataframe thead th {\n        text-align: right;\n    }\n</style>\n<table border=\"1\" class=\"dataframe\">\n  <thead>\n    <tr style=\"text-align: right;\">\n      <th></th>\n      <th>USMER</th>\n      <th>MEDICAL_UNIT</th>\n      <th>SEX</th>\n      <th>PATIENT_TYPE</th>\n      <th>INTUBED</th>\n      <th>PNEUMONIA</th>\n      <th>AGE</th>\n      <th>PREGNANT</th>\n      <th>DIABETES</th>\n      <th>COPD</th>\n      <th>ASTHMA</th>\n      <th>INMSUPR</th>\n      <th>HIPERTENSION</th>\n      <th>OTHER_DISEASE</th>\n      <th>CARDIOVASCULAR</th>\n      <th>OBESITY</th>\n      <th>RENAL_CHRONIC</th>\n      <th>TOBACCO</th>\n      <th>CLASIFFICATION_FINAL</th>\n      <th>ICU</th>\n    </tr>\n  </thead>\n  <tbody>\n    <tr>\n      <th>0</th>\n      <td>1</td>\n      <td>12</td>\n      <td>2</td>\n      <td>2</td>\n      <td>2</td>\n      <td>1</td>\n      <td>54</td>\n      <td>97</td>\n      <td>2</td>\n      <td>2</td>\n      <td>2</td>\n      <td>2</td>\n      <td>2</td>\n      <td>1</td>\n      <td>2</td>\n      <td>2</td>\n      <td>2</td>\n      <td>1</td>\n      <td>7</td>\n      <td>2</td>\n    </tr>\n    <tr>\n      <th>1</th>\n      <td>2</td>\n      <td>12</td>\n      <td>1</td>\n      <td>1</td>\n      <td>97</td>\n      <td>2</td>\n      <td>46</td>\n      <td>2</td>\n      <td>2</td>\n      <td>1</td>\n      <td>2</td>\n      <td>2</td>\n      <td>2</td>\n      <td>2</td>\n      <td>2</td>\n      <td>2</td>\n      <td>2</td>\n      <td>2</td>\n      <td>7</td>\n      <td>97</td>\n    </tr>\n    <tr>\n      <th>2</th>\n      <td>2</td>\n      <td>3</td>\n      <td>1</td>\n      <td>1</td>\n      <td>97</td>\n      <td>2</td>\n      <td>51</td>\n      <td>2</td>\n      <td>2</td>\n      <td>2</td>\n      <td>2</td>\n      <td>2</td>\n      <td>2</td>\n      <td>2</td>\n      <td>2</td>\n      <td>2</td>\n      <td>2</td>\n      <td>2</td>\n      <td>7</td>\n      <td>97</td>\n    </tr>\n    <tr>\n      <th>3</th>\n      <td>2</td>\n      <td>4</td>\n      <td>1</td>\n      <td>2</td>\n      <td>2</td>\n      <td>2</td>\n      <td>45</td>\n      <td>2</td>\n      <td>2</td>\n      <td>2</td>\n      <td>2</td>\n      <td>2</td>\n      <td>2</td>\n      <td>2</td>\n      <td>2</td>\n      <td>2</td>\n      <td>2</td>\n      <td>2</td>\n      <td>3</td>\n      <td>2</td>\n    </tr>\n    <tr>\n      <th>4</th>\n      <td>2</td>\n      <td>12</td>\n      <td>1</td>\n      <td>1</td>\n      <td>97</td>\n      <td>2</td>\n      <td>38</td>\n      <td>2</td>\n      <td>2</td>\n      <td>2</td>\n      <td>2</td>\n      <td>2</td>\n      <td>2</td>\n      <td>2</td>\n      <td>2</td>\n      <td>2</td>\n      <td>2</td>\n      <td>2</td>\n      <td>3</td>\n      <td>97</td>\n    </tr>\n    <tr>\n      <th>...</th>\n      <td>...</td>\n      <td>...</td>\n      <td>...</td>\n      <td>...</td>\n      <td>...</td>\n      <td>...</td>\n      <td>...</td>\n      <td>...</td>\n      <td>...</td>\n      <td>...</td>\n      <td>...</td>\n      <td>...</td>\n      <td>...</td>\n      <td>...</td>\n      <td>...</td>\n      <td>...</td>\n      <td>...</td>\n      <td>...</td>\n      <td>...</td>\n      <td>...</td>\n    </tr>\n    <tr>\n      <th>269995</th>\n      <td>2</td>\n      <td>12</td>\n      <td>1</td>\n      <td>1</td>\n      <td>97</td>\n      <td>2</td>\n      <td>50</td>\n      <td>2</td>\n      <td>2</td>\n      <td>2</td>\n      <td>2</td>\n      <td>2</td>\n      <td>1</td>\n      <td>2</td>\n      <td>2</td>\n      <td>1</td>\n      <td>2</td>\n      <td>2</td>\n      <td>7</td>\n      <td>97</td>\n    </tr>\n    <tr>\n      <th>269996</th>\n      <td>2</td>\n      <td>6</td>\n      <td>1</td>\n      <td>1</td>\n      <td>97</td>\n      <td>2</td>\n      <td>73</td>\n      <td>2</td>\n      <td>1</td>\n      <td>2</td>\n      <td>2</td>\n      <td>2</td>\n      <td>1</td>\n      <td>2</td>\n      <td>2</td>\n      <td>1</td>\n      <td>1</td>\n      <td>2</td>\n      <td>6</td>\n      <td>97</td>\n    </tr>\n    <tr>\n      <th>269997</th>\n      <td>2</td>\n      <td>12</td>\n      <td>2</td>\n      <td>1</td>\n      <td>97</td>\n      <td>2</td>\n      <td>29</td>\n      <td>97</td>\n      <td>2</td>\n      <td>2</td>\n      <td>2</td>\n      <td>2</td>\n      <td>2</td>\n      <td>2</td>\n      <td>2</td>\n      <td>2</td>\n      <td>2</td>\n      <td>2</td>\n      <td>3</td>\n      <td>97</td>\n    </tr>\n    <tr>\n      <th>269998</th>\n      <td>1</td>\n      <td>12</td>\n      <td>1</td>\n      <td>2</td>\n      <td>1</td>\n      <td>1</td>\n      <td>53</td>\n      <td>2</td>\n      <td>2</td>\n      <td>2</td>\n      <td>2</td>\n      <td>2</td>\n      <td>2</td>\n      <td>2</td>\n      <td>2</td>\n      <td>2</td>\n      <td>2</td>\n      <td>2</td>\n      <td>3</td>\n      <td>1</td>\n    </tr>\n    <tr>\n      <th>269999</th>\n      <td>2</td>\n      <td>12</td>\n      <td>2</td>\n      <td>1</td>\n      <td>97</td>\n      <td>2</td>\n      <td>57</td>\n      <td>97</td>\n      <td>2</td>\n      <td>2</td>\n      <td>2</td>\n      <td>2</td>\n      <td>2</td>\n      <td>2</td>\n      <td>2</td>\n      <td>2</td>\n      <td>2</td>\n      <td>2</td>\n      <td>7</td>\n      <td>97</td>\n    </tr>\n  </tbody>\n</table>\n<p>270000 rows × 20 columns</p>\n</div>"
     },
     "execution_count": 34,
     "metadata": {},
     "output_type": "execute_result"
    }
   ],
   "source": [
    "X"
   ],
   "metadata": {
    "collapsed": false,
    "ExecuteTime": {
     "end_time": "2024-01-18T12:00:18.557304600Z",
     "start_time": "2024-01-18T12:00:18.530306700Z"
    }
   },
   "id": "82092cfe5a9a6e6f",
   "execution_count": 34
  },
  {
   "cell_type": "code",
   "outputs": [
    {
     "data": {
      "text/plain": "       0\nindex   \n0      1\n1      0\n2      0\n3      0\n4      0\n...   ..\n11000  0\n11001  0\n11002  0\n11003  0\n11004  0\n\n[11005 rows x 1 columns]",
      "text/html": "<div>\n<style scoped>\n    .dataframe tbody tr th:only-of-type {\n        vertical-align: middle;\n    }\n\n    .dataframe tbody tr th {\n        vertical-align: top;\n    }\n\n    .dataframe thead th {\n        text-align: right;\n    }\n</style>\n<table border=\"1\" class=\"dataframe\">\n  <thead>\n    <tr style=\"text-align: right;\">\n      <th></th>\n      <th>0</th>\n    </tr>\n    <tr>\n      <th>index</th>\n      <th></th>\n    </tr>\n  </thead>\n  <tbody>\n    <tr>\n      <th>0</th>\n      <td>1</td>\n    </tr>\n    <tr>\n      <th>1</th>\n      <td>0</td>\n    </tr>\n    <tr>\n      <th>2</th>\n      <td>0</td>\n    </tr>\n    <tr>\n      <th>3</th>\n      <td>0</td>\n    </tr>\n    <tr>\n      <th>4</th>\n      <td>0</td>\n    </tr>\n    <tr>\n      <th>...</th>\n      <td>...</td>\n    </tr>\n    <tr>\n      <th>11000</th>\n      <td>0</td>\n    </tr>\n    <tr>\n      <th>11001</th>\n      <td>0</td>\n    </tr>\n    <tr>\n      <th>11002</th>\n      <td>0</td>\n    </tr>\n    <tr>\n      <th>11003</th>\n      <td>0</td>\n    </tr>\n    <tr>\n      <th>11004</th>\n      <td>0</td>\n    </tr>\n  </tbody>\n</table>\n<p>11005 rows × 1 columns</p>\n</div>"
     },
     "execution_count": 46,
     "metadata": {},
     "output_type": "execute_result"
    }
   ],
   "source": [
    "X_dict = X.reset_index().to_dict(orient='list')\n",
    "predicted_data_response_catb = requests.post('https://covidapp-bmvhwrbbeq-lm.a.run.app/model/predict_catb',  json=X_dict) # local address\n",
    "predicted_results_catb = pd.read_json(StringIO(predicted_data_response_catb.json())).set_index('index')\n",
    "predicted_results_catb"
   ],
   "metadata": {
    "collapsed": false,
    "ExecuteTime": {
     "end_time": "2024-01-18T12:18:39.591868400Z",
     "start_time": "2024-01-18T12:17:04.151864Z"
    }
   },
   "id": "9ac0c16486beb4e7",
   "execution_count": 46
  },
  {
   "cell_type": "markdown",
   "source": [
    "##### 3. LGBM"
   ],
   "metadata": {
    "collapsed": false
   },
   "id": "cb2ca9de0eb3f9fc"
  },
  {
   "cell_type": "code",
   "outputs": [
    {
     "data": {
      "text/plain": "       0\nindex   \n0      0\n1      0\n2      0\n3      0\n4      0",
      "text/html": "<div>\n<style scoped>\n    .dataframe tbody tr th:only-of-type {\n        vertical-align: middle;\n    }\n\n    .dataframe tbody tr th {\n        vertical-align: top;\n    }\n\n    .dataframe thead th {\n        text-align: right;\n    }\n</style>\n<table border=\"1\" class=\"dataframe\">\n  <thead>\n    <tr style=\"text-align: right;\">\n      <th></th>\n      <th>0</th>\n    </tr>\n    <tr>\n      <th>index</th>\n      <th></th>\n    </tr>\n  </thead>\n  <tbody>\n    <tr>\n      <th>0</th>\n      <td>0</td>\n    </tr>\n    <tr>\n      <th>1</th>\n      <td>0</td>\n    </tr>\n    <tr>\n      <th>2</th>\n      <td>0</td>\n    </tr>\n    <tr>\n      <th>3</th>\n      <td>0</td>\n    </tr>\n    <tr>\n      <th>4</th>\n      <td>0</td>\n    </tr>\n  </tbody>\n</table>\n</div>"
     },
     "execution_count": 27,
     "metadata": {},
     "output_type": "execute_result"
    }
   ],
   "source": [
    "predicted_data_response_lgbm = requests.post('https://covidapp-bmvhwrbbeq-lm.a.run.app/model/predict_lgbm',  json=X_dict) # local address\n",
    "predicted_results_lgbm = pd.read_json(StringIO(predicted_data_response_lgbm.json())).set_index('index')\n",
    "predicted_results_lgbm"
   ],
   "metadata": {
    "collapsed": false,
    "ExecuteTime": {
     "end_time": "2024-01-18T06:29:59.207314Z",
     "start_time": "2024-01-18T06:29:58.598315900Z"
    }
   },
   "id": "d122a25df5d8bb0e",
   "execution_count": 27
  },
  {
   "cell_type": "markdown",
   "source": [
    "##### 4. KNN"
   ],
   "metadata": {
    "collapsed": false
   },
   "id": "eeb08bc3052ebfae"
  },
  {
   "cell_type": "code",
   "outputs": [
    {
     "data": {
      "text/plain": "       0\nindex   \n0      0\n1      0\n2      0\n3      0\n4      0",
      "text/html": "<div>\n<style scoped>\n    .dataframe tbody tr th:only-of-type {\n        vertical-align: middle;\n    }\n\n    .dataframe tbody tr th {\n        vertical-align: top;\n    }\n\n    .dataframe thead th {\n        text-align: right;\n    }\n</style>\n<table border=\"1\" class=\"dataframe\">\n  <thead>\n    <tr style=\"text-align: right;\">\n      <th></th>\n      <th>0</th>\n    </tr>\n    <tr>\n      <th>index</th>\n      <th></th>\n    </tr>\n  </thead>\n  <tbody>\n    <tr>\n      <th>0</th>\n      <td>0</td>\n    </tr>\n    <tr>\n      <th>1</th>\n      <td>0</td>\n    </tr>\n    <tr>\n      <th>2</th>\n      <td>0</td>\n    </tr>\n    <tr>\n      <th>3</th>\n      <td>0</td>\n    </tr>\n    <tr>\n      <th>4</th>\n      <td>0</td>\n    </tr>\n  </tbody>\n</table>\n</div>"
     },
     "execution_count": 28,
     "metadata": {},
     "output_type": "execute_result"
    }
   ],
   "source": [
    "predicted_data_response_knn = requests.post('https://covidapp-bmvhwrbbeq-lm.a.run.app/model/predict_knn',  json=X_dict) # local address\n",
    "predicted_results_knn = pd.read_json(StringIO(predicted_data_response_knn.json())).set_index('index')\n",
    "predicted_results_knn"
   ],
   "metadata": {
    "collapsed": false,
    "ExecuteTime": {
     "end_time": "2024-01-18T06:30:00.202654400Z",
     "start_time": "2024-01-18T06:29:59.209315900Z"
    }
   },
   "id": "7ed978497d2d178b",
   "execution_count": 28
  },
  {
   "cell_type": "markdown",
   "source": [
    "##### 5. Logreg"
   ],
   "metadata": {
    "collapsed": false
   },
   "id": "364cfa8eda07f12b"
  },
  {
   "cell_type": "code",
   "outputs": [
    {
     "data": {
      "text/plain": "       0\nindex   \n0      0\n1      0\n2      0\n3      0\n4      0",
      "text/html": "<div>\n<style scoped>\n    .dataframe tbody tr th:only-of-type {\n        vertical-align: middle;\n    }\n\n    .dataframe tbody tr th {\n        vertical-align: top;\n    }\n\n    .dataframe thead th {\n        text-align: right;\n    }\n</style>\n<table border=\"1\" class=\"dataframe\">\n  <thead>\n    <tr style=\"text-align: right;\">\n      <th></th>\n      <th>0</th>\n    </tr>\n    <tr>\n      <th>index</th>\n      <th></th>\n    </tr>\n  </thead>\n  <tbody>\n    <tr>\n      <th>0</th>\n      <td>0</td>\n    </tr>\n    <tr>\n      <th>1</th>\n      <td>0</td>\n    </tr>\n    <tr>\n      <th>2</th>\n      <td>0</td>\n    </tr>\n    <tr>\n      <th>3</th>\n      <td>0</td>\n    </tr>\n    <tr>\n      <th>4</th>\n      <td>0</td>\n    </tr>\n  </tbody>\n</table>\n</div>"
     },
     "execution_count": 29,
     "metadata": {},
     "output_type": "execute_result"
    }
   ],
   "source": [
    "predicted_data_response_logreg = requests.post('https://covidapp-bmvhwrbbeq-lm.a.run.app/model/predict_logreg',  json=X_dict) # local address\n",
    "predicted_results_logreg = pd.read_json(StringIO(predicted_data_response_logreg.json())).set_index('index')\n",
    "predicted_results_logreg"
   ],
   "metadata": {
    "collapsed": false,
    "ExecuteTime": {
     "end_time": "2024-01-18T06:30:01.016658100Z",
     "start_time": "2024-01-18T06:30:00.318654300Z"
    }
   },
   "id": "babc0899e7041d92",
   "execution_count": 29
  },
  {
   "cell_type": "markdown",
   "source": [
    "##### 6. Naive Bayes\n"
   ],
   "metadata": {
    "collapsed": false
   },
   "id": "db460e608f091b1f"
  },
  {
   "cell_type": "code",
   "outputs": [
    {
     "data": {
      "text/plain": "       0\nindex   \n0      0\n1      0\n2      0\n3      0\n4      0",
      "text/html": "<div>\n<style scoped>\n    .dataframe tbody tr th:only-of-type {\n        vertical-align: middle;\n    }\n\n    .dataframe tbody tr th {\n        vertical-align: top;\n    }\n\n    .dataframe thead th {\n        text-align: right;\n    }\n</style>\n<table border=\"1\" class=\"dataframe\">\n  <thead>\n    <tr style=\"text-align: right;\">\n      <th></th>\n      <th>0</th>\n    </tr>\n    <tr>\n      <th>index</th>\n      <th></th>\n    </tr>\n  </thead>\n  <tbody>\n    <tr>\n      <th>0</th>\n      <td>0</td>\n    </tr>\n    <tr>\n      <th>1</th>\n      <td>0</td>\n    </tr>\n    <tr>\n      <th>2</th>\n      <td>0</td>\n    </tr>\n    <tr>\n      <th>3</th>\n      <td>0</td>\n    </tr>\n    <tr>\n      <th>4</th>\n      <td>0</td>\n    </tr>\n  </tbody>\n</table>\n</div>"
     },
     "execution_count": 30,
     "metadata": {},
     "output_type": "execute_result"
    }
   ],
   "source": [
    "predicted_data_response_nb = requests.post('https://covidapp-bmvhwrbbeq-lm.a.run.app/model/predict_nb',  json=X_dict) # local address\n",
    "predicted_results_nb = pd.read_json(StringIO(predicted_data_response_nb.json())).set_index('index')\n",
    "predicted_results_nb"
   ],
   "metadata": {
    "collapsed": false,
    "ExecuteTime": {
     "end_time": "2024-01-18T06:30:01.660654900Z",
     "start_time": "2024-01-18T06:30:01.041655100Z"
    }
   },
   "id": "666e23b4a2ff39c6",
   "execution_count": 30
  },
  {
   "cell_type": "markdown",
   "source": [
    "##### 7. Ensemble"
   ],
   "metadata": {
    "collapsed": false
   },
   "id": "a544e2bb39dd0dbb"
  },
  {
   "cell_type": "code",
   "outputs": [
    {
     "data": {
      "text/plain": "       0\nindex   \n0      0\n1      0\n2      0\n3      0\n4      0",
      "text/html": "<div>\n<style scoped>\n    .dataframe tbody tr th:only-of-type {\n        vertical-align: middle;\n    }\n\n    .dataframe tbody tr th {\n        vertical-align: top;\n    }\n\n    .dataframe thead th {\n        text-align: right;\n    }\n</style>\n<table border=\"1\" class=\"dataframe\">\n  <thead>\n    <tr style=\"text-align: right;\">\n      <th></th>\n      <th>0</th>\n    </tr>\n    <tr>\n      <th>index</th>\n      <th></th>\n    </tr>\n  </thead>\n  <tbody>\n    <tr>\n      <th>0</th>\n      <td>0</td>\n    </tr>\n    <tr>\n      <th>1</th>\n      <td>0</td>\n    </tr>\n    <tr>\n      <th>2</th>\n      <td>0</td>\n    </tr>\n    <tr>\n      <th>3</th>\n      <td>0</td>\n    </tr>\n    <tr>\n      <th>4</th>\n      <td>0</td>\n    </tr>\n  </tbody>\n</table>\n</div>"
     },
     "execution_count": 31,
     "metadata": {},
     "output_type": "execute_result"
    }
   ],
   "source": [
    "predicted_data_response_ens = requests.post('https://covidapp-bmvhwrbbeq-lm.a.run.app/model/predict_ens',  json=X_dict) # local address\n",
    "predicted_results_ens = pd.read_json(StringIO(predicted_data_response_ens.json())).set_index('index')\n",
    "predicted_results_ens"
   ],
   "metadata": {
    "collapsed": false,
    "ExecuteTime": {
     "end_time": "2024-01-18T06:30:02.736209200Z",
     "start_time": "2024-01-18T06:30:01.646655500Z"
    }
   },
   "id": "b8297fbb1366acd7",
   "execution_count": 31
  },
  {
   "cell_type": "code",
   "outputs": [],
   "source": [],
   "metadata": {
    "collapsed": false
   },
   "id": "b23da9b7e7d51031"
  }
 ],
 "metadata": {
  "kernelspec": {
   "display_name": "Python 3",
   "language": "python",
   "name": "python3"
  },
  "language_info": {
   "codemirror_mode": {
    "name": "ipython",
    "version": 2
   },
   "file_extension": ".py",
   "mimetype": "text/x-python",
   "name": "python",
   "nbconvert_exporter": "python",
   "pygments_lexer": "ipython2",
   "version": "2.7.6"
  }
 },
 "nbformat": 4,
 "nbformat_minor": 5
}
